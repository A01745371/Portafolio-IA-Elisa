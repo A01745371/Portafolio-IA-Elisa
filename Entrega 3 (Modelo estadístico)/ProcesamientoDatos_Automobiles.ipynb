{
  "nbformat": 4,
  "nbformat_minor": 0,
  "metadata": {
    "colab": {
      "provenance": [],
      "collapsed_sections": [
        "OFnN8srsMDM3",
        "f5loyctuMH1j",
        "JrvGdq19MKMT",
        "DNjY7fH2MMMY",
        "ne6ndvMPMOzt",
        "CYogLrjCMROX",
        "uNHxdmQwMigI",
        "C654eNqKMlJx",
        "BghbP-AeMorK",
        "8DqFkvSxMtBR",
        "48o7s8jHMvgP",
        "8rRmqojiMxwl",
        "1kujkshNMzDT",
        "D9GRqx6QM1wf",
        "ENeePIntM6Oi",
        "Us_UF2XRM8B3",
        "rhU9dHAHNAA_",
        "lX_3dhUnNJZi",
        "Mx8Te6bkNLAu",
        "3zpNA1lGNMl3",
        "KcdZvOacNOLC",
        "wrxO3jzkNQmO",
        "h2cikgVeNTG4",
        "3_7v_yOaNVFd",
        "Ty-5ogxZNXPh"
      ]
    },
    "kernelspec": {
      "name": "python3",
      "display_name": "Python 3"
    },
    "language_info": {
      "name": "python"
    }
  },
  "cells": [
    {
      "cell_type": "markdown",
      "source": [
        "# Importación de librerías y datos"
      ],
      "metadata": {
        "id": "lPQlmgghWWvU"
      }
    },
    {
      "cell_type": "markdown",
      "source": [
        "Librerías a utilizar"
      ],
      "metadata": {
        "id": "alPfp-MkW4zN"
      }
    },
    {
      "cell_type": "code",
      "source": [
        "import pylab as py\n",
        "import numpy as np\n",
        "import pandas as pd\n",
        "import seaborn as sns\n",
        "from scipy import stats\n",
        "import statsmodels.api as sm\n",
        "import matplotlib.pyplot as mp\n",
        "import matplotlib.pyplot as plt\n",
        "from sklearn.metrics import r2_score\n",
        "from sklearn.metrics import mean_squared_error\n",
        "from sklearn.metrics import mean_absolute_error\n",
        "from sklearn.preprocessing import OneHotEncoder\n",
        "from sklearn.preprocessing import StandardScaler\n",
        "from sklearn.linear_model import LinearRegression\n",
        "from sklearn.model_selection import train_test_split\n",
        "from statsmodels.sandbox.regression.predstd import wls_prediction_std\n",
        "from statsmodels.stats.outliers_influence import variance_inflation_factor"
      ],
      "metadata": {
        "id": "C_EqWzvwW8un"
      },
      "execution_count": null,
      "outputs": []
    },
    {
      "cell_type": "markdown",
      "source": [
        "Dataset"
      ],
      "metadata": {
        "id": "MRoSyvGmW69K"
      }
    },
    {
      "cell_type": "code",
      "source": [
        "df = pd.read_csv('/content/drive/MyDrive/IDM/7mo semestre idm/Elisabetta/Act Procesamiento de Datos/Automobile.csv', na_values = \"?\")"
      ],
      "metadata": {
        "id": "5yxl1m4xW71K"
      },
      "execution_count": null,
      "outputs": []
    },
    {
      "cell_type": "code",
      "source": [
        "df.head()"
      ],
      "metadata": {
        "colab": {
          "base_uri": "https://localhost:8080/",
          "height": 342
        },
        "id": "AJwGzrlUXbar",
        "outputId": "a7d5f51d-7b3e-43a9-816c-55dbe72348b3"
      },
      "execution_count": null,
      "outputs": [
        {
          "output_type": "execute_result",
          "data": {
            "text/plain": [
              "   symboling  normalized-losses         make fuel-type aspiration  \\\n",
              "0          3                NaN  alfa-romero       gas        std   \n",
              "1          3                NaN  alfa-romero       gas        std   \n",
              "2          1                NaN  alfa-romero       gas        std   \n",
              "3          2              164.0         audi       gas        std   \n",
              "4          2              164.0         audi       gas        std   \n",
              "\n",
              "  number-of-doors   body-style drive-wheels engine-location  wheel-base  ...  \\\n",
              "0             two  convertible          rwd           front        88.6  ...   \n",
              "1             two  convertible          rwd           front        88.6  ...   \n",
              "2             two    hatchback          rwd           front        94.5  ...   \n",
              "3            four        sedan          fwd           front        99.8  ...   \n",
              "4            four        sedan          4wd           front        99.4  ...   \n",
              "\n",
              "   engine-size  fuel-system  bore  stroke compression-ratio horsepower  \\\n",
              "0          130         mpfi  3.47    2.68               9.0      111.0   \n",
              "1          130         mpfi  3.47    2.68               9.0      111.0   \n",
              "2          152         mpfi  2.68    3.47               9.0      154.0   \n",
              "3          109         mpfi  3.19    3.40              10.0      102.0   \n",
              "4          136         mpfi  3.19    3.40               8.0      115.0   \n",
              "\n",
              "   peak-rpm city-mpg  highway-mpg    price  \n",
              "0    5000.0       21           27  13495.0  \n",
              "1    5000.0       21           27  16500.0  \n",
              "2    5000.0       19           26  16500.0  \n",
              "3    5500.0       24           30  13950.0  \n",
              "4    5500.0       18           22  17450.0  \n",
              "\n",
              "[5 rows x 26 columns]"
            ],
            "text/html": [
              "\n",
              "  <div id=\"df-994ae092-87b6-4c40-bba1-e9baadf9f321\" class=\"colab-df-container\">\n",
              "    <div>\n",
              "<style scoped>\n",
              "    .dataframe tbody tr th:only-of-type {\n",
              "        vertical-align: middle;\n",
              "    }\n",
              "\n",
              "    .dataframe tbody tr th {\n",
              "        vertical-align: top;\n",
              "    }\n",
              "\n",
              "    .dataframe thead th {\n",
              "        text-align: right;\n",
              "    }\n",
              "</style>\n",
              "<table border=\"1\" class=\"dataframe\">\n",
              "  <thead>\n",
              "    <tr style=\"text-align: right;\">\n",
              "      <th></th>\n",
              "      <th>symboling</th>\n",
              "      <th>normalized-losses</th>\n",
              "      <th>make</th>\n",
              "      <th>fuel-type</th>\n",
              "      <th>aspiration</th>\n",
              "      <th>number-of-doors</th>\n",
              "      <th>body-style</th>\n",
              "      <th>drive-wheels</th>\n",
              "      <th>engine-location</th>\n",
              "      <th>wheel-base</th>\n",
              "      <th>...</th>\n",
              "      <th>engine-size</th>\n",
              "      <th>fuel-system</th>\n",
              "      <th>bore</th>\n",
              "      <th>stroke</th>\n",
              "      <th>compression-ratio</th>\n",
              "      <th>horsepower</th>\n",
              "      <th>peak-rpm</th>\n",
              "      <th>city-mpg</th>\n",
              "      <th>highway-mpg</th>\n",
              "      <th>price</th>\n",
              "    </tr>\n",
              "  </thead>\n",
              "  <tbody>\n",
              "    <tr>\n",
              "      <th>0</th>\n",
              "      <td>3</td>\n",
              "      <td>NaN</td>\n",
              "      <td>alfa-romero</td>\n",
              "      <td>gas</td>\n",
              "      <td>std</td>\n",
              "      <td>two</td>\n",
              "      <td>convertible</td>\n",
              "      <td>rwd</td>\n",
              "      <td>front</td>\n",
              "      <td>88.6</td>\n",
              "      <td>...</td>\n",
              "      <td>130</td>\n",
              "      <td>mpfi</td>\n",
              "      <td>3.47</td>\n",
              "      <td>2.68</td>\n",
              "      <td>9.0</td>\n",
              "      <td>111.0</td>\n",
              "      <td>5000.0</td>\n",
              "      <td>21</td>\n",
              "      <td>27</td>\n",
              "      <td>13495.0</td>\n",
              "    </tr>\n",
              "    <tr>\n",
              "      <th>1</th>\n",
              "      <td>3</td>\n",
              "      <td>NaN</td>\n",
              "      <td>alfa-romero</td>\n",
              "      <td>gas</td>\n",
              "      <td>std</td>\n",
              "      <td>two</td>\n",
              "      <td>convertible</td>\n",
              "      <td>rwd</td>\n",
              "      <td>front</td>\n",
              "      <td>88.6</td>\n",
              "      <td>...</td>\n",
              "      <td>130</td>\n",
              "      <td>mpfi</td>\n",
              "      <td>3.47</td>\n",
              "      <td>2.68</td>\n",
              "      <td>9.0</td>\n",
              "      <td>111.0</td>\n",
              "      <td>5000.0</td>\n",
              "      <td>21</td>\n",
              "      <td>27</td>\n",
              "      <td>16500.0</td>\n",
              "    </tr>\n",
              "    <tr>\n",
              "      <th>2</th>\n",
              "      <td>1</td>\n",
              "      <td>NaN</td>\n",
              "      <td>alfa-romero</td>\n",
              "      <td>gas</td>\n",
              "      <td>std</td>\n",
              "      <td>two</td>\n",
              "      <td>hatchback</td>\n",
              "      <td>rwd</td>\n",
              "      <td>front</td>\n",
              "      <td>94.5</td>\n",
              "      <td>...</td>\n",
              "      <td>152</td>\n",
              "      <td>mpfi</td>\n",
              "      <td>2.68</td>\n",
              "      <td>3.47</td>\n",
              "      <td>9.0</td>\n",
              "      <td>154.0</td>\n",
              "      <td>5000.0</td>\n",
              "      <td>19</td>\n",
              "      <td>26</td>\n",
              "      <td>16500.0</td>\n",
              "    </tr>\n",
              "    <tr>\n",
              "      <th>3</th>\n",
              "      <td>2</td>\n",
              "      <td>164.0</td>\n",
              "      <td>audi</td>\n",
              "      <td>gas</td>\n",
              "      <td>std</td>\n",
              "      <td>four</td>\n",
              "      <td>sedan</td>\n",
              "      <td>fwd</td>\n",
              "      <td>front</td>\n",
              "      <td>99.8</td>\n",
              "      <td>...</td>\n",
              "      <td>109</td>\n",
              "      <td>mpfi</td>\n",
              "      <td>3.19</td>\n",
              "      <td>3.40</td>\n",
              "      <td>10.0</td>\n",
              "      <td>102.0</td>\n",
              "      <td>5500.0</td>\n",
              "      <td>24</td>\n",
              "      <td>30</td>\n",
              "      <td>13950.0</td>\n",
              "    </tr>\n",
              "    <tr>\n",
              "      <th>4</th>\n",
              "      <td>2</td>\n",
              "      <td>164.0</td>\n",
              "      <td>audi</td>\n",
              "      <td>gas</td>\n",
              "      <td>std</td>\n",
              "      <td>four</td>\n",
              "      <td>sedan</td>\n",
              "      <td>4wd</td>\n",
              "      <td>front</td>\n",
              "      <td>99.4</td>\n",
              "      <td>...</td>\n",
              "      <td>136</td>\n",
              "      <td>mpfi</td>\n",
              "      <td>3.19</td>\n",
              "      <td>3.40</td>\n",
              "      <td>8.0</td>\n",
              "      <td>115.0</td>\n",
              "      <td>5500.0</td>\n",
              "      <td>18</td>\n",
              "      <td>22</td>\n",
              "      <td>17450.0</td>\n",
              "    </tr>\n",
              "  </tbody>\n",
              "</table>\n",
              "<p>5 rows × 26 columns</p>\n",
              "</div>\n",
              "    <div class=\"colab-df-buttons\">\n",
              "\n",
              "  <div class=\"colab-df-container\">\n",
              "    <button class=\"colab-df-convert\" onclick=\"convertToInteractive('df-994ae092-87b6-4c40-bba1-e9baadf9f321')\"\n",
              "            title=\"Convert this dataframe to an interactive table.\"\n",
              "            style=\"display:none;\">\n",
              "\n",
              "  <svg xmlns=\"http://www.w3.org/2000/svg\" height=\"24px\" viewBox=\"0 -960 960 960\">\n",
              "    <path d=\"M120-120v-720h720v720H120Zm60-500h600v-160H180v160Zm220 220h160v-160H400v160Zm0 220h160v-160H400v160ZM180-400h160v-160H180v160Zm440 0h160v-160H620v160ZM180-180h160v-160H180v160Zm440 0h160v-160H620v160Z\"/>\n",
              "  </svg>\n",
              "    </button>\n",
              "\n",
              "  <style>\n",
              "    .colab-df-container {\n",
              "      display:flex;\n",
              "      gap: 12px;\n",
              "    }\n",
              "\n",
              "    .colab-df-convert {\n",
              "      background-color: #E8F0FE;\n",
              "      border: none;\n",
              "      border-radius: 50%;\n",
              "      cursor: pointer;\n",
              "      display: none;\n",
              "      fill: #1967D2;\n",
              "      height: 32px;\n",
              "      padding: 0 0 0 0;\n",
              "      width: 32px;\n",
              "    }\n",
              "\n",
              "    .colab-df-convert:hover {\n",
              "      background-color: #E2EBFA;\n",
              "      box-shadow: 0px 1px 2px rgba(60, 64, 67, 0.3), 0px 1px 3px 1px rgba(60, 64, 67, 0.15);\n",
              "      fill: #174EA6;\n",
              "    }\n",
              "\n",
              "    .colab-df-buttons div {\n",
              "      margin-bottom: 4px;\n",
              "    }\n",
              "\n",
              "    [theme=dark] .colab-df-convert {\n",
              "      background-color: #3B4455;\n",
              "      fill: #D2E3FC;\n",
              "    }\n",
              "\n",
              "    [theme=dark] .colab-df-convert:hover {\n",
              "      background-color: #434B5C;\n",
              "      box-shadow: 0px 1px 3px 1px rgba(0, 0, 0, 0.15);\n",
              "      filter: drop-shadow(0px 1px 2px rgba(0, 0, 0, 0.3));\n",
              "      fill: #FFFFFF;\n",
              "    }\n",
              "  </style>\n",
              "\n",
              "    <script>\n",
              "      const buttonEl =\n",
              "        document.querySelector('#df-994ae092-87b6-4c40-bba1-e9baadf9f321 button.colab-df-convert');\n",
              "      buttonEl.style.display =\n",
              "        google.colab.kernel.accessAllowed ? 'block' : 'none';\n",
              "\n",
              "      async function convertToInteractive(key) {\n",
              "        const element = document.querySelector('#df-994ae092-87b6-4c40-bba1-e9baadf9f321');\n",
              "        const dataTable =\n",
              "          await google.colab.kernel.invokeFunction('convertToInteractive',\n",
              "                                                    [key], {});\n",
              "        if (!dataTable) return;\n",
              "\n",
              "        const docLinkHtml = 'Like what you see? Visit the ' +\n",
              "          '<a target=\"_blank\" href=https://colab.research.google.com/notebooks/data_table.ipynb>data table notebook</a>'\n",
              "          + ' to learn more about interactive tables.';\n",
              "        element.innerHTML = '';\n",
              "        dataTable['output_type'] = 'display_data';\n",
              "        await google.colab.output.renderOutput(dataTable, element);\n",
              "        const docLink = document.createElement('div');\n",
              "        docLink.innerHTML = docLinkHtml;\n",
              "        element.appendChild(docLink);\n",
              "      }\n",
              "    </script>\n",
              "  </div>\n",
              "\n",
              "\n",
              "<div id=\"df-1a606311-351a-463c-9742-91ec69777797\">\n",
              "  <button class=\"colab-df-quickchart\" onclick=\"quickchart('df-1a606311-351a-463c-9742-91ec69777797')\"\n",
              "            title=\"Suggest charts.\"\n",
              "            style=\"display:none;\">\n",
              "\n",
              "<svg xmlns=\"http://www.w3.org/2000/svg\" height=\"24px\"viewBox=\"0 0 24 24\"\n",
              "     width=\"24px\">\n",
              "    <g>\n",
              "        <path d=\"M19 3H5c-1.1 0-2 .9-2 2v14c0 1.1.9 2 2 2h14c1.1 0 2-.9 2-2V5c0-1.1-.9-2-2-2zM9 17H7v-7h2v7zm4 0h-2V7h2v10zm4 0h-2v-4h2v4z\"/>\n",
              "    </g>\n",
              "</svg>\n",
              "  </button>\n",
              "\n",
              "<style>\n",
              "  .colab-df-quickchart {\n",
              "      --bg-color: #E8F0FE;\n",
              "      --fill-color: #1967D2;\n",
              "      --hover-bg-color: #E2EBFA;\n",
              "      --hover-fill-color: #174EA6;\n",
              "      --disabled-fill-color: #AAA;\n",
              "      --disabled-bg-color: #DDD;\n",
              "  }\n",
              "\n",
              "  [theme=dark] .colab-df-quickchart {\n",
              "      --bg-color: #3B4455;\n",
              "      --fill-color: #D2E3FC;\n",
              "      --hover-bg-color: #434B5C;\n",
              "      --hover-fill-color: #FFFFFF;\n",
              "      --disabled-bg-color: #3B4455;\n",
              "      --disabled-fill-color: #666;\n",
              "  }\n",
              "\n",
              "  .colab-df-quickchart {\n",
              "    background-color: var(--bg-color);\n",
              "    border: none;\n",
              "    border-radius: 50%;\n",
              "    cursor: pointer;\n",
              "    display: none;\n",
              "    fill: var(--fill-color);\n",
              "    height: 32px;\n",
              "    padding: 0;\n",
              "    width: 32px;\n",
              "  }\n",
              "\n",
              "  .colab-df-quickchart:hover {\n",
              "    background-color: var(--hover-bg-color);\n",
              "    box-shadow: 0 1px 2px rgba(60, 64, 67, 0.3), 0 1px 3px 1px rgba(60, 64, 67, 0.15);\n",
              "    fill: var(--button-hover-fill-color);\n",
              "  }\n",
              "\n",
              "  .colab-df-quickchart-complete:disabled,\n",
              "  .colab-df-quickchart-complete:disabled:hover {\n",
              "    background-color: var(--disabled-bg-color);\n",
              "    fill: var(--disabled-fill-color);\n",
              "    box-shadow: none;\n",
              "  }\n",
              "\n",
              "  .colab-df-spinner {\n",
              "    border: 2px solid var(--fill-color);\n",
              "    border-color: transparent;\n",
              "    border-bottom-color: var(--fill-color);\n",
              "    animation:\n",
              "      spin 1s steps(1) infinite;\n",
              "  }\n",
              "\n",
              "  @keyframes spin {\n",
              "    0% {\n",
              "      border-color: transparent;\n",
              "      border-bottom-color: var(--fill-color);\n",
              "      border-left-color: var(--fill-color);\n",
              "    }\n",
              "    20% {\n",
              "      border-color: transparent;\n",
              "      border-left-color: var(--fill-color);\n",
              "      border-top-color: var(--fill-color);\n",
              "    }\n",
              "    30% {\n",
              "      border-color: transparent;\n",
              "      border-left-color: var(--fill-color);\n",
              "      border-top-color: var(--fill-color);\n",
              "      border-right-color: var(--fill-color);\n",
              "    }\n",
              "    40% {\n",
              "      border-color: transparent;\n",
              "      border-right-color: var(--fill-color);\n",
              "      border-top-color: var(--fill-color);\n",
              "    }\n",
              "    60% {\n",
              "      border-color: transparent;\n",
              "      border-right-color: var(--fill-color);\n",
              "    }\n",
              "    80% {\n",
              "      border-color: transparent;\n",
              "      border-right-color: var(--fill-color);\n",
              "      border-bottom-color: var(--fill-color);\n",
              "    }\n",
              "    90% {\n",
              "      border-color: transparent;\n",
              "      border-bottom-color: var(--fill-color);\n",
              "    }\n",
              "  }\n",
              "</style>\n",
              "\n",
              "  <script>\n",
              "    async function quickchart(key) {\n",
              "      const quickchartButtonEl =\n",
              "        document.querySelector('#' + key + ' button');\n",
              "      quickchartButtonEl.disabled = true;  // To prevent multiple clicks.\n",
              "      quickchartButtonEl.classList.add('colab-df-spinner');\n",
              "      try {\n",
              "        const charts = await google.colab.kernel.invokeFunction(\n",
              "            'suggestCharts', [key], {});\n",
              "      } catch (error) {\n",
              "        console.error('Error during call to suggestCharts:', error);\n",
              "      }\n",
              "      quickchartButtonEl.classList.remove('colab-df-spinner');\n",
              "      quickchartButtonEl.classList.add('colab-df-quickchart-complete');\n",
              "    }\n",
              "    (() => {\n",
              "      let quickchartButtonEl =\n",
              "        document.querySelector('#df-1a606311-351a-463c-9742-91ec69777797 button');\n",
              "      quickchartButtonEl.style.display =\n",
              "        google.colab.kernel.accessAllowed ? 'block' : 'none';\n",
              "    })();\n",
              "  </script>\n",
              "</div>\n",
              "    </div>\n",
              "  </div>\n"
            ]
          },
          "metadata": {},
          "execution_count": 264
        }
      ]
    },
    {
      "cell_type": "markdown",
      "source": [
        "# Limpieza de datos"
      ],
      "metadata": {
        "id": "crJ49TgzWajb"
      }
    },
    {
      "cell_type": "code",
      "source": [
        "df.shape"
      ],
      "metadata": {
        "colab": {
          "base_uri": "https://localhost:8080/"
        },
        "id": "7x1EV_vpZhHI",
        "outputId": "ee8bad4a-fa7d-4bb9-c116-0a980eace0ef"
      },
      "execution_count": null,
      "outputs": [
        {
          "output_type": "execute_result",
          "data": {
            "text/plain": [
              "(205, 26)"
            ]
          },
          "metadata": {},
          "execution_count": 265
        }
      ]
    },
    {
      "cell_type": "markdown",
      "source": [
        "205 datos y 26 columnas"
      ],
      "metadata": {
        "id": "9hbGLPELZjaQ"
      }
    },
    {
      "cell_type": "code",
      "source": [
        "df.info()"
      ],
      "metadata": {
        "colab": {
          "base_uri": "https://localhost:8080/"
        },
        "id": "RZl5V5y3ZwiE",
        "outputId": "d85966c3-c5d9-47aa-c914-a785e1c859bc"
      },
      "execution_count": null,
      "outputs": [
        {
          "output_type": "stream",
          "name": "stdout",
          "text": [
            "<class 'pandas.core.frame.DataFrame'>\n",
            "RangeIndex: 205 entries, 0 to 204\n",
            "Data columns (total 26 columns):\n",
            " #   Column             Non-Null Count  Dtype  \n",
            "---  ------             --------------  -----  \n",
            " 0   symboling          205 non-null    int64  \n",
            " 1   normalized-losses  164 non-null    float64\n",
            " 2   make               205 non-null    object \n",
            " 3   fuel-type          205 non-null    object \n",
            " 4   aspiration         205 non-null    object \n",
            " 5   number-of-doors    203 non-null    object \n",
            " 6   body-style         205 non-null    object \n",
            " 7   drive-wheels       205 non-null    object \n",
            " 8   engine-location    205 non-null    object \n",
            " 9   wheel-base         205 non-null    float64\n",
            " 10  length             205 non-null    float64\n",
            " 11  width              205 non-null    float64\n",
            " 12  height             205 non-null    float64\n",
            " 13  curb-weight        205 non-null    int64  \n",
            " 14  engine-type        205 non-null    object \n",
            " 15  num-of-cylinders   205 non-null    object \n",
            " 16  engine-size        205 non-null    int64  \n",
            " 17  fuel-system        205 non-null    object \n",
            " 18  bore               201 non-null    float64\n",
            " 19  stroke             201 non-null    float64\n",
            " 20  compression-ratio  205 non-null    float64\n",
            " 21  horsepower         203 non-null    float64\n",
            " 22  peak-rpm           203 non-null    float64\n",
            " 23  city-mpg           205 non-null    int64  \n",
            " 24  highway-mpg        205 non-null    int64  \n",
            " 25  price              201 non-null    float64\n",
            "dtypes: float64(11), int64(5), object(10)\n",
            "memory usage: 41.8+ KB\n"
          ]
        }
      ]
    },
    {
      "cell_type": "code",
      "source": [
        "pd.set_option('display.max_rows', 500)\n",
        "df.nunique()"
      ],
      "metadata": {
        "colab": {
          "base_uri": "https://localhost:8080/"
        },
        "id": "v9rgeE3zZ0hJ",
        "outputId": "8520e349-3b9d-4a85-a397-749e0c8bc1b9"
      },
      "execution_count": null,
      "outputs": [
        {
          "output_type": "execute_result",
          "data": {
            "text/plain": [
              "symboling              6\n",
              "normalized-losses     51\n",
              "make                  22\n",
              "fuel-type              2\n",
              "aspiration             2\n",
              "number-of-doors        2\n",
              "body-style             5\n",
              "drive-wheels           3\n",
              "engine-location        2\n",
              "wheel-base            53\n",
              "length                75\n",
              "width                 44\n",
              "height                49\n",
              "curb-weight          171\n",
              "engine-type            7\n",
              "num-of-cylinders       7\n",
              "engine-size           44\n",
              "fuel-system            8\n",
              "bore                  38\n",
              "stroke                36\n",
              "compression-ratio     32\n",
              "horsepower            59\n",
              "peak-rpm              23\n",
              "city-mpg              29\n",
              "highway-mpg           30\n",
              "price                186\n",
              "dtype: int64"
            ]
          },
          "metadata": {},
          "execution_count": 267
        }
      ]
    },
    {
      "cell_type": "code",
      "source": [
        "df.isna().sum()"
      ],
      "metadata": {
        "colab": {
          "base_uri": "https://localhost:8080/"
        },
        "id": "EXgbBzP4fLVO",
        "outputId": "fe7dfe2d-5689-4221-e919-7db177795ebb"
      },
      "execution_count": null,
      "outputs": [
        {
          "output_type": "execute_result",
          "data": {
            "text/plain": [
              "symboling             0\n",
              "normalized-losses    41\n",
              "make                  0\n",
              "fuel-type             0\n",
              "aspiration            0\n",
              "number-of-doors       2\n",
              "body-style            0\n",
              "drive-wheels          0\n",
              "engine-location       0\n",
              "wheel-base            0\n",
              "length                0\n",
              "width                 0\n",
              "height                0\n",
              "curb-weight           0\n",
              "engine-type           0\n",
              "num-of-cylinders      0\n",
              "engine-size           0\n",
              "fuel-system           0\n",
              "bore                  4\n",
              "stroke                4\n",
              "compression-ratio     0\n",
              "horsepower            2\n",
              "peak-rpm              2\n",
              "city-mpg              0\n",
              "highway-mpg           0\n",
              "price                 4\n",
              "dtype: int64"
            ]
          },
          "metadata": {},
          "execution_count": 268
        }
      ]
    },
    {
      "cell_type": "code",
      "source": [
        "(df.isna().sum()/df.shape[0])*100"
      ],
      "metadata": {
        "colab": {
          "base_uri": "https://localhost:8080/"
        },
        "id": "yRWxiIU5eqYD",
        "outputId": "c06310f8-4e66-41d2-d428-16f4c5c595c7"
      },
      "execution_count": null,
      "outputs": [
        {
          "output_type": "execute_result",
          "data": {
            "text/plain": [
              "symboling             0.00000\n",
              "normalized-losses    20.00000\n",
              "make                  0.00000\n",
              "fuel-type             0.00000\n",
              "aspiration            0.00000\n",
              "number-of-doors       0.97561\n",
              "body-style            0.00000\n",
              "drive-wheels          0.00000\n",
              "engine-location       0.00000\n",
              "wheel-base            0.00000\n",
              "length                0.00000\n",
              "width                 0.00000\n",
              "height                0.00000\n",
              "curb-weight           0.00000\n",
              "engine-type           0.00000\n",
              "num-of-cylinders      0.00000\n",
              "engine-size           0.00000\n",
              "fuel-system           0.00000\n",
              "bore                  1.95122\n",
              "stroke                1.95122\n",
              "compression-ratio     0.00000\n",
              "horsepower            0.97561\n",
              "peak-rpm              0.97561\n",
              "city-mpg              0.00000\n",
              "highway-mpg           0.00000\n",
              "price                 1.95122\n",
              "dtype: float64"
            ]
          },
          "metadata": {},
          "execution_count": 269
        }
      ]
    },
    {
      "cell_type": "markdown",
      "source": [
        "## Symboling"
      ],
      "metadata": {
        "id": "OFnN8srsMDM3"
      }
    },
    {
      "cell_type": "code",
      "source": [
        "df[\"symboling\"].value_counts()"
      ],
      "metadata": {
        "colab": {
          "base_uri": "https://localhost:8080/"
        },
        "id": "U419osnAoGD5",
        "outputId": "f9f9e48f-7d11-49df-ba0a-b802d946247c"
      },
      "execution_count": null,
      "outputs": [
        {
          "output_type": "execute_result",
          "data": {
            "text/plain": [
              " 0    67\n",
              " 1    54\n",
              " 2    32\n",
              " 3    27\n",
              "-1    22\n",
              "-2     3\n",
              "Name: symboling, dtype: int64"
            ]
          },
          "metadata": {},
          "execution_count": 270
        }
      ]
    },
    {
      "cell_type": "markdown",
      "source": [
        "No hay datos faltantes ni anómalos"
      ],
      "metadata": {
        "id": "w95KwNceos0V"
      }
    },
    {
      "cell_type": "markdown",
      "source": [
        "## Normalized - losses"
      ],
      "metadata": {
        "id": "f5loyctuMH1j"
      }
    },
    {
      "cell_type": "code",
      "source": [
        "df[\"normalized-losses\"].value_counts()"
      ],
      "metadata": {
        "colab": {
          "base_uri": "https://localhost:8080/"
        },
        "outputId": "ace76bc0-0978-45a4-d288-9f4d959be422",
        "id": "mT1L6lElo5uH"
      },
      "execution_count": null,
      "outputs": [
        {
          "output_type": "execute_result",
          "data": {
            "text/plain": [
              "161.0    11\n",
              "91.0      8\n",
              "150.0     7\n",
              "128.0     6\n",
              "134.0     6\n",
              "104.0     6\n",
              "95.0      5\n",
              "102.0     5\n",
              "103.0     5\n",
              "74.0      5\n",
              "85.0      5\n",
              "168.0     5\n",
              "94.0      5\n",
              "65.0      5\n",
              "106.0     4\n",
              "122.0     4\n",
              "148.0     4\n",
              "118.0     4\n",
              "93.0      4\n",
              "101.0     3\n",
              "125.0     3\n",
              "137.0     3\n",
              "154.0     3\n",
              "83.0      3\n",
              "115.0     3\n",
              "119.0     2\n",
              "87.0      2\n",
              "194.0     2\n",
              "197.0     2\n",
              "108.0     2\n",
              "89.0      2\n",
              "164.0     2\n",
              "158.0     2\n",
              "145.0     2\n",
              "192.0     2\n",
              "188.0     2\n",
              "81.0      2\n",
              "110.0     2\n",
              "113.0     2\n",
              "129.0     2\n",
              "153.0     2\n",
              "107.0     1\n",
              "78.0      1\n",
              "186.0     1\n",
              "231.0     1\n",
              "77.0      1\n",
              "98.0      1\n",
              "121.0     1\n",
              "90.0      1\n",
              "142.0     1\n",
              "256.0     1\n",
              "Name: normalized-losses, dtype: int64"
            ]
          },
          "metadata": {},
          "execution_count": 271
        }
      ]
    },
    {
      "cell_type": "markdown",
      "source": [
        "No hay datos anómalos pero sí hay datos faltantes.\n",
        "\n",
        "Tratamiento de datos faltantes:"
      ],
      "metadata": {
        "id": "BWDKySlIo5uJ"
      }
    },
    {
      "cell_type": "code",
      "source": [
        "plt.hist(df[\"normalized-losses\"])"
      ],
      "metadata": {
        "colab": {
          "base_uri": "https://localhost:8080/"
        },
        "id": "7rqlQmFgppPU",
        "outputId": "7927744a-8e16-460d-882b-1e2c4747e5c3"
      },
      "execution_count": null,
      "outputs": [
        {
          "output_type": "execute_result",
          "data": {
            "text/plain": [
              "(array([17., 46., 31., 20., 21., 18.,  9.,  0.,  1.,  1.]),\n",
              " array([ 65. ,  84.1, 103.2, 122.3, 141.4, 160.5, 179.6, 198.7, 217.8,\n",
              "        236.9, 256. ]),\n",
              " <BarContainer object of 10 artists>)"
            ]
          },
          "metadata": {},
          "execution_count": 272
        },
        {
          "output_type": "display_data",
          "data": {
            "text/plain": [
              "<Figure size 640x480 with 1 Axes>"
            ],
            "image/png": "[encoded data removed]"
          },
          "metadata": {}
        }
      ]
    },
    {
      "cell_type": "code",
      "source": [
        "df[\"normalized-losses\"] = df[\"normalized-losses\"].fillna(df[\"normalized-losses\"].median())"
      ],
      "metadata": {
        "id": "iqGRlDcvrPZo"
      },
      "execution_count": null,
      "outputs": []
    },
    {
      "cell_type": "markdown",
      "source": [
        "## Make"
      ],
      "metadata": {
        "id": "JrvGdq19MKMT"
      }
    },
    {
      "cell_type": "code",
      "source": [
        "df[\"make\"].value_counts()"
      ],
      "metadata": {
        "colab": {
          "base_uri": "https://localhost:8080/"
        },
        "outputId": "1d993172-6d15-466e-ac32-86c2acee888f",
        "id": "T02ZvTPzo6YR"
      },
      "execution_count": null,
      "outputs": [
        {
          "output_type": "execute_result",
          "data": {
            "text/plain": [
              "toyota           32\n",
              "nissan           18\n",
              "mazda            17\n",
              "mitsubishi       13\n",
              "honda            13\n",
              "volkswagen       12\n",
              "subaru           12\n",
              "peugot           11\n",
              "volvo            11\n",
              "dodge             9\n",
              "mercedes-benz     8\n",
              "bmw               8\n",
              "audi              7\n",
              "plymouth          7\n",
              "saab              6\n",
              "porsche           5\n",
              "isuzu             4\n",
              "jaguar            3\n",
              "chevrolet         3\n",
              "alfa-romero       3\n",
              "renault           2\n",
              "mercury           1\n",
              "Name: make, dtype: int64"
            ]
          },
          "metadata": {},
          "execution_count": 274
        }
      ]
    },
    {
      "cell_type": "markdown",
      "source": [
        "No hay datos faltantes ni anómalos"
      ],
      "metadata": {
        "id": "MyCjJ9aIo6YR"
      }
    },
    {
      "cell_type": "markdown",
      "source": [
        "## Fuel type"
      ],
      "metadata": {
        "id": "DNjY7fH2MMMY"
      }
    },
    {
      "cell_type": "code",
      "source": [
        "df[\"fuel-type\"].value_counts()"
      ],
      "metadata": {
        "colab": {
          "base_uri": "https://localhost:8080/"
        },
        "outputId": "94cba7c5-0616-4f08-c5be-3e668364c885",
        "id": "KmXyv4lBo7Fh"
      },
      "execution_count": null,
      "outputs": [
        {
          "output_type": "execute_result",
          "data": {
            "text/plain": [
              "gas       185\n",
              "diesel     20\n",
              "Name: fuel-type, dtype: int64"
            ]
          },
          "metadata": {},
          "execution_count": 275
        }
      ]
    },
    {
      "cell_type": "markdown",
      "source": [
        "No hay datos faltantes ni anómalos"
      ],
      "metadata": {
        "id": "2UQIX7BHo7Fh"
      }
    },
    {
      "cell_type": "markdown",
      "source": [
        "## Aspiration"
      ],
      "metadata": {
        "id": "ne6ndvMPMOzt"
      }
    },
    {
      "cell_type": "code",
      "source": [
        "df[\"aspiration\"].value_counts()"
      ],
      "metadata": {
        "colab": {
          "base_uri": "https://localhost:8080/"
        },
        "outputId": "23127bb5-9d34-4b0f-fcd8-99b5c3e6ce93",
        "id": "zu6kO8k4o7lS"
      },
      "execution_count": null,
      "outputs": [
        {
          "output_type": "execute_result",
          "data": {
            "text/plain": [
              "std      168\n",
              "turbo     37\n",
              "Name: aspiration, dtype: int64"
            ]
          },
          "metadata": {},
          "execution_count": 276
        }
      ]
    },
    {
      "cell_type": "markdown",
      "source": [
        "No hay datos faltantes ni anómalos"
      ],
      "metadata": {
        "id": "5L__seHho7lT"
      }
    },
    {
      "cell_type": "markdown",
      "source": [
        "## Number of doors"
      ],
      "metadata": {
        "id": "CYogLrjCMROX"
      }
    },
    {
      "cell_type": "code",
      "source": [
        "df[\"number-of-doors\"].value_counts()"
      ],
      "metadata": {
        "colab": {
          "base_uri": "https://localhost:8080/"
        },
        "outputId": "b6b36dda-a518-4693-9b25-f27a88dc6deb",
        "id": "_4dy99Kyo8UI"
      },
      "execution_count": null,
      "outputs": [
        {
          "output_type": "execute_result",
          "data": {
            "text/plain": [
              "four    114\n",
              "two      89\n",
              "Name: number-of-doors, dtype: int64"
            ]
          },
          "metadata": {},
          "execution_count": 277
        }
      ]
    },
    {
      "cell_type": "code",
      "source": [
        "df = df.rename(columns = {\"number-of-doors\": \"number_of_doors\", \"fuel-type\": \"fuel_type\"})"
      ],
      "metadata": {
        "id": "RY9HRYgCsD7k"
      },
      "execution_count": null,
      "outputs": []
    },
    {
      "cell_type": "code",
      "source": [
        "df[(df.number_of_doors != \"four\")&(df.number_of_doors != \"two\")]"
      ],
      "metadata": {
        "colab": {
          "base_uri": "https://localhost:8080/"
        },
        "id": "DzyyCMr1tPKb",
        "outputId": "e1890ffa-cf77-433e-ed28-9db4b5a3fcca"
      },
      "execution_count": null,
      "outputs": [
        {
          "output_type": "execute_result",
          "data": {
            "text/plain": [
              "    symboling  normalized-losses   make fuel_type aspiration number_of_doors  \\\n",
              "27          1              148.0  dodge       gas      turbo             NaN   \n",
              "63          0              115.0  mazda    diesel        std             NaN   \n",
              "\n",
              "   body-style drive-wheels engine-location  wheel-base  ...  engine-size  \\\n",
              "27      sedan          fwd           front        93.7  ...           98   \n",
              "63      sedan          fwd           front        98.8  ...          122   \n",
              "\n",
              "    fuel-system  bore  stroke compression-ratio horsepower  peak-rpm city-mpg  \\\n",
              "27         mpfi  3.03    3.39               7.6      102.0    5500.0       24   \n",
              "63          idi  3.39    3.39              22.7       64.0    4650.0       36   \n",
              "\n",
              "    highway-mpg    price  \n",
              "27           30   8558.0  \n",
              "63           42  10795.0  \n",
              "\n",
              "[2 rows x 26 columns]"
            ],
            "text/html": [
              "\n",
              "  <div id=\"df-6b73f636-7460-46b8-8b61-958fd119a022\" class=\"colab-df-container\">\n",
              "    <div>\n",
              "<style scoped>\n",
              "    .dataframe tbody tr th:only-of-type {\n",
              "        vertical-align: middle;\n",
              "    }\n",
              "\n",
              "    .dataframe tbody tr th {\n",
              "        vertical-align: top;\n",
              "    }\n",
              "\n",
              "    .dataframe thead th {\n",
              "        text-align: right;\n",
              "    }\n",
              "</style>\n",
              "<table border=\"1\" class=\"dataframe\">\n",
              "  <thead>\n",
              "    <tr style=\"text-align: right;\">\n",
              "      <th></th>\n",
              "      <th>symboling</th>\n",
              "      <th>normalized-losses</th>\n",
              "      <th>make</th>\n",
              "      <th>fuel_type</th>\n",
              "      <th>aspiration</th>\n",
              "      <th>number_of_doors</th>\n",
              "      <th>body-style</th>\n",
              "      <th>drive-wheels</th>\n",
              "      <th>engine-location</th>\n",
              "      <th>wheel-base</th>\n",
              "      <th>...</th>\n",
              "      <th>engine-size</th>\n",
              "      <th>fuel-system</th>\n",
              "      <th>bore</th>\n",
              "      <th>stroke</th>\n",
              "      <th>compression-ratio</th>\n",
              "      <th>horsepower</th>\n",
              "      <th>peak-rpm</th>\n",
              "      <th>city-mpg</th>\n",
              "      <th>highway-mpg</th>\n",
              "      <th>price</th>\n",
              "    </tr>\n",
              "  </thead>\n",
              "  <tbody>\n",
              "    <tr>\n",
              "      <th>27</th>\n",
              "      <td>1</td>\n",
              "      <td>148.0</td>\n",
              "      <td>dodge</td>\n",
              "      <td>gas</td>\n",
              "      <td>turbo</td>\n",
              "      <td>NaN</td>\n",
              "      <td>sedan</td>\n",
              "      <td>fwd</td>\n",
              "      <td>front</td>\n",
              "      <td>93.7</td>\n",
              "      <td>...</td>\n",
              "      <td>98</td>\n",
              "      <td>mpfi</td>\n",
              "      <td>3.03</td>\n",
              "      <td>3.39</td>\n",
              "      <td>7.6</td>\n",
              "      <td>102.0</td>\n",
              "      <td>5500.0</td>\n",
              "      <td>24</td>\n",
              "      <td>30</td>\n",
              "      <td>8558.0</td>\n",
              "    </tr>\n",
              "    <tr>\n",
              "      <th>63</th>\n",
              "      <td>0</td>\n",
              "      <td>115.0</td>\n",
              "      <td>mazda</td>\n",
              "      <td>diesel</td>\n",
              "      <td>std</td>\n",
              "      <td>NaN</td>\n",
              "      <td>sedan</td>\n",
              "      <td>fwd</td>\n",
              "      <td>front</td>\n",
              "      <td>98.8</td>\n",
              "      <td>...</td>\n",
              "      <td>122</td>\n",
              "      <td>idi</td>\n",
              "      <td>3.39</td>\n",
              "      <td>3.39</td>\n",
              "      <td>22.7</td>\n",
              "      <td>64.0</td>\n",
              "      <td>4650.0</td>\n",
              "      <td>36</td>\n",
              "      <td>42</td>\n",
              "      <td>10795.0</td>\n",
              "    </tr>\n",
              "  </tbody>\n",
              "</table>\n",
              "<p>2 rows × 26 columns</p>\n",
              "</div>\n",
              "    <div class=\"colab-df-buttons\">\n",
              "\n",
              "  <div class=\"colab-df-container\">\n",
              "    <button class=\"colab-df-convert\" onclick=\"convertToInteractive('df-6b73f636-7460-46b8-8b61-958fd119a022')\"\n",
              "            title=\"Convert this dataframe to an interactive table.\"\n",
              "            style=\"display:none;\">\n",
              "\n",
              "  <svg xmlns=\"http://www.w3.org/2000/svg\" height=\"24px\" viewBox=\"0 -960 960 960\">\n",
              "    <path d=\"M120-120v-720h720v720H120Zm60-500h600v-160H180v160Zm220 220h160v-160H400v160Zm0 220h160v-160H400v160ZM180-400h160v-160H180v160Zm440 0h160v-160H620v160ZM180-180h160v-160H180v160Zm440 0h160v-160H620v160Z\"/>\n",
              "  </svg>\n",
              "    </button>\n",
              "\n",
              "  <style>\n",
              "    .colab-df-container {\n",
              "      display:flex;\n",
              "      gap: 12px;\n",
              "    }\n",
              "\n",
              "    .colab-df-convert {\n",
              "      background-color: #E8F0FE;\n",
              "      border: none;\n",
              "      border-radius: 50%;\n",
              "      cursor: pointer;\n",
              "      display: none;\n",
              "      fill: #1967D2;\n",
              "      height: 32px;\n",
              "      padding: 0 0 0 0;\n",
              "      width: 32px;\n",
              "    }\n",
              "\n",
              "    .colab-df-convert:hover {\n",
              "      background-color: #E2EBFA;\n",
              "      box-shadow: 0px 1px 2px rgba(60, 64, 67, 0.3), 0px 1px 3px 1px rgba(60, 64, 67, 0.15);\n",
              "      fill: #174EA6;\n",
              "    }\n",
              "\n",
              "    .colab-df-buttons div {\n",
              "      margin-bottom: 4px;\n",
              "    }\n",
              "\n",
              "    [theme=dark] .colab-df-convert {\n",
              "      background-color: #3B4455;\n",
              "      fill: #D2E3FC;\n",
              "    }\n",
              "\n",
              "    [theme=dark] .colab-df-convert:hover {\n",
              "      background-color: #434B5C;\n",
              "      box-shadow: 0px 1px 3px 1px rgba(0, 0, 0, 0.15);\n",
              "      filter: drop-shadow(0px 1px 2px rgba(0, 0, 0, 0.3));\n",
              "      fill: #FFFFFF;\n",
              "    }\n",
              "  </style>\n",
              "\n",
              "    <script>\n",
              "      const buttonEl =\n",
              "        document.querySelector('#df-6b73f636-7460-46b8-8b61-958fd119a022 button.colab-df-convert');\n",
              "      buttonEl.style.display =\n",
              "        google.colab.kernel.accessAllowed ? 'block' : 'none';\n",
              "\n",
              "      async function convertToInteractive(key) {\n",
              "        const element = document.querySelector('#df-6b73f636-7460-46b8-8b61-958fd119a022');\n",
              "        const dataTable =\n",
              "          await google.colab.kernel.invokeFunction('convertToInteractive',\n",
              "                                                    [key], {});\n",
              "        if (!dataTable) return;\n",
              "\n",
              "        const docLinkHtml = 'Like what you see? Visit the ' +\n",
              "          '<a target=\"_blank\" href=https://colab.research.google.com/notebooks/data_table.ipynb>data table notebook</a>'\n",
              "          + ' to learn more about interactive tables.';\n",
              "        element.innerHTML = '';\n",
              "        dataTable['output_type'] = 'display_data';\n",
              "        await google.colab.output.renderOutput(dataTable, element);\n",
              "        const docLink = document.createElement('div');\n",
              "        docLink.innerHTML = docLinkHtml;\n",
              "        element.appendChild(docLink);\n",
              "      }\n",
              "    </script>\n",
              "  </div>\n",
              "\n",
              "\n",
              "<div id=\"df-b598e845-93e8-4040-be06-f0bea9a852b7\">\n",
              "  <button class=\"colab-df-quickchart\" onclick=\"quickchart('df-b598e845-93e8-4040-be06-f0bea9a852b7')\"\n",
              "            title=\"Suggest charts.\"\n",
              "            style=\"display:none;\">\n",
              "\n",
              "<svg xmlns=\"http://www.w3.org/2000/svg\" height=\"24px\"viewBox=\"0 0 24 24\"\n",
              "     width=\"24px\">\n",
              "    <g>\n",
              "        <path d=\"M19 3H5c-1.1 0-2 .9-2 2v14c0 1.1.9 2 2 2h14c1.1 0 2-.9 2-2V5c0-1.1-.9-2-2-2zM9 17H7v-7h2v7zm4 0h-2V7h2v10zm4 0h-2v-4h2v4z\"/>\n",
              "    </g>\n",
              "</svg>\n",
              "  </button>\n",
              "\n",
              "<style>\n",
              "  .colab-df-quickchart {\n",
              "      --bg-color: #E8F0FE;\n",
              "      --fill-color: #1967D2;\n",
              "      --hover-bg-color: #E2EBFA;\n",
              "      --hover-fill-color: #174EA6;\n",
              "      --disabled-fill-color: #AAA;\n",
              "      --disabled-bg-color: #DDD;\n",
              "  }\n",
              "\n",
              "  [theme=dark] .colab-df-quickchart {\n",
              "      --bg-color: #3B4455;\n",
              "      --fill-color: #D2E3FC;\n",
              "      --hover-bg-color: #434B5C;\n",
              "      --hover-fill-color: #FFFFFF;\n",
              "      --disabled-bg-color: #3B4455;\n",
              "      --disabled-fill-color: #666;\n",
              "  }\n",
              "\n",
              "  .colab-df-quickchart {\n",
              "    background-color: var(--bg-color);\n",
              "    border: none;\n",
              "    border-radius: 50%;\n",
              "    cursor: pointer;\n",
              "    display: none;\n",
              "    fill: var(--fill-color);\n",
              "    height: 32px;\n",
              "    padding: 0;\n",
              "    width: 32px;\n",
              "  }\n",
              "\n",
              "  .colab-df-quickchart:hover {\n",
              "    background-color: var(--hover-bg-color);\n",
              "    box-shadow: 0 1px 2px rgba(60, 64, 67, 0.3), 0 1px 3px 1px rgba(60, 64, 67, 0.15);\n",
              "    fill: var(--button-hover-fill-color);\n",
              "  }\n",
              "\n",
              "  .colab-df-quickchart-complete:disabled,\n",
              "  .colab-df-quickchart-complete:disabled:hover {\n",
              "    background-color: var(--disabled-bg-color);\n",
              "    fill: var(--disabled-fill-color);\n",
              "    box-shadow: none;\n",
              "  }\n",
              "\n",
              "  .colab-df-spinner {\n",
              "    border: 2px solid var(--fill-color);\n",
              "    border-color: transparent;\n",
              "    border-bottom-color: var(--fill-color);\n",
              "    animation:\n",
              "      spin 1s steps(1) infinite;\n",
              "  }\n",
              "\n",
              "  @keyframes spin {\n",
              "    0% {\n",
              "      border-color: transparent;\n",
              "      border-bottom-color: var(--fill-color);\n",
              "      border-left-color: var(--fill-color);\n",
              "    }\n",
              "    20% {\n",
              "      border-color: transparent;\n",
              "      border-left-color: var(--fill-color);\n",
              "      border-top-color: var(--fill-color);\n",
              "    }\n",
              "    30% {\n",
              "      border-color: transparent;\n",
              "      border-left-color: var(--fill-color);\n",
              "      border-top-color: var(--fill-color);\n",
              "      border-right-color: var(--fill-color);\n",
              "    }\n",
              "    40% {\n",
              "      border-color: transparent;\n",
              "      border-right-color: var(--fill-color);\n",
              "      border-top-color: var(--fill-color);\n",
              "    }\n",
              "    60% {\n",
              "      border-color: transparent;\n",
              "      border-right-color: var(--fill-color);\n",
              "    }\n",
              "    80% {\n",
              "      border-color: transparent;\n",
              "      border-right-color: var(--fill-color);\n",
              "      border-bottom-color: var(--fill-color);\n",
              "    }\n",
              "    90% {\n",
              "      border-color: transparent;\n",
              "      border-bottom-color: var(--fill-color);\n",
              "    }\n",
              "  }\n",
              "</style>\n",
              "\n",
              "  <script>\n",
              "    async function quickchart(key) {\n",
              "      const quickchartButtonEl =\n",
              "        document.querySelector('#' + key + ' button');\n",
              "      quickchartButtonEl.disabled = true;  // To prevent multiple clicks.\n",
              "      quickchartButtonEl.classList.add('colab-df-spinner');\n",
              "      try {\n",
              "        const charts = await google.colab.kernel.invokeFunction(\n",
              "            'suggestCharts', [key], {});\n",
              "      } catch (error) {\n",
              "        console.error('Error during call to suggestCharts:', error);\n",
              "      }\n",
              "      quickchartButtonEl.classList.remove('colab-df-spinner');\n",
              "      quickchartButtonEl.classList.add('colab-df-quickchart-complete');\n",
              "    }\n",
              "    (() => {\n",
              "      let quickchartButtonEl =\n",
              "        document.querySelector('#df-b598e845-93e8-4040-be06-f0bea9a852b7 button');\n",
              "      quickchartButtonEl.style.display =\n",
              "        google.colab.kernel.accessAllowed ? 'block' : 'none';\n",
              "    })();\n",
              "  </script>\n",
              "</div>\n",
              "    </div>\n",
              "  </div>\n"
            ]
          },
          "metadata": {},
          "execution_count": 279
        }
      ]
    },
    {
      "cell_type": "code",
      "source": [
        "dodge = df[(df.make == \"dodge\") & (df.fuel_type == \"gas\") & (df.aspiration == \"turbo\")]\n",
        "mazda = df[(df.make == \"mazda\") & (df.fuel_type == \"diesel\") & (df.aspiration == \"std\")]"
      ],
      "metadata": {
        "id": "sFHaWbMethmb"
      },
      "execution_count": null,
      "outputs": []
    },
    {
      "cell_type": "code",
      "source": [
        "dodge[\"number_of_doors\"].value_counts()"
      ],
      "metadata": {
        "colab": {
          "base_uri": "https://localhost:8080/"
        },
        "id": "RMROKda-ue5P",
        "outputId": "ab016a4b-45cc-44d3-e2b4-5930764f93cc"
      },
      "execution_count": null,
      "outputs": [
        {
          "output_type": "execute_result",
          "data": {
            "text/plain": [
              "two    2\n",
              "Name: number_of_doors, dtype: int64"
            ]
          },
          "metadata": {},
          "execution_count": 281
        }
      ]
    },
    {
      "cell_type": "code",
      "source": [
        "df[\"number_of_doors\"][27] = \"two\""
      ],
      "metadata": {
        "colab": {
          "base_uri": "https://localhost:8080/"
        },
        "id": "EkvwA3BLv0jD",
        "outputId": "34c82156-98ac-47f7-e2c9-34f9fbf86810"
      },
      "execution_count": null,
      "outputs": [
        {
          "output_type": "stream",
          "name": "stderr",
          "text": [
            "<ipython-input-282-a0af0c1def8b>:1: SettingWithCopyWarning: \n",
            "A value is trying to be set on a copy of a slice from a DataFrame\n",
            "\n",
            "See the caveats in the documentation: https://pandas.pydata.org/pandas-docs/stable/user_guide/indexing.html#returning-a-view-versus-a-copy\n",
            "  df[\"number_of_doors\"][27] = \"two\"\n"
          ]
        }
      ]
    },
    {
      "cell_type": "code",
      "source": [
        "mazda[\"number_of_doors\"].value_counts()"
      ],
      "metadata": {
        "colab": {
          "base_uri": "https://localhost:8080/"
        },
        "id": "8QiRCwsrwG_I",
        "outputId": "d85bd55e-9305-410d-9eab-4c40f77cfcd5"
      },
      "execution_count": null,
      "outputs": [
        {
          "output_type": "execute_result",
          "data": {
            "text/plain": [
              "four    1\n",
              "Name: number_of_doors, dtype: int64"
            ]
          },
          "metadata": {},
          "execution_count": 283
        }
      ]
    },
    {
      "cell_type": "code",
      "source": [
        "df[\"number_of_doors\"][63] = \"four\""
      ],
      "metadata": {
        "colab": {
          "base_uri": "https://localhost:8080/"
        },
        "id": "DNY1WFZ1wV2H",
        "outputId": "36b84dc8-59ab-4a2e-aa19-4b89f4879bfe"
      },
      "execution_count": null,
      "outputs": [
        {
          "output_type": "stream",
          "name": "stderr",
          "text": [
            "<ipython-input-284-4f87397fc975>:1: SettingWithCopyWarning: \n",
            "A value is trying to be set on a copy of a slice from a DataFrame\n",
            "\n",
            "See the caveats in the documentation: https://pandas.pydata.org/pandas-docs/stable/user_guide/indexing.html#returning-a-view-versus-a-copy\n",
            "  df[\"number_of_doors\"][63] = \"four\"\n"
          ]
        }
      ]
    },
    {
      "cell_type": "code",
      "source": [
        "df[\"number_of_doors\"] = df[\"number_of_doors\"].replace(to_replace=\"four\",value=4)\n",
        "df[\"number_of_doors\"] = df[\"number_of_doors\"].replace(to_replace=\"two\",value=2)"
      ],
      "metadata": {
        "id": "XwZhSFgWwqy2"
      },
      "execution_count": null,
      "outputs": []
    },
    {
      "cell_type": "markdown",
      "source": [
        "No hay datos faltantes ni anómalos"
      ],
      "metadata": {
        "id": "EEZd7RPRo8UV"
      }
    },
    {
      "cell_type": "markdown",
      "source": [
        "## Body style"
      ],
      "metadata": {
        "id": "uNHxdmQwMigI"
      }
    },
    {
      "cell_type": "code",
      "source": [
        "df[\"body-style\"].value_counts()"
      ],
      "metadata": {
        "colab": {
          "base_uri": "https://localhost:8080/"
        },
        "outputId": "098da7ab-88ef-4c95-abef-a219cca5eec0",
        "id": "aMiAHAbso8qH"
      },
      "execution_count": null,
      "outputs": [
        {
          "output_type": "execute_result",
          "data": {
            "text/plain": [
              "sedan          96\n",
              "hatchback      70\n",
              "wagon          25\n",
              "hardtop         8\n",
              "convertible     6\n",
              "Name: body-style, dtype: int64"
            ]
          },
          "metadata": {},
          "execution_count": 286
        }
      ]
    },
    {
      "cell_type": "markdown",
      "source": [
        "No hay datos faltantes ni anómalos"
      ],
      "metadata": {
        "id": "XYyivzSno8qI"
      }
    },
    {
      "cell_type": "markdown",
      "source": [
        "## Drive wheels"
      ],
      "metadata": {
        "id": "C654eNqKMlJx"
      }
    },
    {
      "cell_type": "code",
      "source": [
        "df[\"drive-wheels\"].value_counts()"
      ],
      "metadata": {
        "colab": {
          "base_uri": "https://localhost:8080/"
        },
        "outputId": "5193efba-3b35-46c2-8ecc-8d7ea0447856",
        "id": "qOXvMR5Io9LZ"
      },
      "execution_count": null,
      "outputs": [
        {
          "output_type": "execute_result",
          "data": {
            "text/plain": [
              "fwd    120\n",
              "rwd     76\n",
              "4wd      9\n",
              "Name: drive-wheels, dtype: int64"
            ]
          },
          "metadata": {},
          "execution_count": 287
        }
      ]
    },
    {
      "cell_type": "markdown",
      "source": [
        "No hay datos faltantes ni anómalos.\n",
        "Ya que no hay descripción de los datos, se asume que 4wd es otra posible categoría"
      ],
      "metadata": {
        "id": "hLp7GIO5o9La"
      }
    },
    {
      "cell_type": "markdown",
      "source": [
        "## Engine location"
      ],
      "metadata": {
        "id": "BghbP-AeMorK"
      }
    },
    {
      "cell_type": "code",
      "source": [
        "df[\"engine-location\"].value_counts()"
      ],
      "metadata": {
        "colab": {
          "base_uri": "https://localhost:8080/"
        },
        "outputId": "15ee53e9-a1cb-4901-c831-5266fdd35c20",
        "id": "BWehWm49o9g_"
      },
      "execution_count": null,
      "outputs": [
        {
          "output_type": "execute_result",
          "data": {
            "text/plain": [
              "front    202\n",
              "rear       3\n",
              "Name: engine-location, dtype: int64"
            ]
          },
          "metadata": {},
          "execution_count": 288
        }
      ]
    },
    {
      "cell_type": "markdown",
      "source": [
        "No hay datos faltantes ni anómalos"
      ],
      "metadata": {
        "id": "LG7R1njDo9hA"
      }
    },
    {
      "cell_type": "markdown",
      "source": [
        "## Wheel base"
      ],
      "metadata": {
        "id": "8DqFkvSxMtBR"
      }
    },
    {
      "cell_type": "code",
      "source": [
        "df[\"wheel-base\"].value_counts()"
      ],
      "metadata": {
        "colab": {
          "base_uri": "https://localhost:8080/"
        },
        "outputId": "4af80038-7bee-430b-fd53-05d762205b69",
        "id": "kcKnO673o9-4"
      },
      "execution_count": null,
      "outputs": [
        {
          "output_type": "execute_result",
          "data": {
            "text/plain": [
              "94.5     21\n",
              "93.7     20\n",
              "95.7     13\n",
              "96.5      8\n",
              "97.3      7\n",
              "98.4      7\n",
              "104.3     6\n",
              "100.4     6\n",
              "107.9     6\n",
              "98.8      6\n",
              "99.1      6\n",
              "96.3      6\n",
              "109.1     5\n",
              "93.1      5\n",
              "97.2      5\n",
              "95.9      5\n",
              "102.4     5\n",
              "97.0      4\n",
              "95.3      4\n",
              "114.2     4\n",
              "101.2     4\n",
              "110.0     3\n",
              "103.5     3\n",
              "89.5      3\n",
              "105.8     3\n",
              "96.1      2\n",
              "102.9     2\n",
              "104.5     2\n",
              "91.3      2\n",
              "96.9      2\n",
              "88.6      2\n",
              "113.0     2\n",
              "99.8      2\n",
              "115.6     2\n",
              "103.3     2\n",
              "86.6      2\n",
              "104.9     2\n",
              "93.3      1\n",
              "99.4      1\n",
              "99.5      1\n",
              "88.4      1\n",
              "94.3      1\n",
              "96.0      1\n",
              "95.1      1\n",
              "93.0      1\n",
              "102.0     1\n",
              "106.7     1\n",
              "108.0     1\n",
              "96.6      1\n",
              "99.2      1\n",
              "112.0     1\n",
              "102.7     1\n",
              "120.9     1\n",
              "Name: wheel-base, dtype: int64"
            ]
          },
          "metadata": {},
          "execution_count": 289
        }
      ]
    },
    {
      "cell_type": "markdown",
      "source": [
        "No hay datos faltantes ni anómalos"
      ],
      "metadata": {
        "id": "9s7j0tbIo9-5"
      }
    },
    {
      "cell_type": "markdown",
      "source": [
        "## Length"
      ],
      "metadata": {
        "id": "48o7s8jHMvgP"
      }
    },
    {
      "cell_type": "code",
      "source": [
        "df[\"length\"].value_counts()"
      ],
      "metadata": {
        "colab": {
          "base_uri": "https://localhost:8080/"
        },
        "outputId": "c6a49646-83d9-430f-c6e3-68780ec1c4a6",
        "id": "1CLLE5_-o-e5"
      },
      "execution_count": null,
      "outputs": [
        {
          "output_type": "execute_result",
          "data": {
            "text/plain": [
              "157.3    15\n",
              "188.8    11\n",
              "171.7     7\n",
              "186.7     7\n",
              "166.3     7\n",
              "165.3     6\n",
              "177.8     6\n",
              "176.2     6\n",
              "186.6     6\n",
              "172.0     5\n",
              "176.8     5\n",
              "175.6     5\n",
              "173.2     5\n",
              "169.0     4\n",
              "198.9     4\n",
              "168.9     4\n",
              "172.4     4\n",
              "168.7     4\n",
              "170.7     3\n",
              "192.7     3\n",
              "159.1     3\n",
              "155.9     3\n",
              "150.0     3\n",
              "169.7     3\n",
              "175.4     3\n",
              "158.7     3\n",
              "167.3     2\n",
              "173.0     2\n",
              "183.5     2\n",
              "187.8     2\n",
              "173.5     2\n",
              "184.6     2\n",
              "173.4     2\n",
              "170.2     2\n",
              "180.2     2\n",
              "173.6     2\n",
              "168.8     2\n",
              "189.0     2\n",
              "190.9     2\n",
              "144.6     2\n",
              "174.6     2\n",
              "199.6     2\n",
              "166.8     2\n",
              "175.0     2\n",
              "167.5     2\n",
              "202.6     2\n",
              "176.6     2\n",
              "177.3     1\n",
              "178.2     1\n",
              "159.3     1\n",
              "157.1     1\n",
              "165.7     1\n",
              "193.8     1\n",
              "197.0     1\n",
              "141.1     1\n",
              "158.8     1\n",
              "183.1     1\n",
              "163.4     1\n",
              "171.2     1\n",
              "156.9     1\n",
              "157.9     1\n",
              "178.4     1\n",
              "169.1     1\n",
              "181.5     1\n",
              "175.7     1\n",
              "172.6     1\n",
              "191.7     1\n",
              "178.5     1\n",
              "181.7     1\n",
              "162.4     1\n",
              "165.6     1\n",
              "187.5     1\n",
              "180.3     1\n",
              "208.1     1\n",
              "199.2     1\n",
              "Name: length, dtype: int64"
            ]
          },
          "metadata": {},
          "execution_count": 290
        }
      ]
    },
    {
      "cell_type": "markdown",
      "source": [
        "No hay datos faltantes ni anómalos"
      ],
      "metadata": {
        "id": "xjogEXcDo-e7"
      }
    },
    {
      "cell_type": "markdown",
      "source": [
        "## Width"
      ],
      "metadata": {
        "id": "8rRmqojiMxwl"
      }
    },
    {
      "cell_type": "code",
      "source": [
        "df[\"width\"].value_counts()"
      ],
      "metadata": {
        "colab": {
          "base_uri": "https://localhost:8080/"
        },
        "outputId": "6efbe630-9477-4ea8-e7e1-5fa54c540bd5",
        "id": "Un9B5VcZo-26"
      },
      "execution_count": null,
      "outputs": [
        {
          "output_type": "execute_result",
          "data": {
            "text/plain": [
              "63.8    24\n",
              "66.5    23\n",
              "65.4    15\n",
              "63.6    11\n",
              "64.4    10\n",
              "68.4    10\n",
              "64.0     9\n",
              "65.5     8\n",
              "65.2     7\n",
              "64.2     6\n",
              "66.3     6\n",
              "65.6     6\n",
              "67.2     6\n",
              "67.9     5\n",
              "66.9     5\n",
              "65.7     4\n",
              "68.9     4\n",
              "64.8     4\n",
              "63.9     3\n",
              "70.3     3\n",
              "71.7     3\n",
              "71.4     3\n",
              "65.0     3\n",
              "68.3     2\n",
              "67.7     2\n",
              "64.1     2\n",
              "66.1     2\n",
              "69.6     2\n",
              "64.6     2\n",
              "72.0     1\n",
              "68.0     1\n",
              "70.5     1\n",
              "61.8     1\n",
              "66.0     1\n",
              "62.5     1\n",
              "70.6     1\n",
              "72.3     1\n",
              "66.6     1\n",
              "63.4     1\n",
              "60.3     1\n",
              "70.9     1\n",
              "66.4     1\n",
              "66.2     1\n",
              "68.8     1\n",
              "Name: width, dtype: int64"
            ]
          },
          "metadata": {},
          "execution_count": 291
        }
      ]
    },
    {
      "cell_type": "markdown",
      "source": [
        "No hay datos faltantes ni anómalos"
      ],
      "metadata": {
        "id": "FlYyvcqjo-27"
      }
    },
    {
      "cell_type": "markdown",
      "source": [
        "## Height"
      ],
      "metadata": {
        "id": "1kujkshNMzDT"
      }
    },
    {
      "cell_type": "code",
      "source": [
        "df[\"height\"].value_counts()"
      ],
      "metadata": {
        "colab": {
          "base_uri": "https://localhost:8080/"
        },
        "outputId": "8f4ab965-2e74-44f2-aab6-c332ebabb340",
        "id": "xF8ulQZAo_S_"
      },
      "execution_count": null,
      "outputs": [
        {
          "output_type": "execute_result",
          "data": {
            "text/plain": [
              "50.8    14\n",
              "52.0    12\n",
              "55.7    12\n",
              "54.1    10\n",
              "54.5    10\n",
              "55.5     9\n",
              "56.7     8\n",
              "54.3     8\n",
              "52.6     7\n",
              "56.1     7\n",
              "51.6     7\n",
              "53.0     6\n",
              "52.8     6\n",
              "54.9     6\n",
              "50.2     6\n",
              "53.7     5\n",
              "55.1     5\n",
              "50.6     5\n",
              "49.6     4\n",
              "58.7     4\n",
              "53.3     4\n",
              "52.5     3\n",
              "59.1     3\n",
              "56.2     3\n",
              "49.7     3\n",
              "57.5     3\n",
              "53.5     3\n",
              "54.4     2\n",
              "53.9     2\n",
              "56.3     2\n",
              "50.5     2\n",
              "59.8     2\n",
              "56.5     2\n",
              "54.7     2\n",
              "48.8     2\n",
              "49.4     2\n",
              "51.4     2\n",
              "51.0     1\n",
              "54.8     1\n",
              "55.4     1\n",
              "56.0     1\n",
              "55.2     1\n",
              "53.2     1\n",
              "47.8     1\n",
              "55.9     1\n",
              "52.4     1\n",
              "55.6     1\n",
              "53.1     1\n",
              "58.3     1\n",
              "Name: height, dtype: int64"
            ]
          },
          "metadata": {},
          "execution_count": 292
        }
      ]
    },
    {
      "cell_type": "markdown",
      "source": [
        "No hay datos faltantes ni anómalos"
      ],
      "metadata": {
        "id": "9HwA-UZ9o_TB"
      }
    },
    {
      "cell_type": "markdown",
      "source": [
        "## Curb weight"
      ],
      "metadata": {
        "id": "D9GRqx6QM1wf"
      }
    },
    {
      "cell_type": "code",
      "source": [
        "df[\"curb-weight\"].value_counts()"
      ],
      "metadata": {
        "colab": {
          "base_uri": "https://localhost:8080/"
        },
        "outputId": "a4287206-2159-4308-c8aa-f86ca410250a",
        "id": "IP4EorLopABR"
      },
      "execution_count": null,
      "outputs": [
        {
          "output_type": "execute_result",
          "data": {
            "text/plain": [
              "2385    4\n",
              "1918    3\n",
              "2275    3\n",
              "1989    3\n",
              "2410    2\n",
              "2191    2\n",
              "2535    2\n",
              "2024    2\n",
              "2414    2\n",
              "4066    2\n",
              "2380    2\n",
              "3139    2\n",
              "2756    2\n",
              "1967    2\n",
              "3075    2\n",
              "2145    2\n",
              "2290    2\n",
              "2403    2\n",
              "2579    2\n",
              "2300    2\n",
              "2548    2\n",
              "2128    2\n",
              "3230    2\n",
              "2337    2\n",
              "2395    2\n",
              "1876    2\n",
              "3252    2\n",
              "1909    2\n",
              "1874    2\n",
              "2319    1\n",
              "3157    1\n",
              "2240    1\n",
              "2952    1\n",
              "2190    1\n",
              "2340    1\n",
              "2510    1\n",
              "2420    1\n",
              "2455    1\n",
              "2050    1\n",
              "2650    1\n",
              "3045    1\n",
              "1985    1\n",
              "2040    1\n",
              "2120    1\n",
              "2847    1\n",
              "2280    1\n",
              "2808    1\n",
              "2758    1\n",
              "2707    1\n",
              "2695    1\n",
              "2658    1\n",
              "2460    1\n",
              "3049    1\n",
              "3366    1\n",
              "2800    1\n",
              "3012    1\n",
              "3217    1\n",
              "2778    1\n",
              "2818    1\n",
              "3130    1\n",
              "2015    1\n",
              "3110    1\n",
              "2212    1\n",
              "2976    1\n",
              "2975    1\n",
              "2326    1\n",
              "2912    1\n",
              "2480    1\n",
              "2563    1\n",
              "2458    1\n",
              "3016    1\n",
              "2081    1\n",
              "3131    1\n",
              "3151    1\n",
              "2661    1\n",
              "2261    1\n",
              "2209    1\n",
              "2264    1\n",
              "2714    1\n",
              "2679    1\n",
              "2551    1\n",
              "2536    1\n",
              "2254    1\n",
              "3485    1\n",
              "2540    1\n",
              "3034    1\n",
              "2935    1\n",
              "2265    1\n",
              "2204    1\n",
              "2169    1\n",
              "2140    1\n",
              "2122    1\n",
              "2094    1\n",
              "2221    1\n",
              "2109    1\n",
              "3042    1\n",
              "2302    1\n",
              "3285    1\n",
              "1956    1\n",
              "2236    1\n",
              "2289    1\n",
              "2304    1\n",
              "2372    1\n",
              "2465    1\n",
              "2293    1\n",
              "2734    1\n",
              "3950    1\n",
              "1890    1\n",
              "1900    1\n",
              "1905    1\n",
              "1945    1\n",
              "1950    1\n",
              "2500    1\n",
              "2443    1\n",
              "2010    1\n",
              "1940    1\n",
              "3430    1\n",
              "1837    1\n",
              "2824    1\n",
              "2507    1\n",
              "2844    1\n",
              "2954    1\n",
              "3086    1\n",
              "3053    1\n",
              "2710    1\n",
              "2765    1\n",
              "3055    1\n",
              "3380    1\n",
              "3505    1\n",
              "1488    1\n",
              "2811    1\n",
              "1713    1\n",
              "1819    1\n",
              "2425    1\n",
              "2670    1\n",
              "2700    1\n",
              "3515    1\n",
              "2017    1\n",
              "1938    1\n",
              "1951    1\n",
              "2028    1\n",
              "1971    1\n",
              "2037    1\n",
              "2008    1\n",
              "2324    1\n",
              "2823    1\n",
              "3095    1\n",
              "3296    1\n",
              "3060    1\n",
              "3071    1\n",
              "3020    1\n",
              "3197    1\n",
              "1889    1\n",
              "2405    1\n",
              "2365    1\n",
              "3715    1\n",
              "3750    1\n",
              "3495    1\n",
              "3770    1\n",
              "3740    1\n",
              "3685    1\n",
              "3900    1\n",
              "2910    1\n",
              "2926    1\n",
              "1944    1\n",
              "2004    1\n",
              "2370    1\n",
              "2328    1\n",
              "2833    1\n",
              "2921    1\n",
              "3062    1\n",
              "Name: curb-weight, dtype: int64"
            ]
          },
          "metadata": {},
          "execution_count": 293
        }
      ]
    },
    {
      "cell_type": "markdown",
      "source": [
        "No hay datos faltantes ni anómalos"
      ],
      "metadata": {
        "id": "5Kk3fpKepABS"
      }
    },
    {
      "cell_type": "markdown",
      "source": [
        "## Engine type"
      ],
      "metadata": {
        "id": "ENeePIntM6Oi"
      }
    },
    {
      "cell_type": "code",
      "source": [
        "df[\"engine-type\"].value_counts()"
      ],
      "metadata": {
        "colab": {
          "base_uri": "https://localhost:8080/"
        },
        "outputId": "33dc2525-c3f3-45df-e30d-cb60e78f8786",
        "id": "6PXT7ptGpAVz"
      },
      "execution_count": null,
      "outputs": [
        {
          "output_type": "execute_result",
          "data": {
            "text/plain": [
              "ohc      148\n",
              "ohcf      15\n",
              "ohcv      13\n",
              "dohc      12\n",
              "l         12\n",
              "rotor      4\n",
              "dohcv      1\n",
              "Name: engine-type, dtype: int64"
            ]
          },
          "metadata": {},
          "execution_count": 294
        }
      ]
    },
    {
      "cell_type": "markdown",
      "source": [
        "No hay datos faltantes ni anómalos\n",
        "Ya que no hay descripción de los datos, se asume que l es otra categoría de engine-type"
      ],
      "metadata": {
        "id": "f5ybnbBopAVz"
      }
    },
    {
      "cell_type": "markdown",
      "source": [
        "## Num of cylinders"
      ],
      "metadata": {
        "id": "Us_UF2XRM8B3"
      }
    },
    {
      "cell_type": "code",
      "source": [
        "df[\"num-of-cylinders\"].value_counts()"
      ],
      "metadata": {
        "colab": {
          "base_uri": "https://localhost:8080/"
        },
        "outputId": "acd6f875-5874-4077-a1b2-1ad03d8c670e",
        "id": "Joss1MC_pAzk"
      },
      "execution_count": null,
      "outputs": [
        {
          "output_type": "execute_result",
          "data": {
            "text/plain": [
              "four      159\n",
              "six        24\n",
              "five       11\n",
              "eight       5\n",
              "two         4\n",
              "three       1\n",
              "twelve      1\n",
              "Name: num-of-cylinders, dtype: int64"
            ]
          },
          "metadata": {},
          "execution_count": 295
        }
      ]
    },
    {
      "cell_type": "markdown",
      "source": [
        "No hay datos faltantes ni anómalos"
      ],
      "metadata": {
        "id": "_o1iTN_JpAzl"
      }
    },
    {
      "cell_type": "code",
      "source": [
        "df[\"num-of-cylinders\"] = df[\"num-of-cylinders\"].replace(to_replace=\"four\",value=4)\n",
        "df[\"num-of-cylinders\"] = df[\"num-of-cylinders\"].replace(to_replace=\"six\",value=6)\n",
        "df[\"num-of-cylinders\"] = df[\"num-of-cylinders\"].replace(to_replace=\"five\",value=5)\n",
        "df[\"num-of-cylinders\"] = df[\"num-of-cylinders\"].replace(to_replace=\"eight\",value=8)\n",
        "df[\"num-of-cylinders\"] = df[\"num-of-cylinders\"].replace(to_replace=\"two\",value=2)\n",
        "df[\"num-of-cylinders\"] = df[\"num-of-cylinders\"].replace(to_replace=\"three\",value=3)\n",
        "df[\"num-of-cylinders\"] = df[\"num-of-cylinders\"].replace(to_replace=\"twelve\",value=12)"
      ],
      "metadata": {
        "id": "043KPtZxz5LD"
      },
      "execution_count": null,
      "outputs": []
    },
    {
      "cell_type": "markdown",
      "source": [
        "## Engine size"
      ],
      "metadata": {
        "id": "rhU9dHAHNAA_"
      }
    },
    {
      "cell_type": "code",
      "source": [
        "df[\"engine-size\"].value_counts()"
      ],
      "metadata": {
        "colab": {
          "base_uri": "https://localhost:8080/"
        },
        "outputId": "01b7a055-27e2-4de6-de1b-b222f3f8c1d6",
        "id": "uOnbKM46pBIR"
      },
      "execution_count": null,
      "outputs": [
        {
          "output_type": "execute_result",
          "data": {
            "text/plain": [
              "122    15\n",
              "92     15\n",
              "97     14\n",
              "98     14\n",
              "108    13\n",
              "90     12\n",
              "110    12\n",
              "109     8\n",
              "120     7\n",
              "141     7\n",
              "152     6\n",
              "181     6\n",
              "146     6\n",
              "121     6\n",
              "156     5\n",
              "136     5\n",
              "91      5\n",
              "183     4\n",
              "130     4\n",
              "171     3\n",
              "70      3\n",
              "194     3\n",
              "209     3\n",
              "164     3\n",
              "258     2\n",
              "140     2\n",
              "134     2\n",
              "234     2\n",
              "132     2\n",
              "131     2\n",
              "173     1\n",
              "203     1\n",
              "161     1\n",
              "80      1\n",
              "151     1\n",
              "103     1\n",
              "304     1\n",
              "308     1\n",
              "326     1\n",
              "119     1\n",
              "111     1\n",
              "79      1\n",
              "61      1\n",
              "145     1\n",
              "Name: engine-size, dtype: int64"
            ]
          },
          "metadata": {},
          "execution_count": 297
        }
      ]
    },
    {
      "cell_type": "markdown",
      "source": [
        "No hay datos faltantes ni anómalos"
      ],
      "metadata": {
        "id": "6wHC38LbpBIS"
      }
    },
    {
      "cell_type": "markdown",
      "source": [
        "## Fuel system"
      ],
      "metadata": {
        "id": "lX_3dhUnNJZi"
      }
    },
    {
      "cell_type": "code",
      "source": [
        "df[\"fuel-system\"].value_counts()"
      ],
      "metadata": {
        "colab": {
          "base_uri": "https://localhost:8080/"
        },
        "outputId": "c01fc703-7081-4faf-8804-9dfb7df866d6",
        "id": "LrwtYbGcpBqs"
      },
      "execution_count": null,
      "outputs": [
        {
          "output_type": "execute_result",
          "data": {
            "text/plain": [
              "mpfi    94\n",
              "2bbl    66\n",
              "idi     20\n",
              "1bbl    11\n",
              "spdi     9\n",
              "4bbl     3\n",
              "mfi      1\n",
              "spfi     1\n",
              "Name: fuel-system, dtype: int64"
            ]
          },
          "metadata": {},
          "execution_count": 298
        }
      ]
    },
    {
      "cell_type": "markdown",
      "source": [
        "No hay datos faltantes ni anómalos"
      ],
      "metadata": {
        "id": "pmAyUQYcpBqt"
      }
    },
    {
      "cell_type": "markdown",
      "source": [
        "## Bore"
      ],
      "metadata": {
        "id": "Mx8Te6bkNLAu"
      }
    },
    {
      "cell_type": "code",
      "source": [
        "df[\"bore\"].value_counts()"
      ],
      "metadata": {
        "colab": {
          "base_uri": "https://localhost:8080/"
        },
        "outputId": "19b095c9-887b-4fa3-b910-3b67b1ded55b",
        "id": "HwE-srTTpCXX"
      },
      "execution_count": null,
      "outputs": [
        {
          "output_type": "execute_result",
          "data": {
            "text/plain": [
              "3.62    23\n",
              "3.19    20\n",
              "3.15    15\n",
              "3.03    12\n",
              "2.97    12\n",
              "3.46     9\n",
              "3.78     8\n",
              "3.31     8\n",
              "3.43     8\n",
              "3.27     7\n",
              "2.91     7\n",
              "3.54     6\n",
              "3.05     6\n",
              "3.58     6\n",
              "3.39     6\n",
              "3.01     5\n",
              "3.70     5\n",
              "3.35     4\n",
              "3.17     3\n",
              "3.59     3\n",
              "3.74     3\n",
              "3.33     2\n",
              "3.24     2\n",
              "3.94     2\n",
              "3.47     2\n",
              "3.80     2\n",
              "3.63     2\n",
              "3.50     2\n",
              "3.13     2\n",
              "2.68     1\n",
              "2.99     1\n",
              "3.08     1\n",
              "3.61     1\n",
              "2.92     1\n",
              "3.60     1\n",
              "2.54     1\n",
              "3.34     1\n",
              "3.76     1\n",
              "Name: bore, dtype: int64"
            ]
          },
          "metadata": {},
          "execution_count": 299
        }
      ]
    },
    {
      "cell_type": "code",
      "source": [
        "plt.hist(df[\"bore\"])"
      ],
      "metadata": {
        "colab": {
          "base_uri": "https://localhost:8080/"
        },
        "id": "Vbtxn-Cr1hQP",
        "outputId": "722ff9a6-7b46-45d0-a98d-e8e539815bd9"
      },
      "execution_count": null,
      "outputs": [
        {
          "output_type": "execute_result",
          "data": {
            "text/plain": [
              "(array([ 1.,  1.,  8., 37., 40., 24., 27., 42., 17.,  4.]),\n",
              " array([2.54, 2.68, 2.82, 2.96, 3.1 , 3.24, 3.38, 3.52, 3.66, 3.8 , 3.94]),\n",
              " <BarContainer object of 10 artists>)"
            ]
          },
          "metadata": {},
          "execution_count": 300
        },
        {
          "output_type": "display_data",
          "data": {
            "text/plain": [
              "<Figure size 640x480 with 1 Axes>"
            ],
            "image/png": "[encoded data removed]"
          },
          "metadata": {}
        }
      ]
    },
    {
      "cell_type": "code",
      "source": [
        "df[df[\"bore\"].isna()]"
      ],
      "metadata": {
        "colab": {
          "base_uri": "https://localhost:8080/"
        },
        "id": "k8LJULX40oj5",
        "outputId": "f89b4c52-2b1f-428e-b5b0-7034954ff8c5"
      },
      "execution_count": null,
      "outputs": [
        {
          "output_type": "execute_result",
          "data": {
            "text/plain": [
              "    symboling  normalized-losses   make fuel_type aspiration  number_of_doors  \\\n",
              "55          3              150.0  mazda       gas        std                2   \n",
              "56          3              150.0  mazda       gas        std                2   \n",
              "57          3              150.0  mazda       gas        std                2   \n",
              "58          3              150.0  mazda       gas        std                2   \n",
              "\n",
              "   body-style drive-wheels engine-location  wheel-base  ...  engine-size  \\\n",
              "55  hatchback          rwd           front        95.3  ...           70   \n",
              "56  hatchback          rwd           front        95.3  ...           70   \n",
              "57  hatchback          rwd           front        95.3  ...           70   \n",
              "58  hatchback          rwd           front        95.3  ...           80   \n",
              "\n",
              "    fuel-system  bore  stroke compression-ratio  horsepower  peak-rpm  \\\n",
              "55         4bbl   NaN     NaN               9.4       101.0    6000.0   \n",
              "56         4bbl   NaN     NaN               9.4       101.0    6000.0   \n",
              "57         4bbl   NaN     NaN               9.4       101.0    6000.0   \n",
              "58         mpfi   NaN     NaN               9.4       135.0    6000.0   \n",
              "\n",
              "   city-mpg  highway-mpg    price  \n",
              "55       17           23  10945.0  \n",
              "56       17           23  11845.0  \n",
              "57       17           23  13645.0  \n",
              "58       16           23  15645.0  \n",
              "\n",
              "[4 rows x 26 columns]"
            ],
            "text/html": [
              "\n",
              "  <div id=\"df-e294ce64-d486-47e8-9546-821d4d470d12\" class=\"colab-df-container\">\n",
              "    <div>\n",
              "<style scoped>\n",
              "    .dataframe tbody tr th:only-of-type {\n",
              "        vertical-align: middle;\n",
              "    }\n",
              "\n",
              "    .dataframe tbody tr th {\n",
              "        vertical-align: top;\n",
              "    }\n",
              "\n",
              "    .dataframe thead th {\n",
              "        text-align: right;\n",
              "    }\n",
              "</style>\n",
              "<table border=\"1\" class=\"dataframe\">\n",
              "  <thead>\n",
              "    <tr style=\"text-align: right;\">\n",
              "      <th></th>\n",
              "      <th>symboling</th>\n",
              "      <th>normalized-losses</th>\n",
              "      <th>make</th>\n",
              "      <th>fuel_type</th>\n",
              "      <th>aspiration</th>\n",
              "      <th>number_of_doors</th>\n",
              "      <th>body-style</th>\n",
              "      <th>drive-wheels</th>\n",
              "      <th>engine-location</th>\n",
              "      <th>wheel-base</th>\n",
              "      <th>...</th>\n",
              "      <th>engine-size</th>\n",
              "      <th>fuel-system</th>\n",
              "      <th>bore</th>\n",
              "      <th>stroke</th>\n",
              "      <th>compression-ratio</th>\n",
              "      <th>horsepower</th>\n",
              "      <th>peak-rpm</th>\n",
              "      <th>city-mpg</th>\n",
              "      <th>highway-mpg</th>\n",
              "      <th>price</th>\n",
              "    </tr>\n",
              "  </thead>\n",
              "  <tbody>\n",
              "    <tr>\n",
              "      <th>55</th>\n",
              "      <td>3</td>\n",
              "      <td>150.0</td>\n",
              "      <td>mazda</td>\n",
              "      <td>gas</td>\n",
              "      <td>std</td>\n",
              "      <td>2</td>\n",
              "      <td>hatchback</td>\n",
              "      <td>rwd</td>\n",
              "      <td>front</td>\n",
              "      <td>95.3</td>\n",
              "      <td>...</td>\n",
              "      <td>70</td>\n",
              "      <td>4bbl</td>\n",
              "      <td>NaN</td>\n",
              "      <td>NaN</td>\n",
              "      <td>9.4</td>\n",
              "      <td>101.0</td>\n",
              "      <td>6000.0</td>\n",
              "      <td>17</td>\n",
              "      <td>23</td>\n",
              "      <td>10945.0</td>\n",
              "    </tr>\n",
              "    <tr>\n",
              "      <th>56</th>\n",
              "      <td>3</td>\n",
              "      <td>150.0</td>\n",
              "      <td>mazda</td>\n",
              "      <td>gas</td>\n",
              "      <td>std</td>\n",
              "      <td>2</td>\n",
              "      <td>hatchback</td>\n",
              "      <td>rwd</td>\n",
              "      <td>front</td>\n",
              "      <td>95.3</td>\n",
              "      <td>...</td>\n",
              "      <td>70</td>\n",
              "      <td>4bbl</td>\n",
              "      <td>NaN</td>\n",
              "      <td>NaN</td>\n",
              "      <td>9.4</td>\n",
              "      <td>101.0</td>\n",
              "      <td>6000.0</td>\n",
              "      <td>17</td>\n",
              "      <td>23</td>\n",
              "      <td>11845.0</td>\n",
              "    </tr>\n",
              "    <tr>\n",
              "      <th>57</th>\n",
              "      <td>3</td>\n",
              "      <td>150.0</td>\n",
              "      <td>mazda</td>\n",
              "      <td>gas</td>\n",
              "      <td>std</td>\n",
              "      <td>2</td>\n",
              "      <td>hatchback</td>\n",
              "      <td>rwd</td>\n",
              "      <td>front</td>\n",
              "      <td>95.3</td>\n",
              "      <td>...</td>\n",
              "      <td>70</td>\n",
              "      <td>4bbl</td>\n",
              "      <td>NaN</td>\n",
              "      <td>NaN</td>\n",
              "      <td>9.4</td>\n",
              "      <td>101.0</td>\n",
              "      <td>6000.0</td>\n",
              "      <td>17</td>\n",
              "      <td>23</td>\n",
              "      <td>13645.0</td>\n",
              "    </tr>\n",
              "    <tr>\n",
              "      <th>58</th>\n",
              "      <td>3</td>\n",
              "      <td>150.0</td>\n",
              "      <td>mazda</td>\n",
              "      <td>gas</td>\n",
              "      <td>std</td>\n",
              "      <td>2</td>\n",
              "      <td>hatchback</td>\n",
              "      <td>rwd</td>\n",
              "      <td>front</td>\n",
              "      <td>95.3</td>\n",
              "      <td>...</td>\n",
              "      <td>80</td>\n",
              "      <td>mpfi</td>\n",
              "      <td>NaN</td>\n",
              "      <td>NaN</td>\n",
              "      <td>9.4</td>\n",
              "      <td>135.0</td>\n",
              "      <td>6000.0</td>\n",
              "      <td>16</td>\n",
              "      <td>23</td>\n",
              "      <td>15645.0</td>\n",
              "    </tr>\n",
              "  </tbody>\n",
              "</table>\n",
              "<p>4 rows × 26 columns</p>\n",
              "</div>\n",
              "    <div class=\"colab-df-buttons\">\n",
              "\n",
              "  <div class=\"colab-df-container\">\n",
              "    <button class=\"colab-df-convert\" onclick=\"convertToInteractive('df-e294ce64-d486-47e8-9546-821d4d470d12')\"\n",
              "            title=\"Convert this dataframe to an interactive table.\"\n",
              "            style=\"display:none;\">\n",
              "\n",
              "  <svg xmlns=\"http://www.w3.org/2000/svg\" height=\"24px\" viewBox=\"0 -960 960 960\">\n",
              "    <path d=\"M120-120v-720h720v720H120Zm60-500h600v-160H180v160Zm220 220h160v-160H400v160Zm0 220h160v-160H400v160ZM180-400h160v-160H180v160Zm440 0h160v-160H620v160ZM180-180h160v-160H180v160Zm440 0h160v-160H620v160Z\"/>\n",
              "  </svg>\n",
              "    </button>\n",
              "\n",
              "  <style>\n",
              "    .colab-df-container {\n",
              "      display:flex;\n",
              "      gap: 12px;\n",
              "    }\n",
              "\n",
              "    .colab-df-convert {\n",
              "      background-color: #E8F0FE;\n",
              "      border: none;\n",
              "      border-radius: 50%;\n",
              "      cursor: pointer;\n",
              "      display: none;\n",
              "      fill: #1967D2;\n",
              "      height: 32px;\n",
              "      padding: 0 0 0 0;\n",
              "      width: 32px;\n",
              "    }\n",
              "\n",
              "    .colab-df-convert:hover {\n",
              "      background-color: #E2EBFA;\n",
              "      box-shadow: 0px 1px 2px rgba(60, 64, 67, 0.3), 0px 1px 3px 1px rgba(60, 64, 67, 0.15);\n",
              "      fill: #174EA6;\n",
              "    }\n",
              "\n",
              "    .colab-df-buttons div {\n",
              "      margin-bottom: 4px;\n",
              "    }\n",
              "\n",
              "    [theme=dark] .colab-df-convert {\n",
              "      background-color: #3B4455;\n",
              "      fill: #D2E3FC;\n",
              "    }\n",
              "\n",
              "    [theme=dark] .colab-df-convert:hover {\n",
              "      background-color: #434B5C;\n",
              "      box-shadow: 0px 1px 3px 1px rgba(0, 0, 0, 0.15);\n",
              "      filter: drop-shadow(0px 1px 2px rgba(0, 0, 0, 0.3));\n",
              "      fill: #FFFFFF;\n",
              "    }\n",
              "  </style>\n",
              "\n",
              "    <script>\n",
              "      const buttonEl =\n",
              "        document.querySelector('#df-e294ce64-d486-47e8-9546-821d4d470d12 button.colab-df-convert');\n",
              "      buttonEl.style.display =\n",
              "        google.colab.kernel.accessAllowed ? 'block' : 'none';\n",
              "\n",
              "      async function convertToInteractive(key) {\n",
              "        const element = document.querySelector('#df-e294ce64-d486-47e8-9546-821d4d470d12');\n",
              "        const dataTable =\n",
              "          await google.colab.kernel.invokeFunction('convertToInteractive',\n",
              "                                                    [key], {});\n",
              "        if (!dataTable) return;\n",
              "\n",
              "        const docLinkHtml = 'Like what you see? Visit the ' +\n",
              "          '<a target=\"_blank\" href=https://colab.research.google.com/notebooks/data_table.ipynb>data table notebook</a>'\n",
              "          + ' to learn more about interactive tables.';\n",
              "        element.innerHTML = '';\n",
              "        dataTable['output_type'] = 'display_data';\n",
              "        await google.colab.output.renderOutput(dataTable, element);\n",
              "        const docLink = document.createElement('div');\n",
              "        docLink.innerHTML = docLinkHtml;\n",
              "        element.appendChild(docLink);\n",
              "      }\n",
              "    </script>\n",
              "  </div>\n",
              "\n",
              "\n",
              "<div id=\"df-2cd8425e-3337-4c3f-8882-907efc7f8077\">\n",
              "  <button class=\"colab-df-quickchart\" onclick=\"quickchart('df-2cd8425e-3337-4c3f-8882-907efc7f8077')\"\n",
              "            title=\"Suggest charts.\"\n",
              "            style=\"display:none;\">\n",
              "\n",
              "<svg xmlns=\"http://www.w3.org/2000/svg\" height=\"24px\"viewBox=\"0 0 24 24\"\n",
              "     width=\"24px\">\n",
              "    <g>\n",
              "        <path d=\"M19 3H5c-1.1 0-2 .9-2 2v14c0 1.1.9 2 2 2h14c1.1 0 2-.9 2-2V5c0-1.1-.9-2-2-2zM9 17H7v-7h2v7zm4 0h-2V7h2v10zm4 0h-2v-4h2v4z\"/>\n",
              "    </g>\n",
              "</svg>\n",
              "  </button>\n",
              "\n",
              "<style>\n",
              "  .colab-df-quickchart {\n",
              "      --bg-color: #E8F0FE;\n",
              "      --fill-color: #1967D2;\n",
              "      --hover-bg-color: #E2EBFA;\n",
              "      --hover-fill-color: #174EA6;\n",
              "      --disabled-fill-color: #AAA;\n",
              "      --disabled-bg-color: #DDD;\n",
              "  }\n",
              "\n",
              "  [theme=dark] .colab-df-quickchart {\n",
              "      --bg-color: #3B4455;\n",
              "      --fill-color: #D2E3FC;\n",
              "      --hover-bg-color: #434B5C;\n",
              "      --hover-fill-color: #FFFFFF;\n",
              "      --disabled-bg-color: #3B4455;\n",
              "      --disabled-fill-color: #666;\n",
              "  }\n",
              "\n",
              "  .colab-df-quickchart {\n",
              "    background-color: var(--bg-color);\n",
              "    border: none;\n",
              "    border-radius: 50%;\n",
              "    cursor: pointer;\n",
              "    display: none;\n",
              "    fill: var(--fill-color);\n",
              "    height: 32px;\n",
              "    padding: 0;\n",
              "    width: 32px;\n",
              "  }\n",
              "\n",
              "  .colab-df-quickchart:hover {\n",
              "    background-color: var(--hover-bg-color);\n",
              "    box-shadow: 0 1px 2px rgba(60, 64, 67, 0.3), 0 1px 3px 1px rgba(60, 64, 67, 0.15);\n",
              "    fill: var(--button-hover-fill-color);\n",
              "  }\n",
              "\n",
              "  .colab-df-quickchart-complete:disabled,\n",
              "  .colab-df-quickchart-complete:disabled:hover {\n",
              "    background-color: var(--disabled-bg-color);\n",
              "    fill: var(--disabled-fill-color);\n",
              "    box-shadow: none;\n",
              "  }\n",
              "\n",
              "  .colab-df-spinner {\n",
              "    border: 2px solid var(--fill-color);\n",
              "    border-color: transparent;\n",
              "    border-bottom-color: var(--fill-color);\n",
              "    animation:\n",
              "      spin 1s steps(1) infinite;\n",
              "  }\n",
              "\n",
              "  @keyframes spin {\n",
              "    0% {\n",
              "      border-color: transparent;\n",
              "      border-bottom-color: var(--fill-color);\n",
              "      border-left-color: var(--fill-color);\n",
              "    }\n",
              "    20% {\n",
              "      border-color: transparent;\n",
              "      border-left-color: var(--fill-color);\n",
              "      border-top-color: var(--fill-color);\n",
              "    }\n",
              "    30% {\n",
              "      border-color: transparent;\n",
              "      border-left-color: var(--fill-color);\n",
              "      border-top-color: var(--fill-color);\n",
              "      border-right-color: var(--fill-color);\n",
              "    }\n",
              "    40% {\n",
              "      border-color: transparent;\n",
              "      border-right-color: var(--fill-color);\n",
              "      border-top-color: var(--fill-color);\n",
              "    }\n",
              "    60% {\n",
              "      border-color: transparent;\n",
              "      border-right-color: var(--fill-color);\n",
              "    }\n",
              "    80% {\n",
              "      border-color: transparent;\n",
              "      border-right-color: var(--fill-color);\n",
              "      border-bottom-color: var(--fill-color);\n",
              "    }\n",
              "    90% {\n",
              "      border-color: transparent;\n",
              "      border-bottom-color: var(--fill-color);\n",
              "    }\n",
              "  }\n",
              "</style>\n",
              "\n",
              "  <script>\n",
              "    async function quickchart(key) {\n",
              "      const quickchartButtonEl =\n",
              "        document.querySelector('#' + key + ' button');\n",
              "      quickchartButtonEl.disabled = true;  // To prevent multiple clicks.\n",
              "      quickchartButtonEl.classList.add('colab-df-spinner');\n",
              "      try {\n",
              "        const charts = await google.colab.kernel.invokeFunction(\n",
              "            'suggestCharts', [key], {});\n",
              "      } catch (error) {\n",
              "        console.error('Error during call to suggestCharts:', error);\n",
              "      }\n",
              "      quickchartButtonEl.classList.remove('colab-df-spinner');\n",
              "      quickchartButtonEl.classList.add('colab-df-quickchart-complete');\n",
              "    }\n",
              "    (() => {\n",
              "      let quickchartButtonEl =\n",
              "        document.querySelector('#df-2cd8425e-3337-4c3f-8882-907efc7f8077 button');\n",
              "      quickchartButtonEl.style.display =\n",
              "        google.colab.kernel.accessAllowed ? 'block' : 'none';\n",
              "    })();\n",
              "  </script>\n",
              "</div>\n",
              "    </div>\n",
              "  </div>\n"
            ]
          },
          "metadata": {},
          "execution_count": 301
        }
      ]
    },
    {
      "cell_type": "code",
      "source": [
        "df[\"bore\"] = df[\"bore\"].fillna(df[\"bore\"].median())"
      ],
      "metadata": {
        "id": "00O-dckd1v1R"
      },
      "execution_count": null,
      "outputs": []
    },
    {
      "cell_type": "markdown",
      "source": [
        "## Stroke"
      ],
      "metadata": {
        "id": "3zpNA1lGNMl3"
      }
    },
    {
      "cell_type": "code",
      "source": [
        "df[\"stroke\"].value_counts()"
      ],
      "metadata": {
        "colab": {
          "base_uri": "https://localhost:8080/"
        },
        "outputId": "90dd4c32-cf5b-4dbf-8e49-cac2b3140685",
        "id": "fdvH8CrcpCzJ"
      },
      "execution_count": null,
      "outputs": [
        {
          "output_type": "execute_result",
          "data": {
            "text/plain": [
              "3.40    20\n",
              "3.03    14\n",
              "3.23    14\n",
              "3.15    14\n",
              "3.39    13\n",
              "2.64    11\n",
              "3.29     9\n",
              "3.35     9\n",
              "3.46     8\n",
              "3.07     6\n",
              "3.58     6\n",
              "3.50     6\n",
              "3.27     6\n",
              "3.41     6\n",
              "3.11     6\n",
              "3.19     6\n",
              "3.52     5\n",
              "3.64     5\n",
              "3.47     4\n",
              "3.86     4\n",
              "3.54     4\n",
              "3.90     3\n",
              "2.90     3\n",
              "3.08     2\n",
              "2.19     2\n",
              "2.68     2\n",
              "3.10     2\n",
              "4.17     2\n",
              "2.80     2\n",
              "3.12     1\n",
              "3.21     1\n",
              "2.07     1\n",
              "2.36     1\n",
              "3.16     1\n",
              "2.76     1\n",
              "2.87     1\n",
              "Name: stroke, dtype: int64"
            ]
          },
          "metadata": {},
          "execution_count": 303
        }
      ]
    },
    {
      "cell_type": "markdown",
      "source": [
        "Hay datos faltantes"
      ],
      "metadata": {
        "id": "RtU4mH0IpCzK"
      }
    },
    {
      "cell_type": "code",
      "source": [
        "plt.hist(df[\"stroke\"])"
      ],
      "metadata": {
        "colab": {
          "base_uri": "https://localhost:8080/"
        },
        "id": "XNuTUJIG_q7L",
        "outputId": "54bf3909-3ba0-4494-b2f3-391b0084028c"
      },
      "execution_count": null,
      "outputs": [
        {
          "output_type": "execute_result",
          "data": {
            "text/plain": [
              "(array([ 3.,  1., 13.,  7., 30., 52., 71., 15.,  7.,  2.]),\n",
              " array([2.07, 2.28, 2.49, 2.7 , 2.91, 3.12, 3.33, 3.54, 3.75, 3.96, 4.17]),\n",
              " <BarContainer object of 10 artists>)"
            ]
          },
          "metadata": {},
          "execution_count": 304
        },
        {
          "output_type": "display_data",
          "data": {
            "text/plain": [
              "<Figure size 640x480 with 1 Axes>"
            ],
            "image/png": "[encoded data removed]"
          },
          "metadata": {}
        }
      ]
    },
    {
      "cell_type": "code",
      "source": [
        "df[\"stroke\"] = df[\"stroke\"].fillna(df[\"stroke\"].mean())"
      ],
      "metadata": {
        "id": "xKBMvcVg_0v7"
      },
      "execution_count": null,
      "outputs": []
    },
    {
      "cell_type": "markdown",
      "source": [
        "## Compression ratio"
      ],
      "metadata": {
        "id": "KcdZvOacNOLC"
      }
    },
    {
      "cell_type": "code",
      "source": [
        "df[\"compression-ratio\"].value_counts()"
      ],
      "metadata": {
        "colab": {
          "base_uri": "https://localhost:8080/"
        },
        "outputId": "71ff53c5-55c0-497b-e09f-e3f92667dd42",
        "id": "mPCmf2cppDOV"
      },
      "execution_count": null,
      "outputs": [
        {
          "output_type": "execute_result",
          "data": {
            "text/plain": [
              "9.00     46\n",
              "9.40     26\n",
              "8.50     14\n",
              "9.50     13\n",
              "9.30     11\n",
              "8.70      9\n",
              "8.00      8\n",
              "9.20      8\n",
              "7.00      7\n",
              "8.60      5\n",
              "21.00     5\n",
              "8.40      5\n",
              "7.50      5\n",
              "23.00     5\n",
              "9.60      5\n",
              "21.50     4\n",
              "7.60      4\n",
              "10.00     3\n",
              "22.50     3\n",
              "8.30      3\n",
              "8.80      3\n",
              "7.70      2\n",
              "8.10      2\n",
              "9.10      1\n",
              "9.31      1\n",
              "7.80      1\n",
              "9.41      1\n",
              "21.90     1\n",
              "22.00     1\n",
              "22.70     1\n",
              "10.10     1\n",
              "11.50     1\n",
              "Name: compression-ratio, dtype: int64"
            ]
          },
          "metadata": {},
          "execution_count": 306
        }
      ]
    },
    {
      "cell_type": "markdown",
      "source": [
        "No hay datos faltantes ni anómalos"
      ],
      "metadata": {
        "id": "X9s8-YE_pDOW"
      }
    },
    {
      "cell_type": "markdown",
      "source": [
        "## Horsepower"
      ],
      "metadata": {
        "id": "wrxO3jzkNQmO"
      }
    },
    {
      "cell_type": "code",
      "source": [
        "df[\"horsepower\"].value_counts()"
      ],
      "metadata": {
        "colab": {
          "base_uri": "https://localhost:8080/"
        },
        "outputId": "63705f5d-e172-4808-8f06-a43bcbadf82c",
        "id": "qO89vITupEGb"
      },
      "execution_count": null,
      "outputs": [
        {
          "output_type": "execute_result",
          "data": {
            "text/plain": [
              "68.0     19\n",
              "70.0     11\n",
              "69.0     10\n",
              "116.0     9\n",
              "110.0     8\n",
              "95.0      7\n",
              "114.0     6\n",
              "160.0     6\n",
              "101.0     6\n",
              "62.0      6\n",
              "88.0      6\n",
              "145.0     5\n",
              "76.0      5\n",
              "97.0      5\n",
              "82.0      5\n",
              "84.0      5\n",
              "102.0     5\n",
              "92.0      4\n",
              "111.0     4\n",
              "123.0     4\n",
              "86.0      4\n",
              "207.0     3\n",
              "182.0     3\n",
              "90.0      3\n",
              "121.0     3\n",
              "152.0     3\n",
              "85.0      3\n",
              "73.0      3\n",
              "161.0     2\n",
              "94.0      2\n",
              "56.0      2\n",
              "112.0     2\n",
              "184.0     2\n",
              "155.0     2\n",
              "156.0     2\n",
              "52.0      2\n",
              "100.0     2\n",
              "162.0     2\n",
              "176.0     2\n",
              "140.0     1\n",
              "115.0     1\n",
              "134.0     1\n",
              "78.0      1\n",
              "48.0      1\n",
              "288.0     1\n",
              "143.0     1\n",
              "142.0     1\n",
              "200.0     1\n",
              "58.0      1\n",
              "55.0      1\n",
              "60.0      1\n",
              "175.0     1\n",
              "154.0     1\n",
              "72.0      1\n",
              "120.0     1\n",
              "64.0      1\n",
              "135.0     1\n",
              "262.0     1\n",
              "106.0     1\n",
              "Name: horsepower, dtype: int64"
            ]
          },
          "metadata": {},
          "execution_count": 307
        }
      ]
    },
    {
      "cell_type": "code",
      "source": [
        "plt.hist(df[\"horsepower\"])"
      ],
      "metadata": {
        "colab": {
          "base_uri": "https://localhost:8080/"
        },
        "id": "uUyPfFMKAEq1",
        "outputId": "e78bb0c9-875d-4c16-e4c4-acb029e4de22"
      },
      "execution_count": null,
      "outputs": [
        {
          "output_type": "execute_result",
          "data": {
            "text/plain": [
              "(array([55., 49., 49., 13., 23.,  8.,  4.,  0.,  1.,  1.]),\n",
              " array([ 48.,  72.,  96., 120., 144., 168., 192., 216., 240., 264., 288.]),\n",
              " <BarContainer object of 10 artists>)"
            ]
          },
          "metadata": {},
          "execution_count": 308
        },
        {
          "output_type": "display_data",
          "data": {
            "text/plain": [
              "<Figure size 640x480 with 1 Axes>"
            ],
            "image/png": "[encoded data removed]"
          },
          "metadata": {}
        }
      ]
    },
    {
      "cell_type": "code",
      "source": [
        "df[\"horsepower\"] = df[\"horsepower\"].fillna(df[\"horsepower\"].median())"
      ],
      "metadata": {
        "id": "EkAC24IPALOg"
      },
      "execution_count": null,
      "outputs": []
    },
    {
      "cell_type": "markdown",
      "source": [
        "## Peak rpm"
      ],
      "metadata": {
        "id": "h2cikgVeNTG4"
      }
    },
    {
      "cell_type": "code",
      "source": [
        "df[\"peak-rpm\"].value_counts()"
      ],
      "metadata": {
        "colab": {
          "base_uri": "https://localhost:8080/"
        },
        "outputId": "8b0b4db3-a173-4f33-fcfa-9ad20e69bb90",
        "id": "kx-Q4xlzpEhA"
      },
      "execution_count": null,
      "outputs": [
        {
          "output_type": "execute_result",
          "data": {
            "text/plain": [
              "5500.0    37\n",
              "4800.0    36\n",
              "5000.0    27\n",
              "5200.0    23\n",
              "5400.0    13\n",
              "6000.0     9\n",
              "5800.0     7\n",
              "5250.0     7\n",
              "4500.0     7\n",
              "4150.0     5\n",
              "4200.0     5\n",
              "4350.0     4\n",
              "4750.0     4\n",
              "5100.0     3\n",
              "5900.0     3\n",
              "4250.0     3\n",
              "4400.0     3\n",
              "6600.0     2\n",
              "4650.0     1\n",
              "5600.0     1\n",
              "5750.0     1\n",
              "4900.0     1\n",
              "5300.0     1\n",
              "Name: peak-rpm, dtype: int64"
            ]
          },
          "metadata": {},
          "execution_count": 310
        }
      ]
    },
    {
      "cell_type": "code",
      "source": [
        "plt.hist(df[\"peak-rpm\"])"
      ],
      "metadata": {
        "colab": {
          "base_uri": "https://localhost:8080/"
        },
        "id": "QlTtlborAe7O",
        "outputId": "9499d94c-42cf-4330-b3f0-17dd01cc590d"
      },
      "execution_count": null,
      "outputs": [
        {
          "output_type": "execute_result",
          "data": {
            "text/plain": [
              "(array([17., 10., 41., 31., 31., 51.,  8., 12.,  0.,  2.]),\n",
              " array([4150., 4395., 4640., 4885., 5130., 5375., 5620., 5865., 6110.,\n",
              "        6355., 6600.]),\n",
              " <BarContainer object of 10 artists>)"
            ]
          },
          "metadata": {},
          "execution_count": 311
        },
        {
          "output_type": "display_data",
          "data": {
            "text/plain": [
              "<Figure size 640x480 with 1 Axes>"
            ],
            "image/png": "[encoded data removed]"
          },
          "metadata": {}
        }
      ]
    },
    {
      "cell_type": "code",
      "source": [
        "df[\"peak-rpm\"] = df[\"peak-rpm\"].fillna(df[\"peak-rpm\"].median())"
      ],
      "metadata": {
        "id": "s7kirc9mAk4F"
      },
      "execution_count": null,
      "outputs": []
    },
    {
      "cell_type": "markdown",
      "source": [
        "## City mpg"
      ],
      "metadata": {
        "id": "3_7v_yOaNVFd"
      }
    },
    {
      "cell_type": "code",
      "source": [
        "df[\"city-mpg\"].value_counts()"
      ],
      "metadata": {
        "colab": {
          "base_uri": "https://localhost:8080/"
        },
        "outputId": "e1f19738-c878-4297-f7f1-7d804d17abc6",
        "id": "AHeXI9cypFFR"
      },
      "execution_count": null,
      "outputs": [
        {
          "output_type": "execute_result",
          "data": {
            "text/plain": [
              "31    28\n",
              "19    27\n",
              "24    22\n",
              "27    14\n",
              "17    13\n",
              "26    12\n",
              "23    12\n",
              "21     8\n",
              "25     8\n",
              "30     8\n",
              "38     7\n",
              "28     7\n",
              "16     6\n",
              "37     6\n",
              "22     4\n",
              "29     3\n",
              "15     3\n",
              "20     3\n",
              "18     3\n",
              "14     2\n",
              "34     1\n",
              "35     1\n",
              "32     1\n",
              "36     1\n",
              "45     1\n",
              "13     1\n",
              "49     1\n",
              "47     1\n",
              "33     1\n",
              "Name: city-mpg, dtype: int64"
            ]
          },
          "metadata": {},
          "execution_count": 313
        }
      ]
    },
    {
      "cell_type": "markdown",
      "source": [
        "No hay datos faltantes ni anómalos"
      ],
      "metadata": {
        "id": "0YeELLegpFFS"
      }
    },
    {
      "cell_type": "markdown",
      "source": [
        "## Highway mpg"
      ],
      "metadata": {
        "id": "Ty-5ogxZNXPh"
      }
    },
    {
      "cell_type": "code",
      "source": [
        "df[\"highway-mpg\"].value_counts()"
      ],
      "metadata": {
        "colab": {
          "base_uri": "https://localhost:8080/"
        },
        "outputId": "d267f57d-a3fd-4dcc-8a79-feda6637df09",
        "id": "dQ_D_GP0pFip"
      },
      "execution_count": null,
      "outputs": [
        {
          "output_type": "execute_result",
          "data": {
            "text/plain": [
              "25    19\n",
              "38    17\n",
              "24    17\n",
              "30    16\n",
              "32    16\n",
              "34    14\n",
              "37    13\n",
              "28    13\n",
              "29    10\n",
              "33     9\n",
              "22     8\n",
              "31     8\n",
              "23     7\n",
              "27     5\n",
              "43     4\n",
              "42     3\n",
              "26     3\n",
              "41     3\n",
              "19     2\n",
              "39     2\n",
              "18     2\n",
              "16     2\n",
              "20     2\n",
              "36     2\n",
              "47     2\n",
              "46     2\n",
              "54     1\n",
              "17     1\n",
              "53     1\n",
              "50     1\n",
              "Name: highway-mpg, dtype: int64"
            ]
          },
          "metadata": {},
          "execution_count": 314
        }
      ]
    },
    {
      "cell_type": "markdown",
      "source": [
        "No hay datos faltantes ni anómalos"
      ],
      "metadata": {
        "id": "POudpYVepFiq"
      }
    },
    {
      "cell_type": "markdown",
      "source": [
        "## Price"
      ],
      "metadata": {
        "id": "osfFXjM9NarH"
      }
    },
    {
      "cell_type": "code",
      "source": [
        "df[\"price\"].value_counts()"
      ],
      "metadata": {
        "colab": {
          "base_uri": "https://localhost:8080/"
        },
        "outputId": "4ec9c9b3-45a6-4c71-8e96-dc50db845456",
        "id": "KUMAqC6KpF7I"
      },
      "execution_count": null,
      "outputs": [
        {
          "output_type": "execute_result",
          "data": {
            "text/plain": [
              "8921.0     2\n",
              "18150.0    2\n",
              "8845.0     2\n",
              "8495.0     2\n",
              "7609.0     2\n",
              "6692.0     2\n",
              "6229.0     2\n",
              "7957.0     2\n",
              "7775.0     2\n",
              "5572.0     2\n",
              "9279.0     2\n",
              "7295.0     2\n",
              "16500.0    2\n",
              "7898.0     2\n",
              "13499.0    2\n",
              "8013.0     1\n",
              "7053.0     1\n",
              "7603.0     1\n",
              "8778.0     1\n",
              "7126.0     1\n",
              "6918.0     1\n",
              "6488.0     1\n",
              "10198.0    1\n",
              "6338.0     1\n",
              "5348.0     1\n",
              "11694.0    1\n",
              "9960.0     1\n",
              "9233.0     1\n",
              "5118.0     1\n",
              "7463.0     1\n",
              "11259.0    1\n",
              "13495.0    1\n",
              "18620.0    1\n",
              "12764.0    1\n",
              "12440.0    1\n",
              "13860.0    1\n",
              "15580.0    1\n",
              "16900.0    1\n",
              "16695.0    1\n",
              "17075.0    1\n",
              "16630.0    1\n",
              "17950.0    1\n",
              "22018.0    1\n",
              "15510.0    1\n",
              "32528.0    1\n",
              "34028.0    1\n",
              "37028.0    1\n",
              "9295.0     1\n",
              "9895.0     1\n",
              "11850.0    1\n",
              "12170.0    1\n",
              "15040.0    1\n",
              "6938.0     1\n",
              "9258.0     1\n",
              "7198.0     1\n",
              "15750.0    1\n",
              "7995.0     1\n",
              "8195.0     1\n",
              "9495.0     1\n",
              "9995.0     1\n",
              "11595.0    1\n",
              "9980.0     1\n",
              "13295.0    1\n",
              "13845.0    1\n",
              "12290.0    1\n",
              "12940.0    1\n",
              "13415.0    1\n",
              "15985.0    1\n",
              "16515.0    1\n",
              "18420.0    1\n",
              "18950.0    1\n",
              "16845.0    1\n",
              "19045.0    1\n",
              "21485.0    1\n",
              "22470.0    1\n",
              "7975.0     1\n",
              "15690.0    1\n",
              "7788.0     1\n",
              "15998.0    1\n",
              "7738.0     1\n",
              "8358.0     1\n",
              "11900.0    1\n",
              "8058.0     1\n",
              "8238.0     1\n",
              "9298.0     1\n",
              "9538.0     1\n",
              "8449.0     1\n",
              "9639.0     1\n",
              "9989.0     1\n",
              "11199.0    1\n",
              "11549.0    1\n",
              "17669.0    1\n",
              "8948.0     1\n",
              "10698.0    1\n",
              "9988.0     1\n",
              "10898.0    1\n",
              "11248.0    1\n",
              "16558.0    1\n",
              "13200.0    1\n",
              "9549.0     1\n",
              "18399.0    1\n",
              "6785.0     1\n",
              "5399.0     1\n",
              "6529.0     1\n",
              "7129.0     1\n",
              "7895.0     1\n",
              "9095.0     1\n",
              "10295.0    1\n",
              "12945.0    1\n",
              "10345.0    1\n",
              "11048.0    1\n",
              "6479.0     1\n",
              "32250.0    1\n",
              "35550.0    1\n",
              "36000.0    1\n",
              "5195.0     1\n",
              "6095.0     1\n",
              "6795.0     1\n",
              "6695.0     1\n",
              "7395.0     1\n",
              "6855.0     1\n",
              "12964.0    1\n",
              "19699.0    1\n",
              "20970.0    1\n",
              "13950.0    1\n",
              "17450.0    1\n",
              "15250.0    1\n",
              "17710.0    1\n",
              "18920.0    1\n",
              "23875.0    1\n",
              "16430.0    1\n",
              "16925.0    1\n",
              "21105.0    1\n",
              "8558.0     1\n",
              "24565.0    1\n",
              "30760.0    1\n",
              "41315.0    1\n",
              "36880.0    1\n",
              "5151.0     1\n",
              "6295.0     1\n",
              "6575.0     1\n",
              "6377.0     1\n",
              "10945.0    1\n",
              "11845.0    1\n",
              "13645.0    1\n",
              "6849.0     1\n",
              "12629.0    1\n",
              "14869.0    1\n",
              "14489.0    1\n",
              "6989.0     1\n",
              "8189.0     1\n",
              "5499.0     1\n",
              "7099.0     1\n",
              "6649.0     1\n",
              "7349.0     1\n",
              "15645.0    1\n",
              "7299.0     1\n",
              "7799.0     1\n",
              "7499.0     1\n",
              "7999.0     1\n",
              "8249.0     1\n",
              "8949.0     1\n",
              "14399.0    1\n",
              "17199.0    1\n",
              "8499.0     1\n",
              "9959.0     1\n",
              "7689.0     1\n",
              "6669.0     1\n",
              "10595.0    1\n",
              "10245.0    1\n",
              "10795.0    1\n",
              "11245.0    1\n",
              "18280.0    1\n",
              "18344.0    1\n",
              "25552.0    1\n",
              "28248.0    1\n",
              "28176.0    1\n",
              "31600.0    1\n",
              "34184.0    1\n",
              "35056.0    1\n",
              "40960.0    1\n",
              "45400.0    1\n",
              "16503.0    1\n",
              "5389.0     1\n",
              "6189.0     1\n",
              "22625.0    1\n",
              "Name: price, dtype: int64"
            ]
          },
          "metadata": {},
          "execution_count": 315
        }
      ]
    },
    {
      "cell_type": "code",
      "source": [
        "plt.hist(df[\"price\"])"
      ],
      "metadata": {
        "colab": {
          "base_uri": "https://localhost:8080/",
          "height": 499
        },
        "id": "LtKkEMA_A3mn",
        "outputId": "50a1c8a4-0bcb-439a-c8bb-9d6f1e1d5492"
      },
      "execution_count": null,
      "outputs": [
        {
          "output_type": "execute_result",
          "data": {
            "text/plain": [
              "(array([81., 45., 35., 17.,  6.,  3.,  4.,  7.,  2.,  1.]),\n",
              " array([ 5118. ,  9146.2, 13174.4, 17202.6, 21230.8, 25259. , 29287.2,\n",
              "        33315.4, 37343.6, 41371.8, 45400. ]),\n",
              " <BarContainer object of 10 artists>)"
            ]
          },
          "metadata": {},
          "execution_count": 316
        },
        {
          "output_type": "display_data",
          "data": {
            "text/plain": [
              "<Figure size 640x480 with 1 Axes>"
            ],
            "image/png": "[encoded data removed]"
          },
          "metadata": {}
        }
      ]
    },
    {
      "cell_type": "code",
      "source": [
        "df[\"price\"] = df[\"price\"].fillna(df[\"price\"].median())"
      ],
      "metadata": {
        "id": "r4ABlmzcA-nC"
      },
      "execution_count": null,
      "outputs": []
    },
    {
      "cell_type": "markdown",
      "source": [
        "Revisión de tipo de datos"
      ],
      "metadata": {
        "id": "Q9Ew-wVEFU4i"
      }
    },
    {
      "cell_type": "code",
      "source": [
        "df.info()"
      ],
      "metadata": {
        "colab": {
          "base_uri": "https://localhost:8080/"
        },
        "id": "jza_9WQNrci7",
        "outputId": "0788c86b-006f-4a11-9bcc-f75915fce4f3"
      },
      "execution_count": null,
      "outputs": [
        {
          "output_type": "stream",
          "name": "stdout",
          "text": [
            "<class 'pandas.core.frame.DataFrame'>\n",
            "RangeIndex: 205 entries, 0 to 204\n",
            "Data columns (total 26 columns):\n",
            " #   Column             Non-Null Count  Dtype  \n",
            "---  ------             --------------  -----  \n",
            " 0   symboling          205 non-null    int64  \n",
            " 1   normalized-losses  205 non-null    float64\n",
            " 2   make               205 non-null    object \n",
            " 3   fuel_type          205 non-null    object \n",
            " 4   aspiration         205 non-null    object \n",
            " 5   number_of_doors    205 non-null    int64  \n",
            " 6   body-style         205 non-null    object \n",
            " 7   drive-wheels       205 non-null    object \n",
            " 8   engine-location    205 non-null    object \n",
            " 9   wheel-base         205 non-null    float64\n",
            " 10  length             205 non-null    float64\n",
            " 11  width              205 non-null    float64\n",
            " 12  height             205 non-null    float64\n",
            " 13  curb-weight        205 non-null    int64  \n",
            " 14  engine-type        205 non-null    object \n",
            " 15  num-of-cylinders   205 non-null    int64  \n",
            " 16  engine-size        205 non-null    int64  \n",
            " 17  fuel-system        205 non-null    object \n",
            " 18  bore               205 non-null    float64\n",
            " 19  stroke             205 non-null    float64\n",
            " 20  compression-ratio  205 non-null    float64\n",
            " 21  horsepower         205 non-null    float64\n",
            " 22  peak-rpm           205 non-null    float64\n",
            " 23  city-mpg           205 non-null    int64  \n",
            " 24  highway-mpg        205 non-null    int64  \n",
            " 25  price              205 non-null    float64\n",
            "dtypes: float64(11), int64(7), object(8)\n",
            "memory usage: 41.8+ KB\n"
          ]
        }
      ]
    },
    {
      "cell_type": "code",
      "source": [
        "df[\"normalized-losses\"] = df[\"normalized-losses\"].astype(\"int\")\n",
        "df[\"bore\"] = df[\"bore\"].astype(\"float\")\n",
        "df[\"stroke\"] = df[\"stroke\"].astype(\"float\")\n",
        "df[\"horsepower\"] = df[\"horsepower\"].astype(\"int\")\n",
        "df[\"peak-rpm\"] = df[\"peak-rpm\"].astype(\"float\")\n",
        "df[\"price\"] = df[\"price\"].astype(\"float\")"
      ],
      "metadata": {
        "id": "lMTtnsP1tKzS"
      },
      "execution_count": null,
      "outputs": []
    },
    {
      "cell_type": "markdown",
      "source": [
        "# Eliminación de valores atípicos"
      ],
      "metadata": {
        "id": "JGhZ1e0yy8tm"
      }
    },
    {
      "cell_type": "code",
      "source": [
        "numeric_cols = [cname for cname in df.columns if df[cname].dtype in ['int64', 'float64', 'uint8','int8']]\n",
        "\n",
        "indices = []\n",
        "\n",
        "for feature in numeric_cols:\n",
        "\n",
        "  # IQR\n",
        "  # Se calcula el límite superior e inferior\n",
        "  Q1 = df[feature].quantile(0.25)\n",
        "  Q3 = df[feature].quantile(0.75)\n",
        "  IQR = Q3 - Q1\n",
        "  lower = Q1 - 1.5*IQR\n",
        "  upper = Q3 + 1.5*IQR\n",
        "\n",
        "  upper_array = np.where(df[feature]>=upper)[0]\n",
        "  lower_array = np.where(df[feature]<=lower)[0]\n",
        "\n",
        "  indices.append(upper_array)\n",
        "  indices.append(lower_array)\n",
        "\n",
        "  plt.boxplot(df[feature])\n",
        "  plt.title(feature + \" boxplot\")\n",
        "  plt.show()"
      ],
      "metadata": {
        "colab": {
          "base_uri": "https://localhost:8080/",
          "height": 1000
        },
        "id": "nyI8ET4CzE0F",
        "outputId": "331ddbb2-d95b-4142-8e78-b00201bdeb42"
      },
      "execution_count": null,
      "outputs": [
        {
          "output_type": "display_data",
          "data": {
            "text/plain": [
              "<Figure size 640x480 with 1 Axes>"
            ],
            "image/png": "[encoded data removed]"
          },
          "metadata": {}
        },
        {
          "output_type": "display_data",
          "data": {
            "text/plain": [
              "<Figure size 640x480 with 1 Axes>"
            ],
            "image/png": "[encoded data removed]"
          },
          "metadata": {}
        },
        {
          "output_type": "display_data",
          "data": {
            "text/plain": [
              "<Figure size 640x480 with 1 Axes>"
            ],
            "image/png": "[encoded data removed]"
          },
          "metadata": {}
        },
        {
          "output_type": "display_data",
          "data": {
            "text/plain": [
              "<Figure size 640x480 with 1 Axes>"
            ],
            "image/png": "[encoded data removed]"
          },
          "metadata": {}
        },
        {
          "output_type": "display_data",
          "data": {
            "text/plain": [
              "<Figure size 640x480 with 1 Axes>"
            ],
            "image/png": "[encoded data removed]"
          },
          "metadata": {}
        },
        {
          "output_type": "display_data",
          "data": {
            "text/plain": [
              "<Figure size 640x480 with 1 Axes>"
            ],
            "image/png": "[encoded data removed]"
          },
          "metadata": {}
        },
        {
          "output_type": "display_data",
          "data": {
            "text/plain": [
              "<Figure size 640x480 with 1 Axes>"
            ],
            "image/png": "[encoded data removed]"
          },
          "metadata": {}
        },
        {
          "output_type": "display_data",
          "data": {
            "text/plain": [
              "<Figure size 640x480 with 1 Axes>"
            ],
            "image/png": "[encoded data removed]"
          },
          "metadata": {}
        },
        {
          "output_type": "display_data",
          "data": {
            "text/plain": [
              "<Figure size 640x480 with 1 Axes>"
            ],
            "image/png": "[encoded data removed]"
          },
          "metadata": {}
        },
        {
          "output_type": "display_data",
          "data": {
            "text/plain": [
              "<Figure size 640x480 with 1 Axes>"
            ],
            "image/png": "[encoded data removed]"
          },
          "metadata": {}
        },
        {
          "output_type": "display_data",
          "data": {
            "text/plain": [
              "<Figure size 640x480 with 1 Axes>"
            ],
            "image/png": "[encoded data removed]"
          },
          "metadata": {}
        },
        {
          "output_type": "display_data",
          "data": {
            "text/plain": [
              "<Figure size 640x480 with 1 Axes>"
            ],
            "image/png": "[encoded data removed]"
          },
          "metadata": {}
        },
        {
          "output_type": "display_data",
          "data": {
            "text/plain": [
              "<Figure size 640x480 with 1 Axes>"
            ],
            "image/png": "[encoded data removed]"
          },
          "metadata": {}
        },
        {
          "output_type": "display_data",
          "data": {
            "text/plain": [
              "<Figure size 640x480 with 1 Axes>"
            ],
            "image/png": "[encoded data removed]"
          },
          "metadata": {}
        },
        {
          "output_type": "display_data",
          "data": {
            "text/plain": [
              "<Figure size 640x480 with 1 Axes>"
            ],
            "image/png": "[encoded data removed]"
          },
          "metadata": {}
        },
        {
          "output_type": "display_data",
          "data": {
            "text/plain": [
              "<Figure size 640x480 with 1 Axes>"
            ],
            "image/png": "[encoded data removed]"
          },
          "metadata": {}
        },
        {
          "output_type": "display_data",
          "data": {
            "text/plain": [
              "<Figure size 640x480 with 1 Axes>"
            ],
            "image/png": "[encoded data removed]"
          },
          "metadata": {}
        },
        {
          "output_type": "display_data",
          "data": {
            "text/plain": [
              "<Figure size 640x480 with 1 Axes>"
            ],
            "image/png": "[encoded data removed]"
          },
          "metadata": {}
        }
      ]
    },
    {
      "cell_type": "code",
      "source": [
        "# Quitar valores duplicados de la lista, contarlos y eliminarlos\n",
        "\n",
        "# Removing the outliers\n",
        "df = df.drop(index=upper_array)\n",
        "df = df.drop(index=lower_array)"
      ],
      "metadata": {
        "id": "PTifIzo-39Ob"
      },
      "execution_count": null,
      "outputs": []
    },
    {
      "cell_type": "markdown",
      "source": [
        "# EDA\n",
        "\n",
        "Una vez terminada la limpieza, se visualizarán las distribuciones en conjunto y sus correlaciones"
      ],
      "metadata": {
        "id": "56OsbXjvXC2A"
      }
    },
    {
      "cell_type": "code",
      "source": [
        "fig, ax = plt.subplots(figsize=(10,12))\n",
        "df.hist(ax=ax)\n",
        "plt.show()"
      ],
      "metadata": {
        "colab": {
          "base_uri": "https://localhost:8080/",
          "height": 1000
        },
        "id": "xXtOdgF1XOXc",
        "outputId": "f3928716-1fa8-4212-cf42-e884ace58766"
      },
      "execution_count": null,
      "outputs": [
        {
          "output_type": "stream",
          "name": "stderr",
          "text": [
            "<ipython-input-322-d2e830f3cdc4>:2: UserWarning: To output multiple subplots, the figure containing the passed axes is being cleared.\n",
            "  df.hist(ax=ax)\n"
          ]
        },
        {
          "output_type": "display_data",
          "data": {
            "text/plain": [
              "<Figure size 1000x1200 with 20 Axes>"
            ],
            "image/png": "[encoded data removed]"
          },
          "metadata": {}
        }
      ]
    },
    {
      "cell_type": "code",
      "source": [
        "# plotting correlation heatmap\n",
        "dataplot=sns.heatmap(df.corr())\n",
        "\n",
        "# displaying heatmap\n",
        "mp.show()"
      ],
      "metadata": {
        "colab": {
          "base_uri": "https://localhost:8080/",
          "height": 601
        },
        "id": "7DpTeeRMeHvW",
        "outputId": "1c0dc930-705b-425b-eee5-cf43da2625df"
      },
      "execution_count": null,
      "outputs": [
        {
          "output_type": "stream",
          "name": "stderr",
          "text": [
            "<ipython-input-323-ff579fd24513>:2: FutureWarning: The default value of numeric_only in DataFrame.corr is deprecated. In a future version, it will default to False. Select only valid columns or specify the value of numeric_only to silence this warning.\n",
            "  dataplot=sns.heatmap(df.corr())\n"
          ]
        },
        {
          "output_type": "display_data",
          "data": {
            "text/plain": [
              "<Figure size 640x480 with 2 Axes>"
            ],
            "image/png": "[encoded data removed]"
          },
          "metadata": {}
        }
      ]
    },
    {
      "cell_type": "markdown",
      "source": [
        "Con este heat map nos podemos dar una idea de las variables que se correlacionan con el precio del automóvil como por ejemplo los datos relacionados a las medidas del auto.\n",
        "\n",
        "También podemos observar que todas aquellas variables relacionadas a las dimensiones y peso del automóvil, están relacionadas entre sí.\n",
        "\n",
        "Ahora mostraremos los valores de estas correlaciones para evitar multicolinealidad"
      ],
      "metadata": {
        "id": "looRQCYIeceX"
      }
    },
    {
      "cell_type": "code",
      "source": [
        "df.corr()"
      ],
      "metadata": {
        "colab": {
          "base_uri": "https://localhost:8080/",
          "height": 721
        },
        "id": "8q5pPM2Ge6au",
        "outputId": "577d32d9-8cbe-4d2d-cefd-8f1e4cba47e0"
      },
      "execution_count": null,
      "outputs": [
        {
          "output_type": "stream",
          "name": "stderr",
          "text": [
            "<ipython-input-324-2f6f6606aa2c>:1: FutureWarning: The default value of numeric_only in DataFrame.corr is deprecated. In a future version, it will default to False. Select only valid columns or specify the value of numeric_only to silence this warning.\n",
            "  df.corr()\n"
          ]
        },
        {
          "output_type": "execute_result",
          "data": {
            "text/plain": [
              "                   symboling  normalized-losses  number_of_doors  wheel-base  \\\n",
              "symboling           1.000000           0.473555        -0.660092   -0.510546   \n",
              "normalized-losses   0.473555           1.000000        -0.369985   -0.071466   \n",
              "number_of_doors    -0.660092          -0.369985         1.000000    0.452155   \n",
              "wheel-base         -0.510546          -0.071466         0.452155    1.000000   \n",
              "length             -0.327271           0.007163         0.420799    0.859164   \n",
              "width              -0.200776           0.081844         0.222809    0.768832   \n",
              "height             -0.540809          -0.373116         0.542290    0.630796   \n",
              "curb-weight        -0.218261           0.088324         0.228587    0.773156   \n",
              "num-of-cylinders   -0.153848           0.133643         0.059585    0.251656   \n",
              "engine-size        -0.120296           0.134208         0.071797    0.556308   \n",
              "bore               -0.156046          -0.042529         0.150214    0.505801   \n",
              "stroke              0.055000           0.043234        -0.078442    0.055675   \n",
              "compression-ratio  -0.175245          -0.105894         0.180727    0.302983   \n",
              "horsepower          0.073354           0.224048        -0.103363    0.343418   \n",
              "peak-rpm            0.239596           0.254019        -0.231035   -0.304095   \n",
              "city-mpg           -0.046881          -0.214355        -0.031031   -0.453358   \n",
              "highway-mpg         0.017641          -0.172347        -0.049609   -0.510760   \n",
              "price              -0.125072           0.194896         0.155131    0.667160   \n",
              "\n",
              "                     length     width    height  curb-weight  \\\n",
              "symboling         -0.327271 -0.200776 -0.540809    -0.218261   \n",
              "normalized-losses  0.007163  0.081844 -0.373116     0.088324   \n",
              "number_of_doors    0.420799  0.222809  0.542290     0.228587   \n",
              "wheel-base         0.859164  0.768832  0.630796     0.773156   \n",
              "length             1.000000  0.809871  0.529667     0.863530   \n",
              "width              0.809871  1.000000  0.305353     0.839017   \n",
              "height             0.529667  0.305353  1.000000     0.368727   \n",
              "curb-weight        0.863530  0.839017  0.368727     1.000000   \n",
              "num-of-cylinders   0.309950  0.415687  0.078221     0.464665   \n",
              "engine-size        0.673289  0.714808  0.152016     0.840254   \n",
              "bore               0.594043  0.547565  0.194282     0.636288   \n",
              "stroke             0.059117  0.152067 -0.101421     0.117347   \n",
              "compression-ratio  0.191502  0.220736  0.274304     0.205243   \n",
              "horsepower         0.521753  0.636875 -0.077034     0.720534   \n",
              "peak-rpm          -0.248559 -0.155392 -0.317345    -0.246323   \n",
              "city-mpg          -0.643589 -0.609502 -0.069743    -0.727675   \n",
              "highway-mpg       -0.663781 -0.620758 -0.128647    -0.757461   \n",
              "price              0.724854  0.752808  0.260079     0.832958   \n",
              "\n",
              "                   num-of-cylinders  engine-size      bore    stroke  \\\n",
              "symboling                 -0.153848    -0.120296 -0.156046  0.055000   \n",
              "normalized-losses          0.133643     0.134208 -0.042529  0.043234   \n",
              "number_of_doors            0.059585     0.071797  0.150214 -0.078442   \n",
              "wheel-base                 0.251656     0.556308  0.505801  0.055675   \n",
              "length                     0.309950     0.673289  0.594043  0.059117   \n",
              "width                      0.415687     0.714808  0.547565  0.152067   \n",
              "height                     0.078221     0.152016  0.194282 -0.101421   \n",
              "curb-weight                0.464665     0.840254  0.636288  0.117347   \n",
              "num-of-cylinders           1.000000     0.715735  0.073975  0.059273   \n",
              "engine-size                0.715735     1.000000  0.597689  0.257989   \n",
              "bore                       0.073975     0.597689  1.000000 -0.082476   \n",
              "stroke                     0.059273     0.257989 -0.082476  1.000000   \n",
              "compression-ratio          0.028163     0.118939  0.022956  0.205201   \n",
              "horsepower                 0.558475     0.765012  0.517986  0.117327   \n",
              "peak-rpm                  -0.126226    -0.298913 -0.286182 -0.011045   \n",
              "city-mpg                  -0.298718    -0.614583 -0.531382 -0.024475   \n",
              "highway-mpg               -0.294951    -0.617716 -0.539320 -0.014154   \n",
              "price                      0.414652     0.724202  0.492961  0.075013   \n",
              "\n",
              "                   compression-ratio  horsepower  peak-rpm  city-mpg  \\\n",
              "symboling                  -0.175245    0.073354  0.239596 -0.046881   \n",
              "normalized-losses          -0.105894    0.224048  0.254019 -0.214355   \n",
              "number_of_doors             0.180727   -0.103363 -0.231035 -0.031031   \n",
              "wheel-base                  0.302983    0.343418 -0.304095 -0.453358   \n",
              "length                      0.191502    0.521753 -0.248559 -0.643589   \n",
              "width                       0.220736    0.636875 -0.155392 -0.609502   \n",
              "height                      0.274304   -0.077034 -0.317345 -0.069743   \n",
              "curb-weight                 0.205243    0.720534 -0.246323 -0.727675   \n",
              "num-of-cylinders            0.028163    0.558475 -0.126226 -0.298718   \n",
              "engine-size                 0.118939    0.765012 -0.298913 -0.614583   \n",
              "bore                        0.022956    0.517986 -0.286182 -0.531382   \n",
              "stroke                      0.205201    0.117327 -0.011045 -0.024475   \n",
              "compression-ratio           1.000000   -0.214986 -0.450713  0.330740   \n",
              "horsepower                 -0.214986    1.000000  0.144258 -0.779898   \n",
              "peak-rpm                   -0.450713    0.144258  1.000000 -0.140958   \n",
              "city-mpg                    0.330740   -0.779898 -0.140958  1.000000   \n",
              "highway-mpg                 0.269994   -0.745896 -0.101157  0.970117   \n",
              "price                       0.192014    0.639391 -0.143476 -0.649686   \n",
              "\n",
              "                   highway-mpg     price  \n",
              "symboling             0.017641 -0.125072  \n",
              "normalized-losses    -0.172347  0.194896  \n",
              "number_of_doors      -0.049609  0.155131  \n",
              "wheel-base           -0.510760  0.667160  \n",
              "length               -0.663781  0.724854  \n",
              "width                -0.620758  0.752808  \n",
              "height               -0.128647  0.260079  \n",
              "curb-weight          -0.757461  0.832958  \n",
              "num-of-cylinders     -0.294951  0.414652  \n",
              "engine-size          -0.617716  0.724202  \n",
              "bore                 -0.539320  0.492961  \n",
              "stroke               -0.014154  0.075013  \n",
              "compression-ratio     0.269994  0.192014  \n",
              "horsepower           -0.745896  0.639391  \n",
              "peak-rpm             -0.101157 -0.143476  \n",
              "city-mpg              0.970117 -0.649686  \n",
              "highway-mpg           1.000000 -0.671374  \n",
              "price                -0.671374  1.000000  "
            ],
            "text/html": [
              "\n",
              "  <div id=\"df-883281f9-4d6e-4b93-86f0-86040a8fe7e1\" class=\"colab-df-container\">\n",
              "    <div>\n",
              "<style scoped>\n",
              "    .dataframe tbody tr th:only-of-type {\n",
              "        vertical-align: middle;\n",
              "    }\n",
              "\n",
              "    .dataframe tbody tr th {\n",
              "        vertical-align: top;\n",
              "    }\n",
              "\n",
              "    .dataframe thead th {\n",
              "        text-align: right;\n",
              "    }\n",
              "</style>\n",
              "<table border=\"1\" class=\"dataframe\">\n",
              "  <thead>\n",
              "    <tr style=\"text-align: right;\">\n",
              "      <th></th>\n",
              "      <th>symboling</th>\n",
              "      <th>normalized-losses</th>\n",
              "      <th>number_of_doors</th>\n",
              "      <th>wheel-base</th>\n",
              "      <th>length</th>\n",
              "      <th>width</th>\n",
              "      <th>height</th>\n",
              "      <th>curb-weight</th>\n",
              "      <th>num-of-cylinders</th>\n",
              "      <th>engine-size</th>\n",
              "      <th>bore</th>\n",
              "      <th>stroke</th>\n",
              "      <th>compression-ratio</th>\n",
              "      <th>horsepower</th>\n",
              "      <th>peak-rpm</th>\n",
              "      <th>city-mpg</th>\n",
              "      <th>highway-mpg</th>\n",
              "      <th>price</th>\n",
              "    </tr>\n",
              "  </thead>\n",
              "  <tbody>\n",
              "    <tr>\n",
              "      <th>symboling</th>\n",
              "      <td>1.000000</td>\n",
              "      <td>0.473555</td>\n",
              "      <td>-0.660092</td>\n",
              "      <td>-0.510546</td>\n",
              "      <td>-0.327271</td>\n",
              "      <td>-0.200776</td>\n",
              "      <td>-0.540809</td>\n",
              "      <td>-0.218261</td>\n",
              "      <td>-0.153848</td>\n",
              "      <td>-0.120296</td>\n",
              "      <td>-0.156046</td>\n",
              "      <td>0.055000</td>\n",
              "      <td>-0.175245</td>\n",
              "      <td>0.073354</td>\n",
              "      <td>0.239596</td>\n",
              "      <td>-0.046881</td>\n",
              "      <td>0.017641</td>\n",
              "      <td>-0.125072</td>\n",
              "    </tr>\n",
              "    <tr>\n",
              "      <th>normalized-losses</th>\n",
              "      <td>0.473555</td>\n",
              "      <td>1.000000</td>\n",
              "      <td>-0.369985</td>\n",
              "      <td>-0.071466</td>\n",
              "      <td>0.007163</td>\n",
              "      <td>0.081844</td>\n",
              "      <td>-0.373116</td>\n",
              "      <td>0.088324</td>\n",
              "      <td>0.133643</td>\n",
              "      <td>0.134208</td>\n",
              "      <td>-0.042529</td>\n",
              "      <td>0.043234</td>\n",
              "      <td>-0.105894</td>\n",
              "      <td>0.224048</td>\n",
              "      <td>0.254019</td>\n",
              "      <td>-0.214355</td>\n",
              "      <td>-0.172347</td>\n",
              "      <td>0.194896</td>\n",
              "    </tr>\n",
              "    <tr>\n",
              "      <th>number_of_doors</th>\n",
              "      <td>-0.660092</td>\n",
              "      <td>-0.369985</td>\n",
              "      <td>1.000000</td>\n",
              "      <td>0.452155</td>\n",
              "      <td>0.420799</td>\n",
              "      <td>0.222809</td>\n",
              "      <td>0.542290</td>\n",
              "      <td>0.228587</td>\n",
              "      <td>0.059585</td>\n",
              "      <td>0.071797</td>\n",
              "      <td>0.150214</td>\n",
              "      <td>-0.078442</td>\n",
              "      <td>0.180727</td>\n",
              "      <td>-0.103363</td>\n",
              "      <td>-0.231035</td>\n",
              "      <td>-0.031031</td>\n",
              "      <td>-0.049609</td>\n",
              "      <td>0.155131</td>\n",
              "    </tr>\n",
              "    <tr>\n",
              "      <th>wheel-base</th>\n",
              "      <td>-0.510546</td>\n",
              "      <td>-0.071466</td>\n",
              "      <td>0.452155</td>\n",
              "      <td>1.000000</td>\n",
              "      <td>0.859164</td>\n",
              "      <td>0.768832</td>\n",
              "      <td>0.630796</td>\n",
              "      <td>0.773156</td>\n",
              "      <td>0.251656</td>\n",
              "      <td>0.556308</td>\n",
              "      <td>0.505801</td>\n",
              "      <td>0.055675</td>\n",
              "      <td>0.302983</td>\n",
              "      <td>0.343418</td>\n",
              "      <td>-0.304095</td>\n",
              "      <td>-0.453358</td>\n",
              "      <td>-0.510760</td>\n",
              "      <td>0.667160</td>\n",
              "    </tr>\n",
              "    <tr>\n",
              "      <th>length</th>\n",
              "      <td>-0.327271</td>\n",
              "      <td>0.007163</td>\n",
              "      <td>0.420799</td>\n",
              "      <td>0.859164</td>\n",
              "      <td>1.000000</td>\n",
              "      <td>0.809871</td>\n",
              "      <td>0.529667</td>\n",
              "      <td>0.863530</td>\n",
              "      <td>0.309950</td>\n",
              "      <td>0.673289</td>\n",
              "      <td>0.594043</td>\n",
              "      <td>0.059117</td>\n",
              "      <td>0.191502</td>\n",
              "      <td>0.521753</td>\n",
              "      <td>-0.248559</td>\n",
              "      <td>-0.643589</td>\n",
              "      <td>-0.663781</td>\n",
              "      <td>0.724854</td>\n",
              "    </tr>\n",
              "    <tr>\n",
              "      <th>width</th>\n",
              "      <td>-0.200776</td>\n",
              "      <td>0.081844</td>\n",
              "      <td>0.222809</td>\n",
              "      <td>0.768832</td>\n",
              "      <td>0.809871</td>\n",
              "      <td>1.000000</td>\n",
              "      <td>0.305353</td>\n",
              "      <td>0.839017</td>\n",
              "      <td>0.415687</td>\n",
              "      <td>0.714808</td>\n",
              "      <td>0.547565</td>\n",
              "      <td>0.152067</td>\n",
              "      <td>0.220736</td>\n",
              "      <td>0.636875</td>\n",
              "      <td>-0.155392</td>\n",
              "      <td>-0.609502</td>\n",
              "      <td>-0.620758</td>\n",
              "      <td>0.752808</td>\n",
              "    </tr>\n",
              "    <tr>\n",
              "      <th>height</th>\n",
              "      <td>-0.540809</td>\n",
              "      <td>-0.373116</td>\n",
              "      <td>0.542290</td>\n",
              "      <td>0.630796</td>\n",
              "      <td>0.529667</td>\n",
              "      <td>0.305353</td>\n",
              "      <td>1.000000</td>\n",
              "      <td>0.368727</td>\n",
              "      <td>0.078221</td>\n",
              "      <td>0.152016</td>\n",
              "      <td>0.194282</td>\n",
              "      <td>-0.101421</td>\n",
              "      <td>0.274304</td>\n",
              "      <td>-0.077034</td>\n",
              "      <td>-0.317345</td>\n",
              "      <td>-0.069743</td>\n",
              "      <td>-0.128647</td>\n",
              "      <td>0.260079</td>\n",
              "    </tr>\n",
              "    <tr>\n",
              "      <th>curb-weight</th>\n",
              "      <td>-0.218261</td>\n",
              "      <td>0.088324</td>\n",
              "      <td>0.228587</td>\n",
              "      <td>0.773156</td>\n",
              "      <td>0.863530</td>\n",
              "      <td>0.839017</td>\n",
              "      <td>0.368727</td>\n",
              "      <td>1.000000</td>\n",
              "      <td>0.464665</td>\n",
              "      <td>0.840254</td>\n",
              "      <td>0.636288</td>\n",
              "      <td>0.117347</td>\n",
              "      <td>0.205243</td>\n",
              "      <td>0.720534</td>\n",
              "      <td>-0.246323</td>\n",
              "      <td>-0.727675</td>\n",
              "      <td>-0.757461</td>\n",
              "      <td>0.832958</td>\n",
              "    </tr>\n",
              "    <tr>\n",
              "      <th>num-of-cylinders</th>\n",
              "      <td>-0.153848</td>\n",
              "      <td>0.133643</td>\n",
              "      <td>0.059585</td>\n",
              "      <td>0.251656</td>\n",
              "      <td>0.309950</td>\n",
              "      <td>0.415687</td>\n",
              "      <td>0.078221</td>\n",
              "      <td>0.464665</td>\n",
              "      <td>1.000000</td>\n",
              "      <td>0.715735</td>\n",
              "      <td>0.073975</td>\n",
              "      <td>0.059273</td>\n",
              "      <td>0.028163</td>\n",
              "      <td>0.558475</td>\n",
              "      <td>-0.126226</td>\n",
              "      <td>-0.298718</td>\n",
              "      <td>-0.294951</td>\n",
              "      <td>0.414652</td>\n",
              "    </tr>\n",
              "    <tr>\n",
              "      <th>engine-size</th>\n",
              "      <td>-0.120296</td>\n",
              "      <td>0.134208</td>\n",
              "      <td>0.071797</td>\n",
              "      <td>0.556308</td>\n",
              "      <td>0.673289</td>\n",
              "      <td>0.714808</td>\n",
              "      <td>0.152016</td>\n",
              "      <td>0.840254</td>\n",
              "      <td>0.715735</td>\n",
              "      <td>1.000000</td>\n",
              "      <td>0.597689</td>\n",
              "      <td>0.257989</td>\n",
              "      <td>0.118939</td>\n",
              "      <td>0.765012</td>\n",
              "      <td>-0.298913</td>\n",
              "      <td>-0.614583</td>\n",
              "      <td>-0.617716</td>\n",
              "      <td>0.724202</td>\n",
              "    </tr>\n",
              "    <tr>\n",
              "      <th>bore</th>\n",
              "      <td>-0.156046</td>\n",
              "      <td>-0.042529</td>\n",
              "      <td>0.150214</td>\n",
              "      <td>0.505801</td>\n",
              "      <td>0.594043</td>\n",
              "      <td>0.547565</td>\n",
              "      <td>0.194282</td>\n",
              "      <td>0.636288</td>\n",
              "      <td>0.073975</td>\n",
              "      <td>0.597689</td>\n",
              "      <td>1.000000</td>\n",
              "      <td>-0.082476</td>\n",
              "      <td>0.022956</td>\n",
              "      <td>0.517986</td>\n",
              "      <td>-0.286182</td>\n",
              "      <td>-0.531382</td>\n",
              "      <td>-0.539320</td>\n",
              "      <td>0.492961</td>\n",
              "    </tr>\n",
              "    <tr>\n",
              "      <th>stroke</th>\n",
              "      <td>0.055000</td>\n",
              "      <td>0.043234</td>\n",
              "      <td>-0.078442</td>\n",
              "      <td>0.055675</td>\n",
              "      <td>0.059117</td>\n",
              "      <td>0.152067</td>\n",
              "      <td>-0.101421</td>\n",
              "      <td>0.117347</td>\n",
              "      <td>0.059273</td>\n",
              "      <td>0.257989</td>\n",
              "      <td>-0.082476</td>\n",
              "      <td>1.000000</td>\n",
              "      <td>0.205201</td>\n",
              "      <td>0.117327</td>\n",
              "      <td>-0.011045</td>\n",
              "      <td>-0.024475</td>\n",
              "      <td>-0.014154</td>\n",
              "      <td>0.075013</td>\n",
              "    </tr>\n",
              "    <tr>\n",
              "      <th>compression-ratio</th>\n",
              "      <td>-0.175245</td>\n",
              "      <td>-0.105894</td>\n",
              "      <td>0.180727</td>\n",
              "      <td>0.302983</td>\n",
              "      <td>0.191502</td>\n",
              "      <td>0.220736</td>\n",
              "      <td>0.274304</td>\n",
              "      <td>0.205243</td>\n",
              "      <td>0.028163</td>\n",
              "      <td>0.118939</td>\n",
              "      <td>0.022956</td>\n",
              "      <td>0.205201</td>\n",
              "      <td>1.000000</td>\n",
              "      <td>-0.214986</td>\n",
              "      <td>-0.450713</td>\n",
              "      <td>0.330740</td>\n",
              "      <td>0.269994</td>\n",
              "      <td>0.192014</td>\n",
              "    </tr>\n",
              "    <tr>\n",
              "      <th>horsepower</th>\n",
              "      <td>0.073354</td>\n",
              "      <td>0.224048</td>\n",
              "      <td>-0.103363</td>\n",
              "      <td>0.343418</td>\n",
              "      <td>0.521753</td>\n",
              "      <td>0.636875</td>\n",
              "      <td>-0.077034</td>\n",
              "      <td>0.720534</td>\n",
              "      <td>0.558475</td>\n",
              "      <td>0.765012</td>\n",
              "      <td>0.517986</td>\n",
              "      <td>0.117327</td>\n",
              "      <td>-0.214986</td>\n",
              "      <td>1.000000</td>\n",
              "      <td>0.144258</td>\n",
              "      <td>-0.779898</td>\n",
              "      <td>-0.745896</td>\n",
              "      <td>0.639391</td>\n",
              "    </tr>\n",
              "    <tr>\n",
              "      <th>peak-rpm</th>\n",
              "      <td>0.239596</td>\n",
              "      <td>0.254019</td>\n",
              "      <td>-0.231035</td>\n",
              "      <td>-0.304095</td>\n",
              "      <td>-0.248559</td>\n",
              "      <td>-0.155392</td>\n",
              "      <td>-0.317345</td>\n",
              "      <td>-0.246323</td>\n",
              "      <td>-0.126226</td>\n",
              "      <td>-0.298913</td>\n",
              "      <td>-0.286182</td>\n",
              "      <td>-0.011045</td>\n",
              "      <td>-0.450713</td>\n",
              "      <td>0.144258</td>\n",
              "      <td>1.000000</td>\n",
              "      <td>-0.140958</td>\n",
              "      <td>-0.101157</td>\n",
              "      <td>-0.143476</td>\n",
              "    </tr>\n",
              "    <tr>\n",
              "      <th>city-mpg</th>\n",
              "      <td>-0.046881</td>\n",
              "      <td>-0.214355</td>\n",
              "      <td>-0.031031</td>\n",
              "      <td>-0.453358</td>\n",
              "      <td>-0.643589</td>\n",
              "      <td>-0.609502</td>\n",
              "      <td>-0.069743</td>\n",
              "      <td>-0.727675</td>\n",
              "      <td>-0.298718</td>\n",
              "      <td>-0.614583</td>\n",
              "      <td>-0.531382</td>\n",
              "      <td>-0.024475</td>\n",
              "      <td>0.330740</td>\n",
              "      <td>-0.779898</td>\n",
              "      <td>-0.140958</td>\n",
              "      <td>1.000000</td>\n",
              "      <td>0.970117</td>\n",
              "      <td>-0.649686</td>\n",
              "    </tr>\n",
              "    <tr>\n",
              "      <th>highway-mpg</th>\n",
              "      <td>0.017641</td>\n",
              "      <td>-0.172347</td>\n",
              "      <td>-0.049609</td>\n",
              "      <td>-0.510760</td>\n",
              "      <td>-0.663781</td>\n",
              "      <td>-0.620758</td>\n",
              "      <td>-0.128647</td>\n",
              "      <td>-0.757461</td>\n",
              "      <td>-0.294951</td>\n",
              "      <td>-0.617716</td>\n",
              "      <td>-0.539320</td>\n",
              "      <td>-0.014154</td>\n",
              "      <td>0.269994</td>\n",
              "      <td>-0.745896</td>\n",
              "      <td>-0.101157</td>\n",
              "      <td>0.970117</td>\n",
              "      <td>1.000000</td>\n",
              "      <td>-0.671374</td>\n",
              "    </tr>\n",
              "    <tr>\n",
              "      <th>price</th>\n",
              "      <td>-0.125072</td>\n",
              "      <td>0.194896</td>\n",
              "      <td>0.155131</td>\n",
              "      <td>0.667160</td>\n",
              "      <td>0.724854</td>\n",
              "      <td>0.752808</td>\n",
              "      <td>0.260079</td>\n",
              "      <td>0.832958</td>\n",
              "      <td>0.414652</td>\n",
              "      <td>0.724202</td>\n",
              "      <td>0.492961</td>\n",
              "      <td>0.075013</td>\n",
              "      <td>0.192014</td>\n",
              "      <td>0.639391</td>\n",
              "      <td>-0.143476</td>\n",
              "      <td>-0.649686</td>\n",
              "      <td>-0.671374</td>\n",
              "      <td>1.000000</td>\n",
              "    </tr>\n",
              "  </tbody>\n",
              "</table>\n",
              "</div>\n",
              "    <div class=\"colab-df-buttons\">\n",
              "\n",
              "  <div class=\"colab-df-container\">\n",
              "    <button class=\"colab-df-convert\" onclick=\"convertToInteractive('df-883281f9-4d6e-4b93-86f0-86040a8fe7e1')\"\n",
              "            title=\"Convert this dataframe to an interactive table.\"\n",
              "            style=\"display:none;\">\n",
              "\n",
              "  <svg xmlns=\"http://www.w3.org/2000/svg\" height=\"24px\" viewBox=\"0 -960 960 960\">\n",
              "    <path d=\"M120-120v-720h720v720H120Zm60-500h600v-160H180v160Zm220 220h160v-160H400v160Zm0 220h160v-160H400v160ZM180-400h160v-160H180v160Zm440 0h160v-160H620v160ZM180-180h160v-160H180v160Zm440 0h160v-160H620v160Z\"/>\n",
              "  </svg>\n",
              "    </button>\n",
              "\n",
              "  <style>\n",
              "    .colab-df-container {\n",
              "      display:flex;\n",
              "      gap: 12px;\n",
              "    }\n",
              "\n",
              "    .colab-df-convert {\n",
              "      background-color: #E8F0FE;\n",
              "      border: none;\n",
              "      border-radius: 50%;\n",
              "      cursor: pointer;\n",
              "      display: none;\n",
              "      fill: #1967D2;\n",
              "      height: 32px;\n",
              "      padding: 0 0 0 0;\n",
              "      width: 32px;\n",
              "    }\n",
              "\n",
              "    .colab-df-convert:hover {\n",
              "      background-color: #E2EBFA;\n",
              "      box-shadow: 0px 1px 2px rgba(60, 64, 67, 0.3), 0px 1px 3px 1px rgba(60, 64, 67, 0.15);\n",
              "      fill: #174EA6;\n",
              "    }\n",
              "\n",
              "    .colab-df-buttons div {\n",
              "      margin-bottom: 4px;\n",
              "    }\n",
              "\n",
              "    [theme=dark] .colab-df-convert {\n",
              "      background-color: #3B4455;\n",
              "      fill: #D2E3FC;\n",
              "    }\n",
              "\n",
              "    [theme=dark] .colab-df-convert:hover {\n",
              "      background-color: #434B5C;\n",
              "      box-shadow: 0px 1px 3px 1px rgba(0, 0, 0, 0.15);\n",
              "      filter: drop-shadow(0px 1px 2px rgba(0, 0, 0, 0.3));\n",
              "      fill: #FFFFFF;\n",
              "    }\n",
              "  </style>\n",
              "\n",
              "    <script>\n",
              "      const buttonEl =\n",
              "        document.querySelector('#df-883281f9-4d6e-4b93-86f0-86040a8fe7e1 button.colab-df-convert');\n",
              "      buttonEl.style.display =\n",
              "        google.colab.kernel.accessAllowed ? 'block' : 'none';\n",
              "\n",
              "      async function convertToInteractive(key) {\n",
              "        const element = document.querySelector('#df-883281f9-4d6e-4b93-86f0-86040a8fe7e1');\n",
              "        const dataTable =\n",
              "          await google.colab.kernel.invokeFunction('convertToInteractive',\n",
              "                                                    [key], {});\n",
              "        if (!dataTable) return;\n",
              "\n",
              "        const docLinkHtml = 'Like what you see? Visit the ' +\n",
              "          '<a target=\"_blank\" href=https://colab.research.google.com/notebooks/data_table.ipynb>data table notebook</a>'\n",
              "          + ' to learn more about interactive tables.';\n",
              "        element.innerHTML = '';\n",
              "        dataTable['output_type'] = 'display_data';\n",
              "        await google.colab.output.renderOutput(dataTable, element);\n",
              "        const docLink = document.createElement('div');\n",
              "        docLink.innerHTML = docLinkHtml;\n",
              "        element.appendChild(docLink);\n",
              "      }\n",
              "    </script>\n",
              "  </div>\n",
              "\n",
              "\n",
              "<div id=\"df-d108513b-f3d0-46a1-9989-dc51afea620b\">\n",
              "  <button class=\"colab-df-quickchart\" onclick=\"quickchart('df-d108513b-f3d0-46a1-9989-dc51afea620b')\"\n",
              "            title=\"Suggest charts.\"\n",
              "            style=\"display:none;\">\n",
              "\n",
              "<svg xmlns=\"http://www.w3.org/2000/svg\" height=\"24px\"viewBox=\"0 0 24 24\"\n",
              "     width=\"24px\">\n",
              "    <g>\n",
              "        <path d=\"M19 3H5c-1.1 0-2 .9-2 2v14c0 1.1.9 2 2 2h14c1.1 0 2-.9 2-2V5c0-1.1-.9-2-2-2zM9 17H7v-7h2v7zm4 0h-2V7h2v10zm4 0h-2v-4h2v4z\"/>\n",
              "    </g>\n",
              "</svg>\n",
              "  </button>\n",
              "\n",
              "<style>\n",
              "  .colab-df-quickchart {\n",
              "      --bg-color: #E8F0FE;\n",
              "      --fill-color: #1967D2;\n",
              "      --hover-bg-color: #E2EBFA;\n",
              "      --hover-fill-color: #174EA6;\n",
              "      --disabled-fill-color: #AAA;\n",
              "      --disabled-bg-color: #DDD;\n",
              "  }\n",
              "\n",
              "  [theme=dark] .colab-df-quickchart {\n",
              "      --bg-color: #3B4455;\n",
              "      --fill-color: #D2E3FC;\n",
              "      --hover-bg-color: #434B5C;\n",
              "      --hover-fill-color: #FFFFFF;\n",
              "      --disabled-bg-color: #3B4455;\n",
              "      --disabled-fill-color: #666;\n",
              "  }\n",
              "\n",
              "  .colab-df-quickchart {\n",
              "    background-color: var(--bg-color);\n",
              "    border: none;\n",
              "    border-radius: 50%;\n",
              "    cursor: pointer;\n",
              "    display: none;\n",
              "    fill: var(--fill-color);\n",
              "    height: 32px;\n",
              "    padding: 0;\n",
              "    width: 32px;\n",
              "  }\n",
              "\n",
              "  .colab-df-quickchart:hover {\n",
              "    background-color: var(--hover-bg-color);\n",
              "    box-shadow: 0 1px 2px rgba(60, 64, 67, 0.3), 0 1px 3px 1px rgba(60, 64, 67, 0.15);\n",
              "    fill: var(--button-hover-fill-color);\n",
              "  }\n",
              "\n",
              "  .colab-df-quickchart-complete:disabled,\n",
              "  .colab-df-quickchart-complete:disabled:hover {\n",
              "    background-color: var(--disabled-bg-color);\n",
              "    fill: var(--disabled-fill-color);\n",
              "    box-shadow: none;\n",
              "  }\n",
              "\n",
              "  .colab-df-spinner {\n",
              "    border: 2px solid var(--fill-color);\n",
              "    border-color: transparent;\n",
              "    border-bottom-color: var(--fill-color);\n",
              "    animation:\n",
              "      spin 1s steps(1) infinite;\n",
              "  }\n",
              "\n",
              "  @keyframes spin {\n",
              "    0% {\n",
              "      border-color: transparent;\n",
              "      border-bottom-color: var(--fill-color);\n",
              "      border-left-color: var(--fill-color);\n",
              "    }\n",
              "    20% {\n",
              "      border-color: transparent;\n",
              "      border-left-color: var(--fill-color);\n",
              "      border-top-color: var(--fill-color);\n",
              "    }\n",
              "    30% {\n",
              "      border-color: transparent;\n",
              "      border-left-color: var(--fill-color);\n",
              "      border-top-color: var(--fill-color);\n",
              "      border-right-color: var(--fill-color);\n",
              "    }\n",
              "    40% {\n",
              "      border-color: transparent;\n",
              "      border-right-color: var(--fill-color);\n",
              "      border-top-color: var(--fill-color);\n",
              "    }\n",
              "    60% {\n",
              "      border-color: transparent;\n",
              "      border-right-color: var(--fill-color);\n",
              "    }\n",
              "    80% {\n",
              "      border-color: transparent;\n",
              "      border-right-color: var(--fill-color);\n",
              "      border-bottom-color: var(--fill-color);\n",
              "    }\n",
              "    90% {\n",
              "      border-color: transparent;\n",
              "      border-bottom-color: var(--fill-color);\n",
              "    }\n",
              "  }\n",
              "</style>\n",
              "\n",
              "  <script>\n",
              "    async function quickchart(key) {\n",
              "      const quickchartButtonEl =\n",
              "        document.querySelector('#' + key + ' button');\n",
              "      quickchartButtonEl.disabled = true;  // To prevent multiple clicks.\n",
              "      quickchartButtonEl.classList.add('colab-df-spinner');\n",
              "      try {\n",
              "        const charts = await google.colab.kernel.invokeFunction(\n",
              "            'suggestCharts', [key], {});\n",
              "      } catch (error) {\n",
              "        console.error('Error during call to suggestCharts:', error);\n",
              "      }\n",
              "      quickchartButtonEl.classList.remove('colab-df-spinner');\n",
              "      quickchartButtonEl.classList.add('colab-df-quickchart-complete');\n",
              "    }\n",
              "    (() => {\n",
              "      let quickchartButtonEl =\n",
              "        document.querySelector('#df-d108513b-f3d0-46a1-9989-dc51afea620b button');\n",
              "      quickchartButtonEl.style.display =\n",
              "        google.colab.kernel.accessAllowed ? 'block' : 'none';\n",
              "    })();\n",
              "  </script>\n",
              "</div>\n",
              "    </div>\n",
              "  </div>\n"
            ]
          },
          "metadata": {},
          "execution_count": 324
        }
      ]
    },
    {
      "cell_type": "markdown",
      "source": [
        "Efectivamente, las variable \"curb weight\" y \"engine size\" tienen altos valores de correlación, 0.82 y 0.86 respectivamente.\n",
        "\n",
        "Alta correlación entre \"city-mpg\" y \"highway-mpg\" de 0.97"
      ],
      "metadata": {
        "id": "235QMGC5fJOf"
      }
    },
    {
      "cell_type": "markdown",
      "source": [
        "# Correlación entre variables explicativas\n",
        "\n",
        "Este procedimiento es fundamental para evitar la multicolinealidad entre variables."
      ],
      "metadata": {
        "id": "n57kFyY2ptwe"
      }
    },
    {
      "cell_type": "markdown",
      "source": [
        "Matriz de correlación"
      ],
      "metadata": {
        "id": "9Gy7CgN_rLIo"
      }
    },
    {
      "cell_type": "code",
      "source": [
        "df[numeric_cols].corr()"
      ],
      "metadata": {
        "colab": {
          "base_uri": "https://localhost:8080/",
          "height": 686
        },
        "id": "T6tvJSj1p-YV",
        "outputId": "1240c35f-d4fc-49a4-e62b-27a6ef03db3e"
      },
      "execution_count": null,
      "outputs": [
        {
          "output_type": "execute_result",
          "data": {
            "text/plain": [
              "                   symboling  normalized-losses  number_of_doors  wheel-base  \\\n",
              "symboling           1.000000           0.473555        -0.660092   -0.510546   \n",
              "normalized-losses   0.473555           1.000000        -0.369985   -0.071466   \n",
              "number_of_doors    -0.660092          -0.369985         1.000000    0.452155   \n",
              "wheel-base         -0.510546          -0.071466         0.452155    1.000000   \n",
              "length             -0.327271           0.007163         0.420799    0.859164   \n",
              "width              -0.200776           0.081844         0.222809    0.768832   \n",
              "height             -0.540809          -0.373116         0.542290    0.630796   \n",
              "curb-weight        -0.218261           0.088324         0.228587    0.773156   \n",
              "num-of-cylinders   -0.153848           0.133643         0.059585    0.251656   \n",
              "engine-size        -0.120296           0.134208         0.071797    0.556308   \n",
              "bore               -0.156046          -0.042529         0.150214    0.505801   \n",
              "stroke              0.055000           0.043234        -0.078442    0.055675   \n",
              "compression-ratio  -0.175245          -0.105894         0.180727    0.302983   \n",
              "horsepower          0.073354           0.224048        -0.103363    0.343418   \n",
              "peak-rpm            0.239596           0.254019        -0.231035   -0.304095   \n",
              "city-mpg           -0.046881          -0.214355        -0.031031   -0.453358   \n",
              "highway-mpg         0.017641          -0.172347        -0.049609   -0.510760   \n",
              "price              -0.125072           0.194896         0.155131    0.667160   \n",
              "\n",
              "                     length     width    height  curb-weight  \\\n",
              "symboling         -0.327271 -0.200776 -0.540809    -0.218261   \n",
              "normalized-losses  0.007163  0.081844 -0.373116     0.088324   \n",
              "number_of_doors    0.420799  0.222809  0.542290     0.228587   \n",
              "wheel-base         0.859164  0.768832  0.630796     0.773156   \n",
              "length             1.000000  0.809871  0.529667     0.863530   \n",
              "width              0.809871  1.000000  0.305353     0.839017   \n",
              "height             0.529667  0.305353  1.000000     0.368727   \n",
              "curb-weight        0.863530  0.839017  0.368727     1.000000   \n",
              "num-of-cylinders   0.309950  0.415687  0.078221     0.464665   \n",
              "engine-size        0.673289  0.714808  0.152016     0.840254   \n",
              "bore               0.594043  0.547565  0.194282     0.636288   \n",
              "stroke             0.059117  0.152067 -0.101421     0.117347   \n",
              "compression-ratio  0.191502  0.220736  0.274304     0.205243   \n",
              "horsepower         0.521753  0.636875 -0.077034     0.720534   \n",
              "peak-rpm          -0.248559 -0.155392 -0.317345    -0.246323   \n",
              "city-mpg          -0.643589 -0.609502 -0.069743    -0.727675   \n",
              "highway-mpg       -0.663781 -0.620758 -0.128647    -0.757461   \n",
              "price              0.724854  0.752808  0.260079     0.832958   \n",
              "\n",
              "                   num-of-cylinders  engine-size      bore    stroke  \\\n",
              "symboling                 -0.153848    -0.120296 -0.156046  0.055000   \n",
              "normalized-losses          0.133643     0.134208 -0.042529  0.043234   \n",
              "number_of_doors            0.059585     0.071797  0.150214 -0.078442   \n",
              "wheel-base                 0.251656     0.556308  0.505801  0.055675   \n",
              "length                     0.309950     0.673289  0.594043  0.059117   \n",
              "width                      0.415687     0.714808  0.547565  0.152067   \n",
              "height                     0.078221     0.152016  0.194282 -0.101421   \n",
              "curb-weight                0.464665     0.840254  0.636288  0.117347   \n",
              "num-of-cylinders           1.000000     0.715735  0.073975  0.059273   \n",
              "engine-size                0.715735     1.000000  0.597689  0.257989   \n",
              "bore                       0.073975     0.597689  1.000000 -0.082476   \n",
              "stroke                     0.059273     0.257989 -0.082476  1.000000   \n",
              "compression-ratio          0.028163     0.118939  0.022956  0.205201   \n",
              "horsepower                 0.558475     0.765012  0.517986  0.117327   \n",
              "peak-rpm                  -0.126226    -0.298913 -0.286182 -0.011045   \n",
              "city-mpg                  -0.298718    -0.614583 -0.531382 -0.024475   \n",
              "highway-mpg               -0.294951    -0.617716 -0.539320 -0.014154   \n",
              "price                      0.414652     0.724202  0.492961  0.075013   \n",
              "\n",
              "                   compression-ratio  horsepower  peak-rpm  city-mpg  \\\n",
              "symboling                  -0.175245    0.073354  0.239596 -0.046881   \n",
              "normalized-losses          -0.105894    0.224048  0.254019 -0.214355   \n",
              "number_of_doors             0.180727   -0.103363 -0.231035 -0.031031   \n",
              "wheel-base                  0.302983    0.343418 -0.304095 -0.453358   \n",
              "length                      0.191502    0.521753 -0.248559 -0.643589   \n",
              "width                       0.220736    0.636875 -0.155392 -0.609502   \n",
              "height                      0.274304   -0.077034 -0.317345 -0.069743   \n",
              "curb-weight                 0.205243    0.720534 -0.246323 -0.727675   \n",
              "num-of-cylinders            0.028163    0.558475 -0.126226 -0.298718   \n",
              "engine-size                 0.118939    0.765012 -0.298913 -0.614583   \n",
              "bore                        0.022956    0.517986 -0.286182 -0.531382   \n",
              "stroke                      0.205201    0.117327 -0.011045 -0.024475   \n",
              "compression-ratio           1.000000   -0.214986 -0.450713  0.330740   \n",
              "horsepower                 -0.214986    1.000000  0.144258 -0.779898   \n",
              "peak-rpm                   -0.450713    0.144258  1.000000 -0.140958   \n",
              "city-mpg                    0.330740   -0.779898 -0.140958  1.000000   \n",
              "highway-mpg                 0.269994   -0.745896 -0.101157  0.970117   \n",
              "price                       0.192014    0.639391 -0.143476 -0.649686   \n",
              "\n",
              "                   highway-mpg     price  \n",
              "symboling             0.017641 -0.125072  \n",
              "normalized-losses    -0.172347  0.194896  \n",
              "number_of_doors      -0.049609  0.155131  \n",
              "wheel-base           -0.510760  0.667160  \n",
              "length               -0.663781  0.724854  \n",
              "width                -0.620758  0.752808  \n",
              "height               -0.128647  0.260079  \n",
              "curb-weight          -0.757461  0.832958  \n",
              "num-of-cylinders     -0.294951  0.414652  \n",
              "engine-size          -0.617716  0.724202  \n",
              "bore                 -0.539320  0.492961  \n",
              "stroke               -0.014154  0.075013  \n",
              "compression-ratio     0.269994  0.192014  \n",
              "horsepower           -0.745896  0.639391  \n",
              "peak-rpm             -0.101157 -0.143476  \n",
              "city-mpg              0.970117 -0.649686  \n",
              "highway-mpg           1.000000 -0.671374  \n",
              "price                -0.671374  1.000000  "
            ],
            "text/html": [
              "\n",
              "  <div id=\"df-e91ef106-a340-4d86-aca7-20b0097d4ec8\" class=\"colab-df-container\">\n",
              "    <div>\n",
              "<style scoped>\n",
              "    .dataframe tbody tr th:only-of-type {\n",
              "        vertical-align: middle;\n",
              "    }\n",
              "\n",
              "    .dataframe tbody tr th {\n",
              "        vertical-align: top;\n",
              "    }\n",
              "\n",
              "    .dataframe thead th {\n",
              "        text-align: right;\n",
              "    }\n",
              "</style>\n",
              "<table border=\"1\" class=\"dataframe\">\n",
              "  <thead>\n",
              "    <tr style=\"text-align: right;\">\n",
              "      <th></th>\n",
              "      <th>symboling</th>\n",
              "      <th>normalized-losses</th>\n",
              "      <th>number_of_doors</th>\n",
              "      <th>wheel-base</th>\n",
              "      <th>length</th>\n",
              "      <th>width</th>\n",
              "      <th>height</th>\n",
              "      <th>curb-weight</th>\n",
              "      <th>num-of-cylinders</th>\n",
              "      <th>engine-size</th>\n",
              "      <th>bore</th>\n",
              "      <th>stroke</th>\n",
              "      <th>compression-ratio</th>\n",
              "      <th>horsepower</th>\n",
              "      <th>peak-rpm</th>\n",
              "      <th>city-mpg</th>\n",
              "      <th>highway-mpg</th>\n",
              "      <th>price</th>\n",
              "    </tr>\n",
              "  </thead>\n",
              "  <tbody>\n",
              "    <tr>\n",
              "      <th>symboling</th>\n",
              "      <td>1.000000</td>\n",
              "      <td>0.473555</td>\n",
              "      <td>-0.660092</td>\n",
              "      <td>-0.510546</td>\n",
              "      <td>-0.327271</td>\n",
              "      <td>-0.200776</td>\n",
              "      <td>-0.540809</td>\n",
              "      <td>-0.218261</td>\n",
              "      <td>-0.153848</td>\n",
              "      <td>-0.120296</td>\n",
              "      <td>-0.156046</td>\n",
              "      <td>0.055000</td>\n",
              "      <td>-0.175245</td>\n",
              "      <td>0.073354</td>\n",
              "      <td>0.239596</td>\n",
              "      <td>-0.046881</td>\n",
              "      <td>0.017641</td>\n",
              "      <td>-0.125072</td>\n",
              "    </tr>\n",
              "    <tr>\n",
              "      <th>normalized-losses</th>\n",
              "      <td>0.473555</td>\n",
              "      <td>1.000000</td>\n",
              "      <td>-0.369985</td>\n",
              "      <td>-0.071466</td>\n",
              "      <td>0.007163</td>\n",
              "      <td>0.081844</td>\n",
              "      <td>-0.373116</td>\n",
              "      <td>0.088324</td>\n",
              "      <td>0.133643</td>\n",
              "      <td>0.134208</td>\n",
              "      <td>-0.042529</td>\n",
              "      <td>0.043234</td>\n",
              "      <td>-0.105894</td>\n",
              "      <td>0.224048</td>\n",
              "      <td>0.254019</td>\n",
              "      <td>-0.214355</td>\n",
              "      <td>-0.172347</td>\n",
              "      <td>0.194896</td>\n",
              "    </tr>\n",
              "    <tr>\n",
              "      <th>number_of_doors</th>\n",
              "      <td>-0.660092</td>\n",
              "      <td>-0.369985</td>\n",
              "      <td>1.000000</td>\n",
              "      <td>0.452155</td>\n",
              "      <td>0.420799</td>\n",
              "      <td>0.222809</td>\n",
              "      <td>0.542290</td>\n",
              "      <td>0.228587</td>\n",
              "      <td>0.059585</td>\n",
              "      <td>0.071797</td>\n",
              "      <td>0.150214</td>\n",
              "      <td>-0.078442</td>\n",
              "      <td>0.180727</td>\n",
              "      <td>-0.103363</td>\n",
              "      <td>-0.231035</td>\n",
              "      <td>-0.031031</td>\n",
              "      <td>-0.049609</td>\n",
              "      <td>0.155131</td>\n",
              "    </tr>\n",
              "    <tr>\n",
              "      <th>wheel-base</th>\n",
              "      <td>-0.510546</td>\n",
              "      <td>-0.071466</td>\n",
              "      <td>0.452155</td>\n",
              "      <td>1.000000</td>\n",
              "      <td>0.859164</td>\n",
              "      <td>0.768832</td>\n",
              "      <td>0.630796</td>\n",
              "      <td>0.773156</td>\n",
              "      <td>0.251656</td>\n",
              "      <td>0.556308</td>\n",
              "      <td>0.505801</td>\n",
              "      <td>0.055675</td>\n",
              "      <td>0.302983</td>\n",
              "      <td>0.343418</td>\n",
              "      <td>-0.304095</td>\n",
              "      <td>-0.453358</td>\n",
              "      <td>-0.510760</td>\n",
              "      <td>0.667160</td>\n",
              "    </tr>\n",
              "    <tr>\n",
              "      <th>length</th>\n",
              "      <td>-0.327271</td>\n",
              "      <td>0.007163</td>\n",
              "      <td>0.420799</td>\n",
              "      <td>0.859164</td>\n",
              "      <td>1.000000</td>\n",
              "      <td>0.809871</td>\n",
              "      <td>0.529667</td>\n",
              "      <td>0.863530</td>\n",
              "      <td>0.309950</td>\n",
              "      <td>0.673289</td>\n",
              "      <td>0.594043</td>\n",
              "      <td>0.059117</td>\n",
              "      <td>0.191502</td>\n",
              "      <td>0.521753</td>\n",
              "      <td>-0.248559</td>\n",
              "      <td>-0.643589</td>\n",
              "      <td>-0.663781</td>\n",
              "      <td>0.724854</td>\n",
              "    </tr>\n",
              "    <tr>\n",
              "      <th>width</th>\n",
              "      <td>-0.200776</td>\n",
              "      <td>0.081844</td>\n",
              "      <td>0.222809</td>\n",
              "      <td>0.768832</td>\n",
              "      <td>0.809871</td>\n",
              "      <td>1.000000</td>\n",
              "      <td>0.305353</td>\n",
              "      <td>0.839017</td>\n",
              "      <td>0.415687</td>\n",
              "      <td>0.714808</td>\n",
              "      <td>0.547565</td>\n",
              "      <td>0.152067</td>\n",
              "      <td>0.220736</td>\n",
              "      <td>0.636875</td>\n",
              "      <td>-0.155392</td>\n",
              "      <td>-0.609502</td>\n",
              "      <td>-0.620758</td>\n",
              "      <td>0.752808</td>\n",
              "    </tr>\n",
              "    <tr>\n",
              "      <th>height</th>\n",
              "      <td>-0.540809</td>\n",
              "      <td>-0.373116</td>\n",
              "      <td>0.542290</td>\n",
              "      <td>0.630796</td>\n",
              "      <td>0.529667</td>\n",
              "      <td>0.305353</td>\n",
              "      <td>1.000000</td>\n",
              "      <td>0.368727</td>\n",
              "      <td>0.078221</td>\n",
              "      <td>0.152016</td>\n",
              "      <td>0.194282</td>\n",
              "      <td>-0.101421</td>\n",
              "      <td>0.274304</td>\n",
              "      <td>-0.077034</td>\n",
              "      <td>-0.317345</td>\n",
              "      <td>-0.069743</td>\n",
              "      <td>-0.128647</td>\n",
              "      <td>0.260079</td>\n",
              "    </tr>\n",
              "    <tr>\n",
              "      <th>curb-weight</th>\n",
              "      <td>-0.218261</td>\n",
              "      <td>0.088324</td>\n",
              "      <td>0.228587</td>\n",
              "      <td>0.773156</td>\n",
              "      <td>0.863530</td>\n",
              "      <td>0.839017</td>\n",
              "      <td>0.368727</td>\n",
              "      <td>1.000000</td>\n",
              "      <td>0.464665</td>\n",
              "      <td>0.840254</td>\n",
              "      <td>0.636288</td>\n",
              "      <td>0.117347</td>\n",
              "      <td>0.205243</td>\n",
              "      <td>0.720534</td>\n",
              "      <td>-0.246323</td>\n",
              "      <td>-0.727675</td>\n",
              "      <td>-0.757461</td>\n",
              "      <td>0.832958</td>\n",
              "    </tr>\n",
              "    <tr>\n",
              "      <th>num-of-cylinders</th>\n",
              "      <td>-0.153848</td>\n",
              "      <td>0.133643</td>\n",
              "      <td>0.059585</td>\n",
              "      <td>0.251656</td>\n",
              "      <td>0.309950</td>\n",
              "      <td>0.415687</td>\n",
              "      <td>0.078221</td>\n",
              "      <td>0.464665</td>\n",
              "      <td>1.000000</td>\n",
              "      <td>0.715735</td>\n",
              "      <td>0.073975</td>\n",
              "      <td>0.059273</td>\n",
              "      <td>0.028163</td>\n",
              "      <td>0.558475</td>\n",
              "      <td>-0.126226</td>\n",
              "      <td>-0.298718</td>\n",
              "      <td>-0.294951</td>\n",
              "      <td>0.414652</td>\n",
              "    </tr>\n",
              "    <tr>\n",
              "      <th>engine-size</th>\n",
              "      <td>-0.120296</td>\n",
              "      <td>0.134208</td>\n",
              "      <td>0.071797</td>\n",
              "      <td>0.556308</td>\n",
              "      <td>0.673289</td>\n",
              "      <td>0.714808</td>\n",
              "      <td>0.152016</td>\n",
              "      <td>0.840254</td>\n",
              "      <td>0.715735</td>\n",
              "      <td>1.000000</td>\n",
              "      <td>0.597689</td>\n",
              "      <td>0.257989</td>\n",
              "      <td>0.118939</td>\n",
              "      <td>0.765012</td>\n",
              "      <td>-0.298913</td>\n",
              "      <td>-0.614583</td>\n",
              "      <td>-0.617716</td>\n",
              "      <td>0.724202</td>\n",
              "    </tr>\n",
              "    <tr>\n",
              "      <th>bore</th>\n",
              "      <td>-0.156046</td>\n",
              "      <td>-0.042529</td>\n",
              "      <td>0.150214</td>\n",
              "      <td>0.505801</td>\n",
              "      <td>0.594043</td>\n",
              "      <td>0.547565</td>\n",
              "      <td>0.194282</td>\n",
              "      <td>0.636288</td>\n",
              "      <td>0.073975</td>\n",
              "      <td>0.597689</td>\n",
              "      <td>1.000000</td>\n",
              "      <td>-0.082476</td>\n",
              "      <td>0.022956</td>\n",
              "      <td>0.517986</td>\n",
              "      <td>-0.286182</td>\n",
              "      <td>-0.531382</td>\n",
              "      <td>-0.539320</td>\n",
              "      <td>0.492961</td>\n",
              "    </tr>\n",
              "    <tr>\n",
              "      <th>stroke</th>\n",
              "      <td>0.055000</td>\n",
              "      <td>0.043234</td>\n",
              "      <td>-0.078442</td>\n",
              "      <td>0.055675</td>\n",
              "      <td>0.059117</td>\n",
              "      <td>0.152067</td>\n",
              "      <td>-0.101421</td>\n",
              "      <td>0.117347</td>\n",
              "      <td>0.059273</td>\n",
              "      <td>0.257989</td>\n",
              "      <td>-0.082476</td>\n",
              "      <td>1.000000</td>\n",
              "      <td>0.205201</td>\n",
              "      <td>0.117327</td>\n",
              "      <td>-0.011045</td>\n",
              "      <td>-0.024475</td>\n",
              "      <td>-0.014154</td>\n",
              "      <td>0.075013</td>\n",
              "    </tr>\n",
              "    <tr>\n",
              "      <th>compression-ratio</th>\n",
              "      <td>-0.175245</td>\n",
              "      <td>-0.105894</td>\n",
              "      <td>0.180727</td>\n",
              "      <td>0.302983</td>\n",
              "      <td>0.191502</td>\n",
              "      <td>0.220736</td>\n",
              "      <td>0.274304</td>\n",
              "      <td>0.205243</td>\n",
              "      <td>0.028163</td>\n",
              "      <td>0.118939</td>\n",
              "      <td>0.022956</td>\n",
              "      <td>0.205201</td>\n",
              "      <td>1.000000</td>\n",
              "      <td>-0.214986</td>\n",
              "      <td>-0.450713</td>\n",
              "      <td>0.330740</td>\n",
              "      <td>0.269994</td>\n",
              "      <td>0.192014</td>\n",
              "    </tr>\n",
              "    <tr>\n",
              "      <th>horsepower</th>\n",
              "      <td>0.073354</td>\n",
              "      <td>0.224048</td>\n",
              "      <td>-0.103363</td>\n",
              "      <td>0.343418</td>\n",
              "      <td>0.521753</td>\n",
              "      <td>0.636875</td>\n",
              "      <td>-0.077034</td>\n",
              "      <td>0.720534</td>\n",
              "      <td>0.558475</td>\n",
              "      <td>0.765012</td>\n",
              "      <td>0.517986</td>\n",
              "      <td>0.117327</td>\n",
              "      <td>-0.214986</td>\n",
              "      <td>1.000000</td>\n",
              "      <td>0.144258</td>\n",
              "      <td>-0.779898</td>\n",
              "      <td>-0.745896</td>\n",
              "      <td>0.639391</td>\n",
              "    </tr>\n",
              "    <tr>\n",
              "      <th>peak-rpm</th>\n",
              "      <td>0.239596</td>\n",
              "      <td>0.254019</td>\n",
              "      <td>-0.231035</td>\n",
              "      <td>-0.304095</td>\n",
              "      <td>-0.248559</td>\n",
              "      <td>-0.155392</td>\n",
              "      <td>-0.317345</td>\n",
              "      <td>-0.246323</td>\n",
              "      <td>-0.126226</td>\n",
              "      <td>-0.298913</td>\n",
              "      <td>-0.286182</td>\n",
              "      <td>-0.011045</td>\n",
              "      <td>-0.450713</td>\n",
              "      <td>0.144258</td>\n",
              "      <td>1.000000</td>\n",
              "      <td>-0.140958</td>\n",
              "      <td>-0.101157</td>\n",
              "      <td>-0.143476</td>\n",
              "    </tr>\n",
              "    <tr>\n",
              "      <th>city-mpg</th>\n",
              "      <td>-0.046881</td>\n",
              "      <td>-0.214355</td>\n",
              "      <td>-0.031031</td>\n",
              "      <td>-0.453358</td>\n",
              "      <td>-0.643589</td>\n",
              "      <td>-0.609502</td>\n",
              "      <td>-0.069743</td>\n",
              "      <td>-0.727675</td>\n",
              "      <td>-0.298718</td>\n",
              "      <td>-0.614583</td>\n",
              "      <td>-0.531382</td>\n",
              "      <td>-0.024475</td>\n",
              "      <td>0.330740</td>\n",
              "      <td>-0.779898</td>\n",
              "      <td>-0.140958</td>\n",
              "      <td>1.000000</td>\n",
              "      <td>0.970117</td>\n",
              "      <td>-0.649686</td>\n",
              "    </tr>\n",
              "    <tr>\n",
              "      <th>highway-mpg</th>\n",
              "      <td>0.017641</td>\n",
              "      <td>-0.172347</td>\n",
              "      <td>-0.049609</td>\n",
              "      <td>-0.510760</td>\n",
              "      <td>-0.663781</td>\n",
              "      <td>-0.620758</td>\n",
              "      <td>-0.128647</td>\n",
              "      <td>-0.757461</td>\n",
              "      <td>-0.294951</td>\n",
              "      <td>-0.617716</td>\n",
              "      <td>-0.539320</td>\n",
              "      <td>-0.014154</td>\n",
              "      <td>0.269994</td>\n",
              "      <td>-0.745896</td>\n",
              "      <td>-0.101157</td>\n",
              "      <td>0.970117</td>\n",
              "      <td>1.000000</td>\n",
              "      <td>-0.671374</td>\n",
              "    </tr>\n",
              "    <tr>\n",
              "      <th>price</th>\n",
              "      <td>-0.125072</td>\n",
              "      <td>0.194896</td>\n",
              "      <td>0.155131</td>\n",
              "      <td>0.667160</td>\n",
              "      <td>0.724854</td>\n",
              "      <td>0.752808</td>\n",
              "      <td>0.260079</td>\n",
              "      <td>0.832958</td>\n",
              "      <td>0.414652</td>\n",
              "      <td>0.724202</td>\n",
              "      <td>0.492961</td>\n",
              "      <td>0.075013</td>\n",
              "      <td>0.192014</td>\n",
              "      <td>0.639391</td>\n",
              "      <td>-0.143476</td>\n",
              "      <td>-0.649686</td>\n",
              "      <td>-0.671374</td>\n",
              "      <td>1.000000</td>\n",
              "    </tr>\n",
              "  </tbody>\n",
              "</table>\n",
              "</div>\n",
              "    <div class=\"colab-df-buttons\">\n",
              "\n",
              "  <div class=\"colab-df-container\">\n",
              "    <button class=\"colab-df-convert\" onclick=\"convertToInteractive('df-e91ef106-a340-4d86-aca7-20b0097d4ec8')\"\n",
              "            title=\"Convert this dataframe to an interactive table.\"\n",
              "            style=\"display:none;\">\n",
              "\n",
              "  <svg xmlns=\"http://www.w3.org/2000/svg\" height=\"24px\" viewBox=\"0 -960 960 960\">\n",
              "    <path d=\"M120-120v-720h720v720H120Zm60-500h600v-160H180v160Zm220 220h160v-160H400v160Zm0 220h160v-160H400v160ZM180-400h160v-160H180v160Zm440 0h160v-160H620v160ZM180-180h160v-160H180v160Zm440 0h160v-160H620v160Z\"/>\n",
              "  </svg>\n",
              "    </button>\n",
              "\n",
              "  <style>\n",
              "    .colab-df-container {\n",
              "      display:flex;\n",
              "      gap: 12px;\n",
              "    }\n",
              "\n",
              "    .colab-df-convert {\n",
              "      background-color: #E8F0FE;\n",
              "      border: none;\n",
              "      border-radius: 50%;\n",
              "      cursor: pointer;\n",
              "      display: none;\n",
              "      fill: #1967D2;\n",
              "      height: 32px;\n",
              "      padding: 0 0 0 0;\n",
              "      width: 32px;\n",
              "    }\n",
              "\n",
              "    .colab-df-convert:hover {\n",
              "      background-color: #E2EBFA;\n",
              "      box-shadow: 0px 1px 2px rgba(60, 64, 67, 0.3), 0px 1px 3px 1px rgba(60, 64, 67, 0.15);\n",
              "      fill: #174EA6;\n",
              "    }\n",
              "\n",
              "    .colab-df-buttons div {\n",
              "      margin-bottom: 4px;\n",
              "    }\n",
              "\n",
              "    [theme=dark] .colab-df-convert {\n",
              "      background-color: #3B4455;\n",
              "      fill: #D2E3FC;\n",
              "    }\n",
              "\n",
              "    [theme=dark] .colab-df-convert:hover {\n",
              "      background-color: #434B5C;\n",
              "      box-shadow: 0px 1px 3px 1px rgba(0, 0, 0, 0.15);\n",
              "      filter: drop-shadow(0px 1px 2px rgba(0, 0, 0, 0.3));\n",
              "      fill: #FFFFFF;\n",
              "    }\n",
              "  </style>\n",
              "\n",
              "    <script>\n",
              "      const buttonEl =\n",
              "        document.querySelector('#df-e91ef106-a340-4d86-aca7-20b0097d4ec8 button.colab-df-convert');\n",
              "      buttonEl.style.display =\n",
              "        google.colab.kernel.accessAllowed ? 'block' : 'none';\n",
              "\n",
              "      async function convertToInteractive(key) {\n",
              "        const element = document.querySelector('#df-e91ef106-a340-4d86-aca7-20b0097d4ec8');\n",
              "        const dataTable =\n",
              "          await google.colab.kernel.invokeFunction('convertToInteractive',\n",
              "                                                    [key], {});\n",
              "        if (!dataTable) return;\n",
              "\n",
              "        const docLinkHtml = 'Like what you see? Visit the ' +\n",
              "          '<a target=\"_blank\" href=https://colab.research.google.com/notebooks/data_table.ipynb>data table notebook</a>'\n",
              "          + ' to learn more about interactive tables.';\n",
              "        element.innerHTML = '';\n",
              "        dataTable['output_type'] = 'display_data';\n",
              "        await google.colab.output.renderOutput(dataTable, element);\n",
              "        const docLink = document.createElement('div');\n",
              "        docLink.innerHTML = docLinkHtml;\n",
              "        element.appendChild(docLink);\n",
              "      }\n",
              "    </script>\n",
              "  </div>\n",
              "\n",
              "\n",
              "<div id=\"df-1ee51677-2d69-463d-a98c-5ed3f3a50796\">\n",
              "  <button class=\"colab-df-quickchart\" onclick=\"quickchart('df-1ee51677-2d69-463d-a98c-5ed3f3a50796')\"\n",
              "            title=\"Suggest charts.\"\n",
              "            style=\"display:none;\">\n",
              "\n",
              "<svg xmlns=\"http://www.w3.org/2000/svg\" height=\"24px\"viewBox=\"0 0 24 24\"\n",
              "     width=\"24px\">\n",
              "    <g>\n",
              "        <path d=\"M19 3H5c-1.1 0-2 .9-2 2v14c0 1.1.9 2 2 2h14c1.1 0 2-.9 2-2V5c0-1.1-.9-2-2-2zM9 17H7v-7h2v7zm4 0h-2V7h2v10zm4 0h-2v-4h2v4z\"/>\n",
              "    </g>\n",
              "</svg>\n",
              "  </button>\n",
              "\n",
              "<style>\n",
              "  .colab-df-quickchart {\n",
              "      --bg-color: #E8F0FE;\n",
              "      --fill-color: #1967D2;\n",
              "      --hover-bg-color: #E2EBFA;\n",
              "      --hover-fill-color: #174EA6;\n",
              "      --disabled-fill-color: #AAA;\n",
              "      --disabled-bg-color: #DDD;\n",
              "  }\n",
              "\n",
              "  [theme=dark] .colab-df-quickchart {\n",
              "      --bg-color: #3B4455;\n",
              "      --fill-color: #D2E3FC;\n",
              "      --hover-bg-color: #434B5C;\n",
              "      --hover-fill-color: #FFFFFF;\n",
              "      --disabled-bg-color: #3B4455;\n",
              "      --disabled-fill-color: #666;\n",
              "  }\n",
              "\n",
              "  .colab-df-quickchart {\n",
              "    background-color: var(--bg-color);\n",
              "    border: none;\n",
              "    border-radius: 50%;\n",
              "    cursor: pointer;\n",
              "    display: none;\n",
              "    fill: var(--fill-color);\n",
              "    height: 32px;\n",
              "    padding: 0;\n",
              "    width: 32px;\n",
              "  }\n",
              "\n",
              "  .colab-df-quickchart:hover {\n",
              "    background-color: var(--hover-bg-color);\n",
              "    box-shadow: 0 1px 2px rgba(60, 64, 67, 0.3), 0 1px 3px 1px rgba(60, 64, 67, 0.15);\n",
              "    fill: var(--button-hover-fill-color);\n",
              "  }\n",
              "\n",
              "  .colab-df-quickchart-complete:disabled,\n",
              "  .colab-df-quickchart-complete:disabled:hover {\n",
              "    background-color: var(--disabled-bg-color);\n",
              "    fill: var(--disabled-fill-color);\n",
              "    box-shadow: none;\n",
              "  }\n",
              "\n",
              "  .colab-df-spinner {\n",
              "    border: 2px solid var(--fill-color);\n",
              "    border-color: transparent;\n",
              "    border-bottom-color: var(--fill-color);\n",
              "    animation:\n",
              "      spin 1s steps(1) infinite;\n",
              "  }\n",
              "\n",
              "  @keyframes spin {\n",
              "    0% {\n",
              "      border-color: transparent;\n",
              "      border-bottom-color: var(--fill-color);\n",
              "      border-left-color: var(--fill-color);\n",
              "    }\n",
              "    20% {\n",
              "      border-color: transparent;\n",
              "      border-left-color: var(--fill-color);\n",
              "      border-top-color: var(--fill-color);\n",
              "    }\n",
              "    30% {\n",
              "      border-color: transparent;\n",
              "      border-left-color: var(--fill-color);\n",
              "      border-top-color: var(--fill-color);\n",
              "      border-right-color: var(--fill-color);\n",
              "    }\n",
              "    40% {\n",
              "      border-color: transparent;\n",
              "      border-right-color: var(--fill-color);\n",
              "      border-top-color: var(--fill-color);\n",
              "    }\n",
              "    60% {\n",
              "      border-color: transparent;\n",
              "      border-right-color: var(--fill-color);\n",
              "    }\n",
              "    80% {\n",
              "      border-color: transparent;\n",
              "      border-right-color: var(--fill-color);\n",
              "      border-bottom-color: var(--fill-color);\n",
              "    }\n",
              "    90% {\n",
              "      border-color: transparent;\n",
              "      border-bottom-color: var(--fill-color);\n",
              "    }\n",
              "  }\n",
              "</style>\n",
              "\n",
              "  <script>\n",
              "    async function quickchart(key) {\n",
              "      const quickchartButtonEl =\n",
              "        document.querySelector('#' + key + ' button');\n",
              "      quickchartButtonEl.disabled = true;  // To prevent multiple clicks.\n",
              "      quickchartButtonEl.classList.add('colab-df-spinner');\n",
              "      try {\n",
              "        const charts = await google.colab.kernel.invokeFunction(\n",
              "            'suggestCharts', [key], {});\n",
              "      } catch (error) {\n",
              "        console.error('Error during call to suggestCharts:', error);\n",
              "      }\n",
              "      quickchartButtonEl.classList.remove('colab-df-spinner');\n",
              "      quickchartButtonEl.classList.add('colab-df-quickchart-complete');\n",
              "    }\n",
              "    (() => {\n",
              "      let quickchartButtonEl =\n",
              "        document.querySelector('#df-1ee51677-2d69-463d-a98c-5ed3f3a50796 button');\n",
              "      quickchartButtonEl.style.display =\n",
              "        google.colab.kernel.accessAllowed ? 'block' : 'none';\n",
              "    })();\n",
              "  </script>\n",
              "</div>\n",
              "    </div>\n",
              "  </div>\n"
            ]
          },
          "metadata": {},
          "execution_count": 325
        }
      ]
    },
    {
      "cell_type": "code",
      "source": [
        "# Se extraen aquellas variables con correlaciones mayores a 0.85\n",
        "matriz_correlacion = df[numeric_cols].corr()\n",
        "\n",
        "umbral = 0.85\n",
        "\n",
        "alto_umbral = []\n",
        "\n",
        "for col in matriz_correlacion.columns:\n",
        "    correlated_cols = matriz_correlacion.index[matriz_correlacion[col] >= umbral].tolist()\n",
        "    correlated_cols.remove(col)\n",
        "    for correlated_col in correlated_cols:\n",
        "        pair = (col, correlated_col)\n",
        "        alto_umbral.append(pair)\n",
        "\n",
        "print(alto_umbral)"
      ],
      "metadata": {
        "colab": {
          "base_uri": "https://localhost:8080/"
        },
        "id": "qFM-xD0ijz0E",
        "outputId": "31d2e073-a75c-49a1-c2ed-60fb23e9bdd6"
      },
      "execution_count": null,
      "outputs": [
        {
          "output_type": "stream",
          "name": "stdout",
          "text": [
            "[('wheel-base', 'length'), ('length', 'wheel-base'), ('length', 'curb-weight'), ('curb-weight', 'length'), ('city-mpg', 'highway-mpg'), ('highway-mpg', 'city-mpg')]\n"
          ]
        }
      ]
    },
    {
      "cell_type": "code",
      "source": [
        "flat_umbral = []\n",
        "for tup in alto_umbral:\n",
        "    for item in tup:\n",
        "        flat_umbral.append(item)"
      ],
      "metadata": {
        "id": "8qUSMvxXkpH3"
      },
      "execution_count": null,
      "outputs": []
    },
    {
      "cell_type": "code",
      "source": [
        "from collections import Counter\n",
        "Counter(flat_umbral)"
      ],
      "metadata": {
        "colab": {
          "base_uri": "https://localhost:8080/"
        },
        "id": "JBBRSUVDkqi6",
        "outputId": "a5308bed-0ad7-4a2b-dc85-d4b2ef7e5947"
      },
      "execution_count": null,
      "outputs": [
        {
          "output_type": "execute_result",
          "data": {
            "text/plain": [
              "Counter({'wheel-base': 2,\n",
              "         'length': 4,\n",
              "         'curb-weight': 2,\n",
              "         'city-mpg': 2,\n",
              "         'highway-mpg': 2})"
            ]
          },
          "metadata": {},
          "execution_count": 328
        }
      ]
    },
    {
      "cell_type": "markdown",
      "source": [
        "VIF"
      ],
      "metadata": {
        "id": "AnHsIvCGrQLf"
      }
    },
    {
      "cell_type": "code",
      "source": [
        "for i in range(df[numeric_cols].shape[1]):\n",
        "  print(df[numeric_cols].columns[i],variance_inflation_factor(df[numeric_cols],i))"
      ],
      "metadata": {
        "colab": {
          "base_uri": "https://localhost:8080/"
        },
        "id": "Mropr5qmrRCN",
        "outputId": "47c54a2e-2509-461c-d6d2-71df04f9c437"
      },
      "execution_count": null,
      "outputs": [
        {
          "output_type": "stream",
          "name": "stdout",
          "text": [
            "symboling 4.270989738738863\n",
            "normalized-losses 25.843648837472525\n",
            "number_of_doors 26.2823676899061\n",
            "wheel-base 2771.5188237901953\n",
            "length 1991.524247244121\n",
            "width 3979.4931797996796\n",
            "height 1217.7435813926227\n",
            "curb-weight 500.6331652520387\n",
            "num-of-cylinders 239.11647833444053\n",
            "engine-size 384.05965940412057\n",
            "bore 644.1540036405019\n",
            "stroke 226.15916458611665\n",
            "compression-ratio 19.407192483684383\n",
            "horsepower 71.29455784761042\n",
            "peak-rpm 252.95054614926204\n",
            "city-mpg 465.9707523333703\n",
            "highway-mpg 548.0590147124037\n",
            "price 25.917359857133576\n"
          ]
        }
      ]
    },
    {
      "cell_type": "code",
      "source": [
        "# Utilizando la herramienta estadística VIF, se decide eliminar las\n",
        "#siguientes columnas para evitar la colinealidad\n",
        "\n",
        "df = df.drop([\"wheel-base\", \"length\", \"highway-mpg\"], axis = 1)"
      ],
      "metadata": {
        "id": "wa1pj9FOl8hF"
      },
      "execution_count": null,
      "outputs": []
    },
    {
      "cell_type": "markdown",
      "source": [
        "# Supuesto de normalidad para Y"
      ],
      "metadata": {
        "id": "KYf0RUJonXTH"
      }
    },
    {
      "cell_type": "code",
      "source": [
        "log_price = np.log(df['price'])"
      ],
      "metadata": {
        "id": "RBzI8spdl1P7"
      },
      "execution_count": null,
      "outputs": []
    },
    {
      "cell_type": "code",
      "source": [
        "fig, ax = plt.subplots(1,2,figsize=(10,8))\n",
        "ax[0].hist(df['price'],ec='black',color='cyan')\n",
        "ax[1].hist(log_price,ec='black',color='cyan')\n",
        "ax[0].set_xlabel('Price')\n",
        "ax[0].set_ylabel('Frequency')\n",
        "ax[1].set_xlabel('log(Price)')\n",
        "ax[1].set_ylabel('Frequency')\n",
        "plt.show()"
      ],
      "metadata": {
        "colab": {
          "base_uri": "https://localhost:8080/",
          "height": 696
        },
        "id": "G3IrIAUrm-KD",
        "outputId": "fd41e5cf-84e0-49a8-aef5-9e591b4a9689"
      },
      "execution_count": null,
      "outputs": [
        {
          "output_type": "display_data",
          "data": {
            "text/plain": [
              "<Figure size 1000x800 with 2 Axes>"
            ],
            "image/png": "[encoded data removed]"
          },
          "metadata": {}
        }
      ]
    },
    {
      "cell_type": "code",
      "source": [
        "sm.qqplot((log_price-log_price.mean())/log_price.std(), line ='45')\n",
        "py.show()"
      ],
      "metadata": {
        "colab": {
          "base_uri": "https://localhost:8080/",
          "height": 449
        },
        "id": "EFgh8Y2vna2n",
        "outputId": "9c1d3f8d-0243-4804-91b0-8c98f976a31a"
      },
      "execution_count": null,
      "outputs": [
        {
          "output_type": "display_data",
          "data": {
            "text/plain": [
              "<Figure size 640x480 with 1 Axes>"
            ],
            "image/png": "[encoded data removed]"
          },
          "metadata": {}
        }
      ]
    },
    {
      "cell_type": "markdown",
      "source": [
        "El QQ plot muestra un comportamiento más cercano al normal en el centro y se empieza a desplazar en los extremos"
      ],
      "metadata": {
        "id": "-JB9RfAXom46"
      }
    },
    {
      "cell_type": "code",
      "source": [
        "res = stats.jarque_bera(log_price)\n",
        "print(res.statistic,res.pvalue)"
      ],
      "metadata": {
        "colab": {
          "base_uri": "https://localhost:8080/"
        },
        "id": "Yd0OIap6oAvn",
        "outputId": "8aa501aa-4000-4f16-96d6-452a68152bf4"
      },
      "execution_count": null,
      "outputs": [
        {
          "output_type": "stream",
          "name": "stdout",
          "text": [
            "8.624976466272193 0.013400165342135008\n"
          ]
        }
      ]
    },
    {
      "cell_type": "markdown",
      "source": [
        "P value es menor a 0.05 así que se rechaza la hipótesis nula de normalidad"
      ],
      "metadata": {
        "id": "TvtOx_FloOy_"
      }
    },
    {
      "cell_type": "markdown",
      "source": [
        "# Regresión lineal 1 (Solo variables numéricas)\n",
        "\n",
        "log(Price) con variables numéricas\n",
        "\n",
        "- comentar resultados\n",
        "- antes de comentar, verificar que ya esté bien la limpieza"
      ],
      "metadata": {
        "id": "_jZ19UhVo7Pj"
      }
    },
    {
      "cell_type": "code",
      "source": [
        "numeric_cols.remove(\"wheel-base\")"
      ],
      "metadata": {
        "id": "fmA9DqQAogya"
      },
      "execution_count": null,
      "outputs": []
    },
    {
      "cell_type": "code",
      "source": [
        "numeric_cols.remove(\"length\")\n",
        "numeric_cols.remove(\"highway-mpg\")"
      ],
      "metadata": {
        "id": "AyOudNXxowec"
      },
      "execution_count": null,
      "outputs": []
    },
    {
      "cell_type": "code",
      "source": [
        "y = log_price\n",
        "X = (df[numeric_cols]).drop(\"price\", axis = 1)"
      ],
      "metadata": {
        "id": "ipkRDjuMpJXu"
      },
      "execution_count": null,
      "outputs": []
    },
    {
      "cell_type": "markdown",
      "source": [
        "**OLS**"
      ],
      "metadata": {
        "id": "6xGIuE3vtkYC"
      }
    },
    {
      "cell_type": "code",
      "source": [
        "Xc = sm.add_constant(X) #para obtener la ordenada en el origen\n",
        "model = sm.OLS(y, X) #Ordinary Least Squares\n",
        "results = model.fit()\n",
        "print(results.summary())\n",
        "#results.mse_resid\n",
        "results.rsquared_adj"
      ],
      "metadata": {
        "colab": {
          "base_uri": "https://localhost:8080/"
        },
        "id": "y4m2KneEtTNd",
        "outputId": "3b13476d-f50e-4a9f-f9e7-78ffd74ead42"
      },
      "execution_count": null,
      "outputs": [
        {
          "output_type": "stream",
          "name": "stdout",
          "text": [
            "                                 OLS Regression Results                                \n",
            "=======================================================================================\n",
            "Dep. Variable:                  price   R-squared (uncentered):                   1.000\n",
            "Model:                            OLS   Adj. R-squared (uncentered):              0.999\n",
            "Method:                 Least Squares   F-statistic:                          2.541e+04\n",
            "Date:                Wed, 13 Sep 2023   Prob (F-statistic):                   3.72e-284\n",
            "Time:                        04:14:10   Log-Likelihood:                          30.011\n",
            "No. Observations:                 191   AIC:                                     -32.02\n",
            "Df Residuals:                     177   BIC:                                      13.51\n",
            "Df Model:                          14                                                  \n",
            "Covariance Type:            nonrobust                                                  \n",
            "=====================================================================================\n",
            "                        coef    std err          t      P>|t|      [0.025      0.975]\n",
            "-------------------------------------------------------------------------------------\n",
            "symboling             0.0259      0.019      1.365      0.174      -0.012       0.063\n",
            "normalized-losses     0.0018      0.001      2.945      0.004       0.001       0.003\n",
            "number_of_doors       0.0231      0.023      1.028      0.305      -0.021       0.068\n",
            "width                 0.0970      0.011      8.455      0.000       0.074       0.120\n",
            "height                0.0292      0.009      3.260      0.001       0.012       0.047\n",
            "curb-weight           0.0002      0.000      1.308      0.193   -8.47e-05       0.000\n",
            "num-of-cylinders     -0.0698      0.054     -1.296      0.197      -0.176       0.036\n",
            "engine-size           0.0039      0.002      1.661      0.098      -0.001       0.009\n",
            "bore                  0.0036      0.115      0.031      0.975      -0.223       0.230\n",
            "stroke               -0.0439      0.069     -0.639      0.524      -0.179       0.092\n",
            "compression-ratio     0.0064      0.006      1.050      0.295      -0.006       0.018\n",
            "horsepower            0.0007      0.001      0.590      0.556      -0.002       0.003\n",
            "peak-rpm              0.0001   4.78e-05      2.176      0.031    9.69e-06       0.000\n",
            "city-mpg             -0.0043      0.006     -0.754      0.452      -0.015       0.007\n",
            "==============================================================================\n",
            "Omnibus:                       19.718   Durbin-Watson:                   0.998\n",
            "Prob(Omnibus):                  0.000   Jarque-Bera (JB):               78.744\n",
            "Skew:                           0.099   Prob(JB):                     7.96e-18\n",
            "Kurtosis:                       6.139   Cond. No.                     4.71e+04\n",
            "==============================================================================\n",
            "\n",
            "Notes:\n",
            "[1] R² is computed without centering (uncentered) since the model does not contain a constant.\n",
            "[2] Standard Errors assume that the covariance matrix of the errors is correctly specified.\n",
            "[3] The condition number is large, 4.71e+04. This might indicate that there are\n",
            "strong multicollinearity or other numerical problems.\n"
          ]
        },
        {
          "output_type": "execute_result",
          "data": {
            "text/plain": [
              "0.9994634221016518"
            ]
          },
          "metadata": {},
          "execution_count": 338
        }
      ]
    },
    {
      "cell_type": "markdown",
      "source": [
        "Comentarios:\n",
        "P Value de muchas de las variables es mayor a 0.05 lo cual quiere decir que no se rechaza H0 y por lo tanto estas no son significactiva.\n",
        "\n",
        "Prob(JB) es menor a 0.05 por lo que se rechaza H0 lo cual quiere decir que los residuos no tienen distribución normal.\n",
        "\n",
        "Este OLS es un mal modelo."
      ],
      "metadata": {
        "id": "TzSOTsuXQ_OP"
      }
    },
    {
      "cell_type": "markdown",
      "source": [
        "**Sklearn**"
      ],
      "metadata": {
        "id": "nKok6FJ5tlzB"
      }
    },
    {
      "cell_type": "code",
      "source": [
        "# separamos nuestra data dos partes para entrenar y para hacer el test.\n",
        "X_train,X_test,y_train,y_test = train_test_split(X,y,test_size=.30,random_state=0)\n",
        "print('Observaciones para el training:',X_train.shape[0],'Observaciones para el test:',X_test.shape[0])"
      ],
      "metadata": {
        "id": "XrwQa4Ayt8xH",
        "colab": {
          "base_uri": "https://localhost:8080/"
        },
        "outputId": "7c630bfc-0036-4904-d8a1-faa35b4e6dc8"
      },
      "execution_count": null,
      "outputs": [
        {
          "output_type": "stream",
          "name": "stdout",
          "text": [
            "Observaciones para el training: 133 Observaciones para el test: 58\n"
          ]
        }
      ]
    },
    {
      "cell_type": "code",
      "source": [
        "model = LinearRegression()\n",
        "model.fit(X_train,y_train)"
      ],
      "metadata": {
        "id": "Zxh1-EequCej",
        "colab": {
          "base_uri": "https://localhost:8080/",
          "height": 75
        },
        "outputId": "37032b38-42a4-4c1c-c971-e70a3208fd71"
      },
      "execution_count": null,
      "outputs": [
        {
          "output_type": "execute_result",
          "data": {
            "text/plain": [
              "LinearRegression()"
            ],
            "text/html": [
              "<style>#sk-container-id-4 {color: black;background-color: white;}#sk-container-id-4 pre{padding: 0;}#sk-container-id-4 div.sk-toggleable {background-color: white;}#sk-container-id-4 label.sk-toggleable__label {cursor: pointer;display: block;width: 100%;margin-bottom: 0;padding: 0.3em;box-sizing: border-box;text-align: center;}#sk-container-id-4 label.sk-toggleable__label-arrow:before {content: \"▸\";float: left;margin-right: 0.25em;color: #696969;}#sk-container-id-4 label.sk-toggleable__label-arrow:hover:before {color: black;}#sk-container-id-4 div.sk-estimator:hover label.sk-toggleable__label-arrow:before {color: black;}#sk-container-id-4 div.sk-toggleable__content {max-height: 0;max-width: 0;overflow: hidden;text-align: left;background-color: #f0f8ff;}#sk-container-id-4 div.sk-toggleable__content pre {margin: 0.2em;color: black;border-radius: 0.25em;background-color: #f0f8ff;}#sk-container-id-4 input.sk-toggleable__control:checked~div.sk-toggleable__content {max-height: 200px;max-width: 100%;overflow: auto;}#sk-container-id-4 input.sk-toggleable__control:checked~label.sk-toggleable__label-arrow:before {content: \"▾\";}#sk-container-id-4 div.sk-estimator input.sk-toggleable__control:checked~label.sk-toggleable__label {background-color: #d4ebff;}#sk-container-id-4 div.sk-label input.sk-toggleable__control:checked~label.sk-toggleable__label {background-color: #d4ebff;}#sk-container-id-4 input.sk-hidden--visually {border: 0;clip: rect(1px 1px 1px 1px);clip: rect(1px, 1px, 1px, 1px);height: 1px;margin: -1px;overflow: hidden;padding: 0;position: absolute;width: 1px;}#sk-container-id-4 div.sk-estimator {font-family: monospace;background-color: #f0f8ff;border: 1px dotted black;border-radius: 0.25em;box-sizing: border-box;margin-bottom: 0.5em;}#sk-container-id-4 div.sk-estimator:hover {background-color: #d4ebff;}#sk-container-id-4 div.sk-parallel-item::after {content: \"\";width: 100%;border-bottom: 1px solid gray;flex-grow: 1;}#sk-container-id-4 div.sk-label:hover label.sk-toggleable__label {background-color: #d4ebff;}#sk-container-id-4 div.sk-serial::before {content: \"\";position: absolute;border-left: 1px solid gray;box-sizing: border-box;top: 0;bottom: 0;left: 50%;z-index: 0;}#sk-container-id-4 div.sk-serial {display: flex;flex-direction: column;align-items: center;background-color: white;padding-right: 0.2em;padding-left: 0.2em;position: relative;}#sk-container-id-4 div.sk-item {position: relative;z-index: 1;}#sk-container-id-4 div.sk-parallel {display: flex;align-items: stretch;justify-content: center;background-color: white;position: relative;}#sk-container-id-4 div.sk-item::before, #sk-container-id-4 div.sk-parallel-item::before {content: \"\";position: absolute;border-left: 1px solid gray;box-sizing: border-box;top: 0;bottom: 0;left: 50%;z-index: -1;}#sk-container-id-4 div.sk-parallel-item {display: flex;flex-direction: column;z-index: 1;position: relative;background-color: white;}#sk-container-id-4 div.sk-parallel-item:first-child::after {align-self: flex-end;width: 50%;}#sk-container-id-4 div.sk-parallel-item:last-child::after {align-self: flex-start;width: 50%;}#sk-container-id-4 div.sk-parallel-item:only-child::after {width: 0;}#sk-container-id-4 div.sk-dashed-wrapped {border: 1px dashed gray;margin: 0 0.4em 0.5em 0.4em;box-sizing: border-box;padding-bottom: 0.4em;background-color: white;}#sk-container-id-4 div.sk-label label {font-family: monospace;font-weight: bold;display: inline-block;line-height: 1.2em;}#sk-container-id-4 div.sk-label-container {text-align: center;}#sk-container-id-4 div.sk-container {/* jupyter's `normalize.less` sets `[hidden] { display: none; }` but bootstrap.min.css set `[hidden] { display: none !important; }` so we also need the `!important` here to be able to override the default hidden behavior on the sphinx rendered scikit-learn.org. See: https://github.com/scikit-learn/scikit-learn/issues/21755 */display: inline-block !important;position: relative;}#sk-container-id-4 div.sk-text-repr-fallback {display: none;}</style><div id=\"sk-container-id-4\" class=\"sk-top-container\"><div class=\"sk-text-repr-fallback\"><pre>LinearRegression()</pre><b>In a Jupyter environment, please rerun this cell to show the HTML representation or trust the notebook. <br />On GitHub, the HTML representation is unable to render, please try loading this page with nbviewer.org.</b></div><div class=\"sk-container\" hidden><div class=\"sk-item\"><div class=\"sk-estimator sk-toggleable\"><input class=\"sk-toggleable__control sk-hidden--visually\" id=\"sk-estimator-id-4\" type=\"checkbox\" checked><label for=\"sk-estimator-id-4\" class=\"sk-toggleable__label sk-toggleable__label-arrow\">LinearRegression</label><div class=\"sk-toggleable__content\"><pre>LinearRegression()</pre></div></div></div></div></div>"
            ]
          },
          "metadata": {},
          "execution_count": 340
        }
      ]
    },
    {
      "cell_type": "code",
      "source": [
        "predictions = model.predict(X_test)\n",
        "\n",
        "\n",
        "print('Puntaje entrenamiento: {}\\n'.format(model.score(X_train,y_train)))\n",
        "print('Puntaje Test: {}\\n'.format(model.score(X_test,y_test)))\n",
        "print(model.intercept_, model.coef_)\n",
        "print('MAE',mean_absolute_error(y_test, predictions)) #mean absolute error\n",
        "print('MSE',mean_squared_error(y_test, predictions))  #mean squared error\n"
      ],
      "metadata": {
        "id": "C2PL4E8LuE_5",
        "colab": {
          "base_uri": "https://localhost:8080/"
        },
        "outputId": "a6f2fce6-193b-4a0a-a3c7-3e8d9d5f9c50"
      },
      "execution_count": null,
      "outputs": [
        {
          "output_type": "stream",
          "name": "stdout",
          "text": [
            "Puntaje entrenamiento: 0.7848735554146498\n",
            "\n",
            "Puntaje Test: 0.804406675167123\n",
            "\n",
            "8.81772035169022 [-8.78106153e-03  1.98217525e-03  3.92737562e-02  6.86477704e-03\n",
            "  6.35183651e-03  2.30758301e-04 -1.91863430e-01  8.07453026e-03\n",
            " -2.73734967e-01 -1.67209999e-01  1.43140892e-02  1.84489506e-03\n",
            "  1.68958894e-05 -1.48087631e-02]\n",
            "MAE 0.15655313682275054\n",
            "MSE 0.03494076034591089\n"
          ]
        }
      ]
    },
    {
      "cell_type": "code",
      "source": [
        "residuos = predictions-y_test\n",
        "result = stats.jarque_bera(residuos)\n",
        "print(\"Jarque-Bera pval=\",result.pvalue)"
      ],
      "metadata": {
        "id": "DnQftn9yuHPf",
        "colab": {
          "base_uri": "https://localhost:8080/"
        },
        "outputId": "285dc161-250b-4211-fd97-1c362861bc25"
      },
      "execution_count": null,
      "outputs": [
        {
          "output_type": "stream",
          "name": "stdout",
          "text": [
            "Jarque-Bera pval= 0.3083171242518704\n"
          ]
        }
      ]
    },
    {
      "cell_type": "markdown",
      "source": [
        "Cometarios:\n",
        "\n",
        "Esta regresión lineal utilizando sklearn muestra muy buenos resultados de entrenamiento y de prueba. De hecho, al haber obtenido un mejor puntaje con los datos de test, habla bien sobre el aprendizaje de este modelo y su desempeño podría estar ligado a la selección aleatoria de las variables.\n",
        "\n",
        "Al igual que con el OLS, varios coeficientes tienen valores muy pequeños lo cual quiere decir que estos no son tan significantes en el modelo.\n",
        "\n",
        "Por último, el valor del p-value en la prueba de Jarque-Bera es mayor a 0.05 así que no se rechaza la hipótesis nula y por tanto la distribución de los residuos no es normal.\n",
        "\n",
        "Al igual que con la técnica de regresión anterior, es necesario seguir ajustando el modelo y el preprocesamiento de los datos ya que los resultados aún no son óptimos."
      ],
      "metadata": {
        "id": "ziMYihlFSQQJ"
      }
    },
    {
      "cell_type": "markdown",
      "source": [
        "# Regresión lineal 2 (Con variables numéricas y categóricas)"
      ],
      "metadata": {
        "id": "VWmWbXv5xMZj"
      }
    },
    {
      "cell_type": "code",
      "source": [
        "# Se le aplica One Hot Encoding a las variables categóricas\n",
        "\n",
        "categorical = df.select_dtypes(include='object').columns\n",
        "one_hot_encoded_data = pd.get_dummies(df[categorical], columns = categorical)\n",
        "y = np.log(df[numeric_cols][\"price\"])\n",
        "numeric_preprocess = df[numeric_cols].iloc[:, :-1]\n",
        "df_preprocess = pd.concat([numeric_preprocess, one_hot_encoded_data, y], axis=1)"
      ],
      "metadata": {
        "id": "Kxh978S5ySBe"
      },
      "execution_count": null,
      "outputs": []
    },
    {
      "cell_type": "code",
      "source": [
        "# Se hace un escalamiento de los datos con MinMaxScaler para que los valores\n",
        "#permanezcan entre 0 y 1\n",
        "from sklearn.preprocessing import MinMaxScaler\n",
        "scaler = MinMaxScaler()\n",
        "transformed = scaler.fit_transform(df_preprocess)\n",
        "transformed_df = pd.DataFrame(transformed)\n",
        "transformed_df.columns = df_preprocess.columns\n",
        "transformed_df"
      ],
      "metadata": {
        "id": "4TMm7mW9UTnv"
      },
      "execution_count": null,
      "outputs": []
    },
    {
      "cell_type": "code",
      "source": [
        "y = transformed_df[\"price\"]\n",
        "X = (transformed_df).drop(\"price\", axis = 1)"
      ],
      "metadata": {
        "id": "997XmGIyWcPz"
      },
      "execution_count": null,
      "outputs": []
    },
    {
      "cell_type": "markdown",
      "source": [
        "**OLS**"
      ],
      "metadata": {
        "id": "krEM1WFBbSsN"
      }
    },
    {
      "cell_type": "code",
      "source": [
        "Xc = sm.add_constant(X) #para obtener la ordenada en el origen\n",
        "model = sm.OLS(y, X) #Ordinary Least Squares\n",
        "results = model.fit()\n",
        "print(results.summary())\n",
        "#results.mse_resid\n",
        "results.rsquared_adj"
      ],
      "metadata": {
        "colab": {
          "base_uri": "https://localhost:8080/"
        },
        "id": "g0oTEIy3bnPv",
        "outputId": "4e606baf-80be-4d38-d758-bd0bc8eae9d8"
      },
      "execution_count": null,
      "outputs": [
        {
          "output_type": "stream",
          "name": "stdout",
          "text": [
            "                            OLS Regression Results                            \n",
            "==============================================================================\n",
            "Dep. Variable:                  price   R-squared:                       0.928\n",
            "Model:                            OLS   Adj. R-squared:                  0.900\n",
            "Method:                 Least Squares   F-statistic:                     33.22\n",
            "Date:                Wed, 13 Sep 2023   Prob (F-statistic):           6.57e-57\n",
            "Time:                        04:23:09   Log-Likelihood:                 256.13\n",
            "No. Observations:                 191   AIC:                            -404.3\n",
            "Df Residuals:                     137   BIC:                            -228.6\n",
            "Df Model:                          53                                         \n",
            "Covariance Type:            nonrobust                                         \n",
            "==========================================================================================\n",
            "                             coef    std err          t      P>|t|      [0.025      0.975]\n",
            "------------------------------------------------------------------------------------------\n",
            "symboling                  0.0451      0.052      0.871      0.386      -0.057       0.147\n",
            "normalized-losses          0.1424      0.061      2.335      0.021       0.022       0.263\n",
            "number_of_doors            0.0473      0.021      2.241      0.027       0.006       0.089\n",
            "width                      0.3580      0.106      3.390      0.001       0.149       0.567\n",
            "height                    -0.0346      0.063     -0.554      0.581      -0.158       0.089\n",
            "curb-weight                0.5624      0.156      3.599      0.000       0.253       0.871\n",
            "num-of-cylinders          -0.1595      0.221     -0.723      0.471      -0.596       0.277\n",
            "engine-size                0.1843      0.190      0.968      0.335      -0.192       0.561\n",
            "bore                      -0.1264      0.112     -1.127      0.262      -0.348       0.095\n",
            "stroke                     0.0147      0.079      0.187      0.852      -0.141       0.170\n",
            "compression-ratio         -0.0571      0.315     -0.181      0.856      -0.680       0.566\n",
            "horsepower                -0.1501      0.242     -0.620      0.536      -0.628       0.328\n",
            "peak-rpm                   0.0032      0.075      0.042      0.966      -0.144       0.151\n",
            "city-mpg                  -0.1115      0.098     -1.135      0.258      -0.306       0.083\n",
            "make_alfa-romero           0.0411      0.075      0.552      0.582      -0.106       0.188\n",
            "make_audi                 -0.0159      0.048     -0.329      0.743      -0.112       0.080\n",
            "make_bmw                   0.2414      0.057      4.259      0.000       0.129       0.353\n",
            "make_chevrolet             0.0030      0.058      0.052      0.959      -0.112       0.118\n",
            "make_dodge                -0.0884      0.037     -2.415      0.017      -0.161      -0.016\n",
            "make_honda                 0.0714      0.061      1.164      0.246      -0.050       0.193\n",
            "make_isuzu                 0.1248      0.051      2.455      0.015       0.024       0.225\n",
            "make_mazda                -0.0026      0.026     -0.100      0.921      -0.055       0.049\n",
            "make_mercedes-benz         0.0689      0.064      1.078      0.283      -0.058       0.195\n",
            "make_mercury               0.0544      0.092      0.593      0.554      -0.127       0.236\n",
            "make_mitsubishi           -0.1425      0.039     -3.656      0.000      -0.220      -0.065\n",
            "make_nissan               -0.0236      0.029     -0.825      0.411      -0.080       0.033\n",
            "make_peugot               -0.2406      0.104     -2.311      0.022      -0.446      -0.035\n",
            "make_plymouth             -0.1082      0.039     -2.782      0.006      -0.185      -0.031\n",
            "make_porsche               0.2063      0.088      2.331      0.021       0.031       0.381\n",
            "make_renault              -0.1466      0.063     -2.313      0.022      -0.272      -0.021\n",
            "make_saab                  0.0334      0.056      0.600      0.550      -0.077       0.144\n",
            "make_subaru                0.0142      0.026      0.540      0.590      -0.038       0.066\n",
            "make_toyota               -0.0464      0.024     -1.971      0.051      -0.093       0.000\n",
            "make_volkswagen           -0.0738      0.036     -2.068      0.040      -0.144      -0.003\n",
            "make_volvo                 0.0585      0.047      1.234      0.219      -0.035       0.152\n",
            "fuel_type_diesel           0.0408      0.109      0.374      0.709      -0.175       0.257\n",
            "fuel_type_gas             -0.0119      0.074     -0.162      0.871      -0.157       0.134\n",
            "aspiration_std            -0.0154      0.055     -0.281      0.779      -0.124       0.093\n",
            "aspiration_turbo           0.0443      0.053      0.844      0.400      -0.060       0.148\n",
            "body-style_convertible     0.1212      0.048      2.543      0.012       0.027       0.215\n",
            "body-style_hardtop        -0.0397      0.042     -0.941      0.348      -0.123       0.044\n",
            "body-style_hatchback      -0.0261      0.024     -1.070      0.287      -0.074       0.022\n",
            "body-style_sedan          -0.0053      0.026     -0.201      0.841      -0.057       0.046\n",
            "body-style_wagon          -0.0212      0.033     -0.649      0.518      -0.086       0.043\n",
            "drive-wheels_4wd          -0.0138      0.040     -0.342      0.733      -0.093       0.066\n",
            "drive-wheels_fwd           0.0173      0.036      0.477      0.634      -0.055       0.089\n",
            "drive-wheels_rwd           0.0253      0.047      0.544      0.587      -0.067       0.117\n",
            "engine-location_front  -6.733e-17   1.51e-16     -0.444      0.657   -3.67e-16    2.32e-16\n",
            "engine-type_dohc           0.0843      0.047      1.793      0.075      -0.009       0.177\n",
            "engine-type_dohcv         -0.4711      0.170     -2.778      0.006      -0.806      -0.136\n",
            "engine-type_l              0.1304      0.097      1.338      0.183      -0.062       0.323\n",
            "engine-type_ohc            0.0434      0.040      1.096      0.275      -0.035       0.122\n",
            "engine-type_ohcf           0.0142      0.026      0.540      0.590      -0.038       0.066\n",
            "engine-type_ohcv           0.0390      0.057      0.683      0.496      -0.074       0.152\n",
            "engine-type_rotor          0.1887      0.110      1.718      0.088      -0.028       0.406\n",
            "fuel-system_1bbl          -0.0630      0.062     -1.017      0.311      -0.185       0.059\n",
            "fuel-system_2bbl           0.0072      0.027      0.263      0.793      -0.047       0.062\n",
            "fuel-system_4bbl          -0.0527      0.081     -0.652      0.515      -0.212       0.107\n",
            "fuel-system_idi            0.0408      0.109      0.374      0.709      -0.175       0.257\n",
            "fuel-system_mfi            0.0378      0.082      0.462      0.645      -0.124       0.199\n",
            "fuel-system_mpfi           0.0735      0.029      2.505      0.013       0.015       0.132\n",
            "fuel-system_spdi           0.0869      0.044      1.970      0.051      -0.000       0.174\n",
            "fuel-system_spfi          -0.1017      0.085     -1.196      0.234      -0.270       0.066\n",
            "==============================================================================\n",
            "Omnibus:                       15.459   Durbin-Watson:                   1.622\n",
            "Prob(Omnibus):                  0.000   Jarque-Bera (JB):               37.096\n",
            "Skew:                          -0.280   Prob(JB):                     8.80e-09\n",
            "Kurtosis:                       5.085   Cond. No.                     1.14e+16\n",
            "==============================================================================\n",
            "\n",
            "Notes:\n",
            "[1] Standard Errors assume that the covariance matrix of the errors is correctly specified.\n",
            "[2] The smallest eigenvalue is 8.93e-30. This might indicate that there are\n",
            "strong multicollinearity problems or that the design matrix is singular.\n"
          ]
        },
        {
          "output_type": "execute_result",
          "data": {
            "text/plain": [
              "0.8998748930384635"
            ]
          },
          "metadata": {},
          "execution_count": 366
        }
      ]
    },
    {
      "cell_type": "markdown",
      "source": [
        "Comentarios:\n",
        "\n",
        "- Multicolinealidad: tal y como lo indica el resumen del OLS, podría haber una alto correlación entre las variables que quedan, perjudicando con resultados del modelo.\n",
        "- Jarque Bera: Prob(JB) es menor a 0.05 por lo que se rechaza H0 lo cual quiere decir que los residuos no tienen distribución normal.\n",
        "- R^2 y R^2 Adj: 0.98 y 0.90 respectivamente. Estos valores ya no parecen demostrar un overfitting pero permanecen bastante altos.\n",
        "- Prob (F-statistic):"
      ],
      "metadata": {
        "id": "QPIaBeuFyrew"
      }
    },
    {
      "cell_type": "markdown",
      "source": [
        "**Conclusión:**\n",
        "\n",
        "El mejor modelo es la regresión lineal con sklearn y únicamente con las variables numéricas por los buenos resultados que demostró el puntaje de test. Aún así, sería fundamental seguir desarrollando cada uno de los modelos porque hay características como la multicolinealidad y la distribución de los residuos que aún no cumplen con los supuestos de una regresión lineal. Como siguientes pasos que se sugieren está:\n",
        "\n",
        "- Realizar la eliminación de variables correlacionadas posterior al escalamiento de los datos.\n",
        "- Probar con otros modelos de regresión."
      ],
      "metadata": {
        "id": "AA6hyIAAy-cI"
      }
    }
  ]
}